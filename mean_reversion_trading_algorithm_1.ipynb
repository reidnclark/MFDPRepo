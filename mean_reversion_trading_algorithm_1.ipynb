{
  "cells": [
    {
      "cell_type": "markdown",
      "metadata": {
        "id": "view-in-github",
        "colab_type": "text"
      },
      "source": [
        "<a href=\"https://colab.research.google.com/github/reidnclark/MFDPRepo/blob/main/mean_reversion_trading_algorithm_1.ipynb\" target=\"_parent\"><img src=\"https://colab.research.google.com/assets/colab-badge.svg\" alt=\"Open In Colab\"/></a>"
      ]
    },
    {
      "cell_type": "markdown",
      "source": [
        "# **Multipurpose Financial Data Processor (MFDP)**\n",
        "---\n",
        "\n",
        "### Contents Summary:"
      ],
      "metadata": {
        "id": "l_jTWHjaMJRT"
      }
    },
    {
      "cell_type": "markdown",
      "source": [
        "|Analysis Section|Values|\n",
        "|-|-|\n",
        "|**1. Company Overview**|- Competitive Position|\n",
        "|------------------------------------------------------------------|-------------------------------------------------------------------------------------------------------------------------|\n",
        "|**2. Financial Statements Analysis**|- **Income Statement**|\n",
        "||----- Revenue Growth Rate|\n",
        "||----- Profit Margins (Gross, Operating, Net)|\n",
        "||----- Earnings Per Share (EPS) & EPS Growth|\n",
        "||- **Balance Sheet**|\n",
        "||----- Debt-to-Equity Ratio|\n",
        "||- **Cash Flow Statement**|\n",
        "||----- Cash Flow from Operating Activities|\n",
        "||----- Cash Flow from Investing and Financing Activities|\n",
        "||----- Free Cash Flow Analysis|\n",
        "|------------------------------------------------------------------|-------------------------------------------------------------------------------------------------------------------------|\n",
        "|**3. Key Financial Ratios**|- **Profitability Ratios**|\n",
        "||----- Return-on-Equity (ROE)|\n",
        "||----- Return-on-Assets (ROA)|\n",
        "||----- Net Profit Margin|\n",
        "||- **Liquidity Ratios**|\n",
        "||----- Current Ratio|\n",
        "||----- Quick Ratio|\n",
        "||- **Efficiency Ratios**|\n",
        "||----- Asset Turnover Ratio|\n",
        "||----- Inventory Turnover Ratio|\n",
        "||- **Leverage Ratios**|\n",
        "||----- Debt-to-Equity Ratio|\n",
        "||----- Interest Coverage Ratio|\n",
        "|------------------------------------------------------------------|-------------------------------------------------------------------------------------------------------------------------|\n",
        "|**3. Valuation**|- Price-to-Earnings|\n",
        "||- Price-to-Book|\n",
        "||- Discounted Cash Flow (DCF) Analysis|\n",
        "||- **Other Valuation Models**|\n",
        "||----- Dividend Discount Model (DDM)|\n",
        "||----- EBITDA Multiples|\n",
        "|------------------------------------------------------------------|-------------------------------------------------------------------------------------------------------------------------|\n",
        "|**4. Qualitative Analysis**|- Price-to-Earnings|\n",
        "||- Price-to-Book|\n",
        "||- Discounted Cash Flow (DCF) Analysis|\n",
        "||- **Other Valuation Models**|\n",
        "||----- Dividend Discount Model (DDM)|\n",
        "||----- EBITDA Multiples|"
      ],
      "metadata": {
        "id": "wodUAAULUHRa"
      }
    },
    {
      "cell_type": "markdown",
      "source": [
        "---\n",
        "# **1) Fundamental Analysis**"
      ],
      "metadata": {
        "id": "86rKvPXsM2MD"
      }
    },
    {
      "cell_type": "markdown",
      "source": [
        "#### Import Libraries:"
      ],
      "metadata": {
        "id": "U6pRR5gILulD"
      }
    },
    {
      "cell_type": "code",
      "source": [
        "import yfinance as yf\n",
        "import pandas as pd\n",
        "from babel.numbers import format_currency, format_percent"
      ],
      "metadata": {
        "id": "cpLkehRvLCTY"
      },
      "execution_count": 1106,
      "outputs": []
    },
    {
      "cell_type": "markdown",
      "source": [
        "---\n",
        "#### **Input Arguments**:"
      ],
      "metadata": {
        "id": "h2dXSLzgL3ZH"
      }
    },
    {
      "cell_type": "markdown",
      "source": [
        "# Long Stocks:\n",
        "- ### Siemens Energy AG (ENR)\n",
        "- ### Nutrien (NTR)\n",
        "- ### Shin-Etsu Chemical Co. Ltd. (SHECY)\n",
        "- ### Taiwan Semiconductor Mfg. Co. Ltd. (TSM)\n",
        "- ### Canadian Natural Resources Limited (CNQ)\n",
        "- ### Dollarama (DOL.TO)\n",
        "\n",
        "\n",
        "---"
      ],
      "metadata": {
        "id": "r2mTDJCIdkGO"
      }
    },
    {
      "cell_type": "markdown",
      "source": [
        "#### Inputs:"
      ],
      "metadata": {
        "id": "VuuNWnOUEEMC"
      }
    },
    {
      "cell_type": "code",
      "source": [
        "ticker_input = 'DOL.TO'\n",
        "financial_attributes_input = ['EBITDA'] # just use one for forecaster\n",
        "cashflow_attributes_input = ['Free Cash Flow'] # ditto above\n",
        "balsheet_attributes_input = ['Total Debt']\n",
        "basic_attributes_input = ['beta', 'marketCap', 'sharesOutstanding']"
      ],
      "metadata": {
        "id": "tG2lIO-QCKQA"
      },
      "execution_count": 1121,
      "outputs": []
    },
    {
      "cell_type": "markdown",
      "source": [
        "---\n",
        "# **2) DCF Model**"
      ],
      "metadata": {
        "id": "7TGRWWopsPMK"
      }
    },
    {
      "cell_type": "markdown",
      "source": [
        "#### Get Data Function:"
      ],
      "metadata": {
        "id": "rIebaBLyBL_t"
      }
    },
    {
      "cell_type": "code",
      "source": [
        "def get_basic_data(attributes_data, attributes_input):\n",
        "    basic_data_dict = {}\n",
        "    for attr in attributes_input:\n",
        "      basic_data_dict[attr] = attributes_data.get(attr)\n",
        "    return basic_data_dict\n",
        "\n",
        "def get_attr_hist_data(attributes_data, attributes_input):\n",
        "    for attr in attributes_input:\n",
        "      attr_hist_data = attributes_data.loc[attr].dropna()\n",
        "    return attr_hist_data\n",
        "\n",
        "def forecast(attr_hist_data):\n",
        "    initial_value = attr_hist_data.iloc[-1]\n",
        "    ending_value = attr_hist_data.iloc[0]\n",
        "    #compound annual growth rate\n",
        "    cagr = ((ending_value / initial_value)**(1/len(attr_hist_data))) - 1\n",
        "    print(f'cagr of {attr_hist_data.name}: {cagr*100}%')\n",
        "    forecasted_list = []\n",
        "    for i in range(len(attr_hist_data)):\n",
        "      forecast_value = ending_value * ((1+cagr)**(i+1))\n",
        "      forecasted_list.append(forecast_value)\n",
        "    return forecasted_list\n",
        "\n",
        "def get_data(ticker_input: tuple,\n",
        "             financial_attributes_input: list[str],\n",
        "             cashflow_attributes_input: list[str],\n",
        "             balsheet_attributes_input: list[str],\n",
        "             basic_attributes_input: list[str]):\n",
        "\n",
        "  yf_ticker = yf.Ticker(ticker_input)\n",
        "\n",
        "  financial_attributes = yf_ticker.financials\n",
        "  financial_attributes_hist_data = get_attr_hist_data(financial_attributes, financial_attributes_input)\n",
        "\n",
        "  forecasted_list_financials = forecast(financial_attributes_hist_data)\n",
        "\n",
        "  cashflow_attributes = yf_ticker.cashflow\n",
        "  cashflow_attributes_hist_data = get_attr_hist_data(cashflow_attributes, cashflow_attributes_input)\n",
        "  forecasted_list_cashflow = forecast(cashflow_attributes_hist_data)\n",
        "\n",
        "  balsheet_attributes = yf_ticker.balance_sheet\n",
        "  balsheet_attributes_hist_data = get_attr_hist_data(balsheet_attributes, balsheet_attributes_input).iloc[0]\n",
        "\n",
        "  basic_attributes = yf_ticker.info\n",
        "  basic_attributes_hist_data = get_basic_data(basic_attributes, basic_attributes_input)\n",
        "\n",
        "  return forecasted_list_financials, forecasted_list_cashflow, balsheet_attributes_hist_data, basic_attributes_hist_data, yf_ticker\n",
        "\n",
        "forecasted_list_financials, forecasted_list_cashflow, balsheet_attributes_hist_data, basic_attributes_hist_data, yf_ticker = get_data(ticker_input,\n",
        "                                                                           financial_attributes_input,\n",
        "                                                                           cashflow_attributes_input,\n",
        "                                                                           balsheet_attributes_input,\n",
        "                                                                           basic_attributes_input\n",
        "                                                                                      )\n",
        "\n",
        "\n",
        "interest_expense = (yf_ticker.income_stmt.loc['Interest Expense'].iloc[0])\n",
        "\n",
        "beta = basic_attributes_hist_data['beta']\n",
        "total_equity = basic_attributes_hist_data['marketCap']\n",
        "total_shares = basic_attributes_hist_data['sharesOutstanding']\n",
        "\n",
        "total_debt = (yf_ticker.balance_sheet.loc['Total Debt'].iloc[0])\n",
        "cost_of_debt = interest_expense / total_debt\n",
        "total_cash = (yf_ticker.balance_sheet.loc['Cash And Cash Equivalents'].iloc[0])"
      ],
      "metadata": {
        "id": "GGaKpxR7BK_L",
        "colab": {
          "base_uri": "https://localhost:8080/"
        },
        "outputId": "34224f45-10ce-4d36-8280-bc2babc7169b"
      },
      "execution_count": 1122,
      "outputs": [
        {
          "output_type": "stream",
          "name": "stdout",
          "text": [
            "cagr of EBITDA: 13.676499242077899%\n",
            "cagr of Free Cash Flow: 14.806406302251318%\n"
          ]
        }
      ]
    },
    {
      "cell_type": "markdown",
      "source": [
        "#### Get Beta, Total Equity, Total Debt, Cost of Debt, Cash, Shares Outstanding:"
      ],
      "metadata": {
        "id": "bOH1Dxd6zL0u"
      }
    },
    {
      "cell_type": "markdown",
      "source": [
        "##### CAPM Formula Function:\n",
        "#### Compute the Expected Eeturn ( *E ( x )* )of investment given:\n",
        "---\n",
        "\n",
        "#### 1. **Risk-free interest Rate (R)** (% Yield on a 1-yr Government Bond)\n",
        "#### 2. **Beta (B)**\n",
        "\n"
      ],
      "metadata": {
        "id": "fatE1hOFwfe2"
      }
    },
    {
      "cell_type": "code",
      "source": [
        "r_f = 0.0475 # risk-free rate ( return subscript f, % )\n",
        "b_i = beta # beta ( beta subscript i, ration )\n",
        "e__r_m = 0.10 # expected market return ( e(return subscript m, %) )\n",
        "\n",
        "e__r_i = r_f + b_i*(e__r_m - r_f) # expected return on investment\n",
        "e__r_i"
      ],
      "metadata": {
        "id": "gXPxGV32y1V-",
        "colab": {
          "base_uri": "https://localhost:8080/"
        },
        "outputId": "1939fe75-a463-4e0c-baec-d27f636e9058"
      },
      "execution_count": 1123,
      "outputs": [
        {
          "output_type": "execute_result",
          "data": {
            "text/plain": [
              "0.0766375"
            ]
          },
          "metadata": {},
          "execution_count": 1123
        }
      ]
    },
    {
      "cell_type": "markdown",
      "source": [
        "#### **WACC** Formula Function:\n",
        "*Also known as \"Weighted Average Cost of Capital\"*\n",
        "\n",
        "---"
      ],
      "metadata": {
        "id": "M3rQMcXqx1mx"
      }
    },
    {
      "cell_type": "code",
      "source": [
        "E = total_equity\n",
        "D = total_debt\n",
        "R_e = e__r_i # capm result\n",
        "R_d = cost_of_debt\n",
        "\n",
        "T = 0.25 # tax rate\n",
        "\n",
        "wacc = (E / (E+D))*R_e + (D / (E+D))*R_d*(1-T) # weighted average cost of capital\n",
        "wacc"
      ],
      "metadata": {
        "id": "s48VoPMuyC9i",
        "colab": {
          "base_uri": "https://localhost:8080/"
        },
        "outputId": "30eff020-59bf-44bd-c086-ee260ab65d10"
      },
      "execution_count": 1124,
      "outputs": [
        {
          "output_type": "execute_result",
          "data": {
            "text/plain": [
              "0.07192035399638713"
            ]
          },
          "metadata": {},
          "execution_count": 1124
        }
      ]
    },
    {
      "cell_type": "markdown",
      "source": [
        "#### **Terminal Value (TV)** Formula Function:\n",
        "\n",
        "---"
      ],
      "metadata": {
        "id": "Q6gPJtSv4dps"
      }
    },
    {
      "cell_type": "code",
      "source": [
        "fcf_n = forecasted_list_cashflow[-1] # value of final year in fcf forecast\n",
        "g = 0.03 # perpetual growth rate (can use GDP growth estimate per year, (3 %), or ind.)\n",
        "\n",
        "tv = (fcf_n * (1+g)) / (wacc - g)\n",
        "\n",
        "def format_dollar(amount):\n",
        "    \"\"\"Format an integer as a dollar amount.\"\"\"\n",
        "    return f\"${amount:,.2f}\"\n",
        "\n",
        "format_dollar(tv)\n",
        "# in later version, add in tv financial metric multiple to find average. for now can just use perp."
      ],
      "metadata": {
        "id": "9BxOiywD4kZp",
        "colab": {
          "base_uri": "https://localhost:8080/",
          "height": 0
        },
        "outputId": "56e143ff-a439-4789-acc1-e8514332ae74"
      },
      "execution_count": 1125,
      "outputs": [
        {
          "output_type": "execute_result",
          "data": {
            "text/plain": [
              "'$53,449,913,358.98'"
            ],
            "application/vnd.google.colaboratory.intrinsic+json": {
              "type": "string"
            }
          },
          "metadata": {},
          "execution_count": 1125
        }
      ]
    },
    {
      "cell_type": "markdown",
      "source": [
        "#### **Discount** Function and Ent, Eq:\n",
        "\n",
        "---"
      ],
      "metadata": {
        "id": "QPmW-yWz-JsT"
      }
    },
    {
      "cell_type": "code",
      "source": [
        "pv_of_fcfs = []\n",
        "discount_factors = []\n",
        "for i in range(len(forecasted_list_cashflow)):\n",
        "  discount_factor = (1 / ((1+wacc)**(i+1)))\n",
        "  discount_factors.append(discount_factor)\n",
        "  fcf_at_i = discount_factor * forecasted_list_cashflow[i]\n",
        "  pv_of_fcfs.append(fcf_at_i)\n",
        "\n",
        "pv_of_tv = discount_factors[-1]*tv\n",
        "\n",
        "enterprise_value = (sum(pv_of_fcfs)) + pv_of_tv\n",
        "\n",
        "equity_value = enterprise_value - total_debt + total_cash\n",
        "\n",
        "share_price = equity_value / total_shares\n",
        "#share_price\n",
        "#pv_of_fcfs\n",
        "#tv\n",
        "#pv_of_tv"
      ],
      "metadata": {
        "id": "hwX-GVYf-NoJ"
      },
      "execution_count": 1126,
      "outputs": []
    },
    {
      "cell_type": "markdown",
      "source": [
        "#### **Resulting Share Price**:\n",
        "\n",
        "---"
      ],
      "metadata": {
        "id": "5A-ac1Ub-ava"
      }
    },
    {
      "cell_type": "code",
      "source": [
        "print(f'Intrinsic Price: ${share_price}')\n",
        "print('------------------------------------')\n",
        "current_price = yf_ticker.history(period='1d')['Close'].iloc[0]\n",
        "print(f'Current Price: ${round((current_price),2)}')"
      ],
      "metadata": {
        "colab": {
          "base_uri": "https://localhost:8080/"
        },
        "id": "lQPwaYtHBwfn",
        "outputId": "3ffa30a2-f9e5-4a66-c52b-454edde20ef5"
      },
      "execution_count": 1127,
      "outputs": [
        {
          "output_type": "stream",
          "name": "stdout",
          "text": [
            "Intrinsic Price: $150.57746293844858\n",
            "------------------------------------\n",
            "Current Price: $140.13\n"
          ]
        }
      ]
    }
  ],
  "metadata": {
    "colab": {
      "provenance": [],
      "collapsed_sections": [
        "l_jTWHjaMJRT",
        "U6pRR5gILulD",
        "GCrz1MqvLzzj",
        "h2dXSLzgL3ZH",
        "xnHORmd-L5fM",
        "XsvClLMZoZ7h",
        "fatE1hOFwfe2",
        "M3rQMcXqx1mx",
        "Q6gPJtSv4dps",
        "QPmW-yWz-JsT",
        "sNQBzu22NOIz",
        "cjueoV-NP09H",
        "LKI30kvA9Pwt",
        "ZVDM8sSl8VI8",
        "BRGV1Zfb8ypB",
        "LT5ypig182lq",
        "4snM5Mx7ArJw"
      ],
      "authorship_tag": "ABX9TyNPhdnwLtdvDlvvUnQi5lz6",
      "include_colab_link": true
    },
    "kernelspec": {
      "display_name": "Python 3",
      "name": "python3"
    },
    "language_info": {
      "name": "python"
    }
  },
  "nbformat": 4,
  "nbformat_minor": 0
}