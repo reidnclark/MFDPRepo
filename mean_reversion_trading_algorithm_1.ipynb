{
  "cells": [
    {
      "cell_type": "markdown",
      "metadata": {
        "id": "view-in-github",
        "colab_type": "text"
      },
      "source": [
        "<a href=\"https://colab.research.google.com/github/reidnclark/MFDPRepo/blob/main/mean_reversion_trading_algorithm_1.ipynb\" target=\"_parent\"><img src=\"https://colab.research.google.com/assets/colab-badge.svg\" alt=\"Open In Colab\"/></a>"
      ]
    },
    {
      "cell_type": "markdown",
      "source": [
        "side notes\n",
        "- Term-End Poster\n",
        "- Instead of attempting to adjust variables in the traditional DCF model due to insider info missing, I will try to address over 50% of the discrepancy in stock prices by analyzing the price history"
      ],
      "metadata": {
        "id": "DFY7_UVxJgm7"
      }
    },
    {
      "cell_type": "markdown",
      "source": [
        "side notes\n",
        "- AI DJ:\n",
        "-- if an audience member requests a song, along with an offer to pay for the song to occur...\n",
        "-- need to have a live, adaptive neural network that measures risk and reward throughout your perfomrances. It is initially setup with variables at the beginnning too, though."
      ],
      "metadata": {
        "id": "upZGPZ_xi59K"
      }
    },
    {
      "cell_type": "markdown",
      "source": [
        "# **Multipurpose Financial Data Processor (MFDP)**\n",
        "---\n",
        "\n",
        "### Contents Summary:"
      ],
      "metadata": {
        "id": "l_jTWHjaMJRT"
      }
    },
    {
      "cell_type": "markdown",
      "source": [
        "|Analysis Section|Values|\n",
        "|-|-|\n",
        "|**1. Company Overview**|- Competitive Position|\n",
        "|------------------------------------------------------------------|-------------------------------------------------------------------------------------------------------------------------|\n",
        "|**2. Financial Statements Analysis**|- **Income Statement**|\n",
        "||----- Revenue Growth Rate|\n",
        "||----- Profit Margins (Gross, Operating, Net)|\n",
        "||----- Earnings Per Share (EPS) & EPS Growth|\n",
        "||- **Balance Sheet**|\n",
        "||----- Debt-to-Equity Ratio|\n",
        "||- **Cash Flow Statement**|\n",
        "||----- Cash Flow from Operating Activities|\n",
        "||----- Cash Flow from Investing and Financing Activities|\n",
        "||----- Free Cash Flow Analysis|\n",
        "|------------------------------------------------------------------|-------------------------------------------------------------------------------------------------------------------------|\n",
        "|**3. Key Financial Ratios**|- **Profitability Ratios**|\n",
        "||----- Return-on-Equity (ROE)|\n",
        "||----- Return-on-Assets (ROA)|\n",
        "||----- Net Profit Margin|\n",
        "||- **Liquidity Ratios**|\n",
        "||----- Current Ratio|\n",
        "||----- Quick Ratio|\n",
        "||- **Efficiency Ratios**|\n",
        "||----- Asset Turnover Ratio|\n",
        "||----- Inventory Turnover Ratio|\n",
        "||- **Leverage Ratios**|\n",
        "||----- Debt-to-Equity Ratio|\n",
        "||----- Interest Coverage Ratio|\n",
        "|------------------------------------------------------------------|-------------------------------------------------------------------------------------------------------------------------|\n",
        "|**3. Valuation**|- Price-to-Earnings|\n",
        "||- Price-to-Book|\n",
        "||- Discounted Cash Flow (DCF) Analysis|\n",
        "||- **Other Valuation Models**|\n",
        "||----- Dividend Discount Model (DDM)|\n",
        "||----- EBITDA Multiples|\n",
        "|------------------------------------------------------------------|-------------------------------------------------------------------------------------------------------------------------|\n",
        "|**4. Qualitative Analysis**|- Price-to-Earnings|\n",
        "||- Price-to-Book|\n",
        "||- Discounted Cash Flow (DCF) Analysis|\n",
        "||- **Other Valuation Models**|\n",
        "||----- Dividend Discount Model (DDM)|\n",
        "||----- EBITDA Multiples|"
      ],
      "metadata": {
        "id": "wodUAAULUHRa"
      }
    },
    {
      "cell_type": "markdown",
      "source": [
        "---\n",
        "# **1) Fundamental Analysis**"
      ],
      "metadata": {
        "id": "86rKvPXsM2MD"
      }
    },
    {
      "cell_type": "markdown",
      "source": [
        "#### Import Libraries:"
      ],
      "metadata": {
        "id": "U6pRR5gILulD"
      }
    },
    {
      "cell_type": "code",
      "source": [
        "import yfinance as yf\n",
        "import pandas as pd\n",
        "from babel.numbers import format_currency, format_percent"
      ],
      "metadata": {
        "id": "cpLkehRvLCTY"
      },
      "execution_count": null,
      "outputs": []
    },
    {
      "cell_type": "markdown",
      "source": [
        "#### Get Data Function (Fundamental Analysis, All):"
      ],
      "metadata": {
        "id": "GCrz1MqvLzzj"
      }
    },
    {
      "cell_type": "code",
      "source": [
        "def get_data(portfolio: list[str],\n",
        "             basic_attributes: list[str],\n",
        "             basic_monetary_attributes: list[str],\n",
        "             basic_percentage_attributes: list[str],\n",
        "             income_stmt_attributes: list[str],\n",
        "             bal_sheet_attributes: list[str],\n",
        "             cash_flow_attributes: list[str]) -> pd.DataFrame:\n",
        "\n",
        "\n",
        "    combined_data = {}\n",
        "\n",
        "    for ticker_symbol in portfolio:\n",
        "\n",
        "        ticker = yf.Ticker(ticker_symbol)\n",
        "\n",
        "        company_name = ticker.info.get('longName', ticker_symbol)\n",
        "\n",
        "        basic_info = ticker.info\n",
        "        basic_info_data = {attr: basic_info[attr] for attr in basic_attributes}\n",
        "\n",
        "        basic_info_monetary_data = {\n",
        "            attr: format_currency(basic_info[attr], 'USD', locale='en_US')\n",
        "            for attr in basic_monetary_attributes\n",
        "        }\n",
        "\n",
        "        basic_info_percentage_data = {\n",
        "            attr: format_percent(basic_info[attr], format=\"#,##0.00%\", locale='en_US')\n",
        "            for attr in basic_percentage_attributes\n",
        "        }\n",
        "\n",
        "        income_stmt = ticker.quarterly_income_stmt\n",
        "        income_stmt_data = {\n",
        "            attr: format_currency(income_stmt.loc[attr].iloc[0], 'USD', locale='en_US')\n",
        "            for attr in income_stmt_attributes\n",
        "        }\n",
        "\n",
        "        bal_sheet = ticker.quarterly_balance_sheet\n",
        "        bal_sheet_data = {\n",
        "            attr: format_currency(bal_sheet.loc[attr].iloc[0], 'USD', locale='en_US')\n",
        "            for attr in bal_sheet_attributes\n",
        "        }\n",
        "\n",
        "        cash_flow = ticker.quarterly_cashflow\n",
        "        cash_flow_data = {\n",
        "            attr: format_currency(cash_flow.loc[attr].iloc[0], 'USD', locale='en_US')\n",
        "            for attr in cash_flow_attributes\n",
        "        }\n",
        "\n",
        "        # Organize df here\n",
        "        combined_data[f\"{company_name} ({ticker_symbol})\"] = {\n",
        "            **basic_info_monetary_data,\n",
        "            **income_stmt_data,\n",
        "            **basic_info_percentage_data,\n",
        "            **basic_info_data,\n",
        "            **bal_sheet_data, # nothin here yet, bal_sheet inputs are empty\n",
        "            **cash_flow_data,\n",
        "        }\n",
        "\n",
        "\n",
        "    combined_df = pd.DataFrame.from_dict(combined_data, orient='index')\n",
        "\n",
        "    return combined_df"
      ],
      "metadata": {
        "id": "T7Orpdg2LDLy"
      },
      "execution_count": null,
      "outputs": []
    },
    {
      "cell_type": "markdown",
      "source": [
        "---\n",
        "#### **Input Arguments**:"
      ],
      "metadata": {
        "id": "h2dXSLzgL3ZH"
      }
    },
    {
      "cell_type": "code",
      "source": [
        "portfolio = ['GOLD', 'KGC', 'AEM', 'WPM']\n",
        "\n",
        "# shorthand legend:\n",
        "# SE = Shareholders' Equity\n",
        "# TTM = Trailing Twelve Months\n",
        "\n",
        "basic_attributes = ['trailingPE',\n",
        "                    'forwardPE', # this is based on something from yfinance, possibly analyst consensus.\n",
        "                    # in a future version replace forward PE with a manual analysis.\n",
        "                    'priceToBook', # how much investors are willing to pay for each dollar worth of assets.\n",
        "                    'debtToEquity', # (Total Debt / Total Equity)\n",
        "                    'currentRatio', # ability to pay off short-term liabilities, considering all assets.\n",
        "                    'quickRatio', # ability to pay off short-term liabilites, considering most-liquid assets.\n",
        "                    #'interestCoverage'\n",
        "                    #'assetTurnover', # efficiency ratio of converting assets to generate sales revenue.\n",
        "                    #'inventoryTurnover' # efficiency ratio of converting inventory into sales, for 12-mo period.\n",
        "                    # may have to calc both turnovers manually using manual bal sheet data\n",
        "                    ]\n",
        "\n",
        "# basic_monetary_attributes is for basic attributes that you want formatted as currency.\n",
        "basic_monetary_attributes = ['marketCap',\n",
        "                             'trailingEps',\n",
        "                             ]\n",
        "\n",
        "# ditto but if you want format it as percent.\n",
        "basic_percentage_attributes = ['profitMargins', # growth rate of previous 12-months (%).\n",
        "                               'returnOnEquity', # shareholders' return, per every dollar of profit. (Net Income / SE)\n",
        "                               'returnOnAssets', # profit earned per every dollar of assets. (Net Income / Total Assets)\n",
        "                               ]\n",
        "\n",
        "income_stmt_attributes = ['Basic EPS',\n",
        "                          'Gross Profit',\n",
        "                          'Net Income']\n",
        "\n",
        "bal_sheet_attributes = []\n",
        "\n",
        "cash_flow_attributes = ['Free Cash Flow',\n",
        "                        'Operating Cash Flow',\n",
        "                        'Financing Cash Flow',\n",
        "                        'Investing Cash Flow',\n",
        "                        ]"
      ],
      "metadata": {
        "id": "nzWZna2jJThO"
      },
      "execution_count": null,
      "outputs": []
    },
    {
      "cell_type": "markdown",
      "source": [
        "---\n",
        "### Access Results\n",
        "---"
      ],
      "metadata": {
        "id": "xnHORmd-L5fM"
      }
    },
    {
      "cell_type": "code",
      "source": [
        "combined_data_df = get_data(portfolio,\n",
        "                            basic_attributes,\n",
        "                            basic_monetary_attributes,\n",
        "                            basic_percentage_attributes,\n",
        "                            income_stmt_attributes,\n",
        "                            bal_sheet_attributes,\n",
        "                            cash_flow_attributes,\n",
        "                            )\n",
        "\n",
        "#combined_data_df.sort_values(by=['marketCap'], ascending=False, inplace=True)\n",
        "combined_data_df.sort_values(by=['marketCap'], ascending=False, inplace=True)\n",
        "# uses inplace=True to directly modify the df, rather than assigning it back to a variable."
      ],
      "metadata": {
        "id": "2YhnYC1zLLC1"
      },
      "execution_count": null,
      "outputs": []
    },
    {
      "cell_type": "markdown",
      "source": [
        "### **Print Results**:\n",
        "---"
      ],
      "metadata": {
        "id": "XsvClLMZoZ7h"
      }
    },
    {
      "cell_type": "code",
      "source": [
        "combined_data_df"
      ],
      "metadata": {
        "colab": {
          "base_uri": "https://localhost:8080/"
        },
        "id": "RkR6PgEZoghU",
        "outputId": "707af013-8ad9-40dd-e614-6eeee633d711"
      },
      "execution_count": null,
      "outputs": [
        {
          "output_type": "execute_result",
          "data": {
            "text/plain": [
              "                                              marketCap trailingEps Basic EPS  \\\n",
              "Agnico Eagle Mines Limited (AEM)     $39,958,581,248.00       $1.16     $0.95   \n",
              "Barrick Gold Corporation (GOLD)      $35,326,611,456.00       $0.86     $0.21   \n",
              "Wheaton Precious Metals Corp. (WPM)  $27,788,126,208.00       $1.26     $0.27   \n",
              "Kinross Gold Corporation (KGC)       $12,178,146,304.00       $0.40     $0.17   \n",
              "\n",
              "                                          Gross Profit       Net Income  \\\n",
              "Agnico Eagle Mines Limited (AEM)       $926,248,000.00  $472,016,000.00   \n",
              "Barrick Gold Corporation (GOLD)      $1,183,000,000.00  $370,000,000.00   \n",
              "Wheaton Precious Metals Corp. (WPM)    $186,192,000.00  $122,317,000.00   \n",
              "Kinross Gold Corporation (KGC)         $387,600,000.00  $210,900,000.00   \n",
              "\n",
              "                                    profitMargins returnOnEquity  \\\n",
              "Agnico Eagle Mines Limited (AEM)            8.49%          3.10%   \n",
              "Barrick Gold Corporation (GOLD)            12.78%          7.20%   \n",
              "Wheaton Precious Metals Corp. (WPM)        50.44%          8.16%   \n",
              "Kinross Gold Corporation (KGC)             10.91%          7.81%   \n",
              "\n",
              "                                    returnOnAssets  trailingPE  forwardPE  \\\n",
              "Agnico Eagle Mines Limited (AEM)             3.80%   68.465515  18.643190   \n",
              "Barrick Gold Corporation (GOLD)              4.00%   23.337208  11.275281   \n",
              "Wheaton Precious Metals Corp. (WPM)          5.35%   48.380950  34.834286   \n",
              "Kinross Gold Corporation (KGC)               5.16%   24.625000  13.133334   \n",
              "\n",
              "                                     priceToBook  debtToEquity  currentRatio  \\\n",
              "Agnico Eagle Mines Limited (AEM)        1.985401         9.941         1.514   \n",
              "Barrick Gold Corporation (GOLD)         1.489535        14.538         3.011   \n",
              "Wheaton Precious Metals Corp. (WPM)     3.862384         0.080        26.858   \n",
              "Kinross Gold Corporation (KGC)          1.915597        31.889         1.271   \n",
              "\n",
              "                                     quickRatio   Free Cash Flow  \\\n",
              "Agnico Eagle Mines Limited (AEM)          0.619  $554,063,000.00   \n",
              "Barrick Gold Corporation (GOLD)           1.924  $340,000,000.00   \n",
              "Wheaton Precious Metals Corp. (WPM)      26.647  $188,710,000.00   \n",
              "Kinross Gold Corporation (KGC)            0.426  $329,800,000.00   \n",
              "\n",
              "                                    Operating Cash Flow Financing Cash Flow  \\\n",
              "Agnico Eagle Mines Limited (AEM)        $961,336,000.00    -$137,234,000.00   \n",
              "Barrick Gold Corporation (GOLD)       $1,159,000,000.00    -$362,000,000.00   \n",
              "Wheaton Precious Metals Corp. (WPM)     $234,393,000.00    -$131,848,000.00   \n",
              "Kinross Gold Corporation (KGC)          $604,000,000.00    -$228,500,000.00   \n",
              "\n",
              "                                    Investing Cash Flow  \n",
              "Agnico Eagle Mines Limited (AEM)       -$424,576,000.00  \n",
              "Barrick Gold Corporation (GOLD)        -$703,000,000.00  \n",
              "Wheaton Precious Metals Corp. (WPM)     $131,693,000.00  \n",
              "Kinross Gold Corporation (KGC)         -$302,300,000.00  "
            ],
            "text/html": [
              "\n",
              "  <div id=\"df-2e0351ed-adfc-4721-ab33-2ef60481eaae\" class=\"colab-df-container\">\n",
              "    <div>\n",
              "<style scoped>\n",
              "    .dataframe tbody tr th:only-of-type {\n",
              "        vertical-align: middle;\n",
              "    }\n",
              "\n",
              "    .dataframe tbody tr th {\n",
              "        vertical-align: top;\n",
              "    }\n",
              "\n",
              "    .dataframe thead th {\n",
              "        text-align: right;\n",
              "    }\n",
              "</style>\n",
              "<table border=\"1\" class=\"dataframe\">\n",
              "  <thead>\n",
              "    <tr style=\"text-align: right;\">\n",
              "      <th></th>\n",
              "      <th>marketCap</th>\n",
              "      <th>trailingEps</th>\n",
              "      <th>Basic EPS</th>\n",
              "      <th>Gross Profit</th>\n",
              "      <th>Net Income</th>\n",
              "      <th>profitMargins</th>\n",
              "      <th>returnOnEquity</th>\n",
              "      <th>returnOnAssets</th>\n",
              "      <th>trailingPE</th>\n",
              "      <th>forwardPE</th>\n",
              "      <th>priceToBook</th>\n",
              "      <th>debtToEquity</th>\n",
              "      <th>currentRatio</th>\n",
              "      <th>quickRatio</th>\n",
              "      <th>Free Cash Flow</th>\n",
              "      <th>Operating Cash Flow</th>\n",
              "      <th>Financing Cash Flow</th>\n",
              "      <th>Investing Cash Flow</th>\n",
              "    </tr>\n",
              "  </thead>\n",
              "  <tbody>\n",
              "    <tr>\n",
              "      <th>Agnico Eagle Mines Limited (AEM)</th>\n",
              "      <td>$39,958,581,248.00</td>\n",
              "      <td>$1.16</td>\n",
              "      <td>$0.95</td>\n",
              "      <td>$926,248,000.00</td>\n",
              "      <td>$472,016,000.00</td>\n",
              "      <td>8.49%</td>\n",
              "      <td>3.10%</td>\n",
              "      <td>3.80%</td>\n",
              "      <td>68.465515</td>\n",
              "      <td>18.643190</td>\n",
              "      <td>1.985401</td>\n",
              "      <td>9.941</td>\n",
              "      <td>1.514</td>\n",
              "      <td>0.619</td>\n",
              "      <td>$554,063,000.00</td>\n",
              "      <td>$961,336,000.00</td>\n",
              "      <td>-$137,234,000.00</td>\n",
              "      <td>-$424,576,000.00</td>\n",
              "    </tr>\n",
              "    <tr>\n",
              "      <th>Barrick Gold Corporation (GOLD)</th>\n",
              "      <td>$35,326,611,456.00</td>\n",
              "      <td>$0.86</td>\n",
              "      <td>$0.21</td>\n",
              "      <td>$1,183,000,000.00</td>\n",
              "      <td>$370,000,000.00</td>\n",
              "      <td>12.78%</td>\n",
              "      <td>7.20%</td>\n",
              "      <td>4.00%</td>\n",
              "      <td>23.337208</td>\n",
              "      <td>11.275281</td>\n",
              "      <td>1.489535</td>\n",
              "      <td>14.538</td>\n",
              "      <td>3.011</td>\n",
              "      <td>1.924</td>\n",
              "      <td>$340,000,000.00</td>\n",
              "      <td>$1,159,000,000.00</td>\n",
              "      <td>-$362,000,000.00</td>\n",
              "      <td>-$703,000,000.00</td>\n",
              "    </tr>\n",
              "    <tr>\n",
              "      <th>Wheaton Precious Metals Corp. (WPM)</th>\n",
              "      <td>$27,788,126,208.00</td>\n",
              "      <td>$1.26</td>\n",
              "      <td>$0.27</td>\n",
              "      <td>$186,192,000.00</td>\n",
              "      <td>$122,317,000.00</td>\n",
              "      <td>50.44%</td>\n",
              "      <td>8.16%</td>\n",
              "      <td>5.35%</td>\n",
              "      <td>48.380950</td>\n",
              "      <td>34.834286</td>\n",
              "      <td>3.862384</td>\n",
              "      <td>0.080</td>\n",
              "      <td>26.858</td>\n",
              "      <td>26.647</td>\n",
              "      <td>$188,710,000.00</td>\n",
              "      <td>$234,393,000.00</td>\n",
              "      <td>-$131,848,000.00</td>\n",
              "      <td>$131,693,000.00</td>\n",
              "    </tr>\n",
              "    <tr>\n",
              "      <th>Kinross Gold Corporation (KGC)</th>\n",
              "      <td>$12,178,146,304.00</td>\n",
              "      <td>$0.40</td>\n",
              "      <td>$0.17</td>\n",
              "      <td>$387,600,000.00</td>\n",
              "      <td>$210,900,000.00</td>\n",
              "      <td>10.91%</td>\n",
              "      <td>7.81%</td>\n",
              "      <td>5.16%</td>\n",
              "      <td>24.625000</td>\n",
              "      <td>13.133334</td>\n",
              "      <td>1.915597</td>\n",
              "      <td>31.889</td>\n",
              "      <td>1.271</td>\n",
              "      <td>0.426</td>\n",
              "      <td>$329,800,000.00</td>\n",
              "      <td>$604,000,000.00</td>\n",
              "      <td>-$228,500,000.00</td>\n",
              "      <td>-$302,300,000.00</td>\n",
              "    </tr>\n",
              "  </tbody>\n",
              "</table>\n",
              "</div>\n",
              "    <div class=\"colab-df-buttons\">\n",
              "\n",
              "  <div class=\"colab-df-container\">\n",
              "    <button class=\"colab-df-convert\" onclick=\"convertToInteractive('df-2e0351ed-adfc-4721-ab33-2ef60481eaae')\"\n",
              "            title=\"Convert this dataframe to an interactive table.\"\n",
              "            style=\"display:none;\">\n",
              "\n",
              "  <svg xmlns=\"http://www.w3.org/2000/svg\" height=\"24px\" viewBox=\"0 -960 960 960\">\n",
              "    <path d=\"M120-120v-720h720v720H120Zm60-500h600v-160H180v160Zm220 220h160v-160H400v160Zm0 220h160v-160H400v160ZM180-400h160v-160H180v160Zm440 0h160v-160H620v160ZM180-180h160v-160H180v160Zm440 0h160v-160H620v160Z\"/>\n",
              "  </svg>\n",
              "    </button>\n",
              "\n",
              "  <style>\n",
              "    .colab-df-container {\n",
              "      display:flex;\n",
              "      gap: 12px;\n",
              "    }\n",
              "\n",
              "    .colab-df-convert {\n",
              "      background-color: #E8F0FE;\n",
              "      border: none;\n",
              "      border-radius: 50%;\n",
              "      cursor: pointer;\n",
              "      display: none;\n",
              "      fill: #1967D2;\n",
              "      height: 32px;\n",
              "      padding: 0 0 0 0;\n",
              "      width: 32px;\n",
              "    }\n",
              "\n",
              "    .colab-df-convert:hover {\n",
              "      background-color: #E2EBFA;\n",
              "      box-shadow: 0px 1px 2px rgba(60, 64, 67, 0.3), 0px 1px 3px 1px rgba(60, 64, 67, 0.15);\n",
              "      fill: #174EA6;\n",
              "    }\n",
              "\n",
              "    .colab-df-buttons div {\n",
              "      margin-bottom: 4px;\n",
              "    }\n",
              "\n",
              "    [theme=dark] .colab-df-convert {\n",
              "      background-color: #3B4455;\n",
              "      fill: #D2E3FC;\n",
              "    }\n",
              "\n",
              "    [theme=dark] .colab-df-convert:hover {\n",
              "      background-color: #434B5C;\n",
              "      box-shadow: 0px 1px 3px 1px rgba(0, 0, 0, 0.15);\n",
              "      filter: drop-shadow(0px 1px 2px rgba(0, 0, 0, 0.3));\n",
              "      fill: #FFFFFF;\n",
              "    }\n",
              "  </style>\n",
              "\n",
              "    <script>\n",
              "      const buttonEl =\n",
              "        document.querySelector('#df-2e0351ed-adfc-4721-ab33-2ef60481eaae button.colab-df-convert');\n",
              "      buttonEl.style.display =\n",
              "        google.colab.kernel.accessAllowed ? 'block' : 'none';\n",
              "\n",
              "      async function convertToInteractive(key) {\n",
              "        const element = document.querySelector('#df-2e0351ed-adfc-4721-ab33-2ef60481eaae');\n",
              "        const dataTable =\n",
              "          await google.colab.kernel.invokeFunction('convertToInteractive',\n",
              "                                                    [key], {});\n",
              "        if (!dataTable) return;\n",
              "\n",
              "        const docLinkHtml = 'Like what you see? Visit the ' +\n",
              "          '<a target=\"_blank\" href=https://colab.research.google.com/notebooks/data_table.ipynb>data table notebook</a>'\n",
              "          + ' to learn more about interactive tables.';\n",
              "        element.innerHTML = '';\n",
              "        dataTable['output_type'] = 'display_data';\n",
              "        await google.colab.output.renderOutput(dataTable, element);\n",
              "        const docLink = document.createElement('div');\n",
              "        docLink.innerHTML = docLinkHtml;\n",
              "        element.appendChild(docLink);\n",
              "      }\n",
              "    </script>\n",
              "  </div>\n",
              "\n",
              "\n",
              "<div id=\"df-39025e9a-0ce5-4b6c-b920-b3a59fdf2899\">\n",
              "  <button class=\"colab-df-quickchart\" onclick=\"quickchart('df-39025e9a-0ce5-4b6c-b920-b3a59fdf2899')\"\n",
              "            title=\"Suggest charts\"\n",
              "            style=\"display:none;\">\n",
              "\n",
              "<svg xmlns=\"http://www.w3.org/2000/svg\" height=\"24px\"viewBox=\"0 0 24 24\"\n",
              "     width=\"24px\">\n",
              "    <g>\n",
              "        <path d=\"M19 3H5c-1.1 0-2 .9-2 2v14c0 1.1.9 2 2 2h14c1.1 0 2-.9 2-2V5c0-1.1-.9-2-2-2zM9 17H7v-7h2v7zm4 0h-2V7h2v10zm4 0h-2v-4h2v4z\"/>\n",
              "    </g>\n",
              "</svg>\n",
              "  </button>\n",
              "\n",
              "<style>\n",
              "  .colab-df-quickchart {\n",
              "      --bg-color: #E8F0FE;\n",
              "      --fill-color: #1967D2;\n",
              "      --hover-bg-color: #E2EBFA;\n",
              "      --hover-fill-color: #174EA6;\n",
              "      --disabled-fill-color: #AAA;\n",
              "      --disabled-bg-color: #DDD;\n",
              "  }\n",
              "\n",
              "  [theme=dark] .colab-df-quickchart {\n",
              "      --bg-color: #3B4455;\n",
              "      --fill-color: #D2E3FC;\n",
              "      --hover-bg-color: #434B5C;\n",
              "      --hover-fill-color: #FFFFFF;\n",
              "      --disabled-bg-color: #3B4455;\n",
              "      --disabled-fill-color: #666;\n",
              "  }\n",
              "\n",
              "  .colab-df-quickchart {\n",
              "    background-color: var(--bg-color);\n",
              "    border: none;\n",
              "    border-radius: 50%;\n",
              "    cursor: pointer;\n",
              "    display: none;\n",
              "    fill: var(--fill-color);\n",
              "    height: 32px;\n",
              "    padding: 0;\n",
              "    width: 32px;\n",
              "  }\n",
              "\n",
              "  .colab-df-quickchart:hover {\n",
              "    background-color: var(--hover-bg-color);\n",
              "    box-shadow: 0 1px 2px rgba(60, 64, 67, 0.3), 0 1px 3px 1px rgba(60, 64, 67, 0.15);\n",
              "    fill: var(--button-hover-fill-color);\n",
              "  }\n",
              "\n",
              "  .colab-df-quickchart-complete:disabled,\n",
              "  .colab-df-quickchart-complete:disabled:hover {\n",
              "    background-color: var(--disabled-bg-color);\n",
              "    fill: var(--disabled-fill-color);\n",
              "    box-shadow: none;\n",
              "  }\n",
              "\n",
              "  .colab-df-spinner {\n",
              "    border: 2px solid var(--fill-color);\n",
              "    border-color: transparent;\n",
              "    border-bottom-color: var(--fill-color);\n",
              "    animation:\n",
              "      spin 1s steps(1) infinite;\n",
              "  }\n",
              "\n",
              "  @keyframes spin {\n",
              "    0% {\n",
              "      border-color: transparent;\n",
              "      border-bottom-color: var(--fill-color);\n",
              "      border-left-color: var(--fill-color);\n",
              "    }\n",
              "    20% {\n",
              "      border-color: transparent;\n",
              "      border-left-color: var(--fill-color);\n",
              "      border-top-color: var(--fill-color);\n",
              "    }\n",
              "    30% {\n",
              "      border-color: transparent;\n",
              "      border-left-color: var(--fill-color);\n",
              "      border-top-color: var(--fill-color);\n",
              "      border-right-color: var(--fill-color);\n",
              "    }\n",
              "    40% {\n",
              "      border-color: transparent;\n",
              "      border-right-color: var(--fill-color);\n",
              "      border-top-color: var(--fill-color);\n",
              "    }\n",
              "    60% {\n",
              "      border-color: transparent;\n",
              "      border-right-color: var(--fill-color);\n",
              "    }\n",
              "    80% {\n",
              "      border-color: transparent;\n",
              "      border-right-color: var(--fill-color);\n",
              "      border-bottom-color: var(--fill-color);\n",
              "    }\n",
              "    90% {\n",
              "      border-color: transparent;\n",
              "      border-bottom-color: var(--fill-color);\n",
              "    }\n",
              "  }\n",
              "</style>\n",
              "\n",
              "  <script>\n",
              "    async function quickchart(key) {\n",
              "      const quickchartButtonEl =\n",
              "        document.querySelector('#' + key + ' button');\n",
              "      quickchartButtonEl.disabled = true;  // To prevent multiple clicks.\n",
              "      quickchartButtonEl.classList.add('colab-df-spinner');\n",
              "      try {\n",
              "        const charts = await google.colab.kernel.invokeFunction(\n",
              "            'suggestCharts', [key], {});\n",
              "      } catch (error) {\n",
              "        console.error('Error during call to suggestCharts:', error);\n",
              "      }\n",
              "      quickchartButtonEl.classList.remove('colab-df-spinner');\n",
              "      quickchartButtonEl.classList.add('colab-df-quickchart-complete');\n",
              "    }\n",
              "    (() => {\n",
              "      let quickchartButtonEl =\n",
              "        document.querySelector('#df-39025e9a-0ce5-4b6c-b920-b3a59fdf2899 button');\n",
              "      quickchartButtonEl.style.display =\n",
              "        google.colab.kernel.accessAllowed ? 'block' : 'none';\n",
              "    })();\n",
              "  </script>\n",
              "</div>\n",
              "\n",
              "  <div id=\"id_fadd0eae-2fe6-4f14-90d9-4579fbe42ce3\">\n",
              "    <style>\n",
              "      .colab-df-generate {\n",
              "        background-color: #E8F0FE;\n",
              "        border: none;\n",
              "        border-radius: 50%;\n",
              "        cursor: pointer;\n",
              "        display: none;\n",
              "        fill: #1967D2;\n",
              "        height: 32px;\n",
              "        padding: 0 0 0 0;\n",
              "        width: 32px;\n",
              "      }\n",
              "\n",
              "      .colab-df-generate:hover {\n",
              "        background-color: #E2EBFA;\n",
              "        box-shadow: 0px 1px 2px rgba(60, 64, 67, 0.3), 0px 1px 3px 1px rgba(60, 64, 67, 0.15);\n",
              "        fill: #174EA6;\n",
              "      }\n",
              "\n",
              "      [theme=dark] .colab-df-generate {\n",
              "        background-color: #3B4455;\n",
              "        fill: #D2E3FC;\n",
              "      }\n",
              "\n",
              "      [theme=dark] .colab-df-generate:hover {\n",
              "        background-color: #434B5C;\n",
              "        box-shadow: 0px 1px 3px 1px rgba(0, 0, 0, 0.15);\n",
              "        filter: drop-shadow(0px 1px 2px rgba(0, 0, 0, 0.3));\n",
              "        fill: #FFFFFF;\n",
              "      }\n",
              "    </style>\n",
              "    <button class=\"colab-df-generate\" onclick=\"generateWithVariable('combined_data_df')\"\n",
              "            title=\"Generate code using this dataframe.\"\n",
              "            style=\"display:none;\">\n",
              "\n",
              "  <svg xmlns=\"http://www.w3.org/2000/svg\" height=\"24px\"viewBox=\"0 0 24 24\"\n",
              "       width=\"24px\">\n",
              "    <path d=\"M7,19H8.4L18.45,9,17,7.55,7,17.6ZM5,21V16.75L18.45,3.32a2,2,0,0,1,2.83,0l1.4,1.43a1.91,1.91,0,0,1,.58,1.4,1.91,1.91,0,0,1-.58,1.4L9.25,21ZM18.45,9,17,7.55Zm-12,3A5.31,5.31,0,0,0,4.9,8.1,5.31,5.31,0,0,0,1,6.5,5.31,5.31,0,0,0,4.9,4.9,5.31,5.31,0,0,0,6.5,1,5.31,5.31,0,0,0,8.1,4.9,5.31,5.31,0,0,0,12,6.5,5.46,5.46,0,0,0,6.5,12Z\"/>\n",
              "  </svg>\n",
              "    </button>\n",
              "    <script>\n",
              "      (() => {\n",
              "      const buttonEl =\n",
              "        document.querySelector('#id_fadd0eae-2fe6-4f14-90d9-4579fbe42ce3 button.colab-df-generate');\n",
              "      buttonEl.style.display =\n",
              "        google.colab.kernel.accessAllowed ? 'block' : 'none';\n",
              "\n",
              "      buttonEl.onclick = () => {\n",
              "        google.colab.notebook.generateWithVariable('combined_data_df');\n",
              "      }\n",
              "      })();\n",
              "    </script>\n",
              "  </div>\n",
              "\n",
              "    </div>\n",
              "  </div>\n"
            ],
            "application/vnd.google.colaboratory.intrinsic+json": {
              "type": "dataframe",
              "variable_name": "combined_data_df",
              "summary": "{\n  \"name\": \"combined_data_df\",\n  \"rows\": 4,\n  \"fields\": [\n    {\n      \"column\": \"marketCap\",\n      \"properties\": {\n        \"dtype\": \"string\",\n        \"num_unique_values\": 4,\n        \"samples\": [\n          \"$35,326,611,456.00\",\n          \"$12,178,146,304.00\",\n          \"$39,958,581,248.00\"\n        ],\n        \"semantic_type\": \"\",\n        \"description\": \"\"\n      }\n    },\n    {\n      \"column\": \"trailingEps\",\n      \"properties\": {\n        \"dtype\": \"string\",\n        \"num_unique_values\": 4,\n        \"samples\": [\n          \"$0.86\",\n          \"$0.40\",\n          \"$1.16\"\n        ],\n        \"semantic_type\": \"\",\n        \"description\": \"\"\n      }\n    },\n    {\n      \"column\": \"Basic EPS\",\n      \"properties\": {\n        \"dtype\": \"string\",\n        \"num_unique_values\": 4,\n        \"samples\": [\n          \"$0.21\",\n          \"$0.17\",\n          \"$0.95\"\n        ],\n        \"semantic_type\": \"\",\n        \"description\": \"\"\n      }\n    },\n    {\n      \"column\": \"Gross Profit\",\n      \"properties\": {\n        \"dtype\": \"string\",\n        \"num_unique_values\": 4,\n        \"samples\": [\n          \"$1,183,000,000.00\",\n          \"$387,600,000.00\",\n          \"$926,248,000.00\"\n        ],\n        \"semantic_type\": \"\",\n        \"description\": \"\"\n      }\n    },\n    {\n      \"column\": \"Net Income\",\n      \"properties\": {\n        \"dtype\": \"string\",\n        \"num_unique_values\": 4,\n        \"samples\": [\n          \"$370,000,000.00\",\n          \"$210,900,000.00\",\n          \"$472,016,000.00\"\n        ],\n        \"semantic_type\": \"\",\n        \"description\": \"\"\n      }\n    },\n    {\n      \"column\": \"profitMargins\",\n      \"properties\": {\n        \"dtype\": \"string\",\n        \"num_unique_values\": 4,\n        \"samples\": [\n          \"12.78%\",\n          \"10.91%\",\n          \"8.49%\"\n        ],\n        \"semantic_type\": \"\",\n        \"description\": \"\"\n      }\n    },\n    {\n      \"column\": \"returnOnEquity\",\n      \"properties\": {\n        \"dtype\": \"string\",\n        \"num_unique_values\": 4,\n        \"samples\": [\n          \"7.20%\",\n          \"7.81%\",\n          \"3.10%\"\n        ],\n        \"semantic_type\": \"\",\n        \"description\": \"\"\n      }\n    },\n    {\n      \"column\": \"returnOnAssets\",\n      \"properties\": {\n        \"dtype\": \"string\",\n        \"num_unique_values\": 4,\n        \"samples\": [\n          \"4.00%\",\n          \"5.16%\",\n          \"3.80%\"\n        ],\n        \"semantic_type\": \"\",\n        \"description\": \"\"\n      }\n    },\n    {\n      \"column\": \"trailingPE\",\n      \"properties\": {\n        \"dtype\": \"number\",\n        \"std\": 21.51576395225724,\n        \"min\": 23.337208,\n        \"max\": 68.465515,\n        \"num_unique_values\": 4,\n        \"samples\": [\n          23.337208,\n          24.625,\n          68.465515\n        ],\n        \"semantic_type\": \"\",\n        \"description\": \"\"\n      }\n    },\n    {\n      \"column\": \"forwardPE\",\n      \"properties\": {\n        \"dtype\": \"number\",\n        \"std\": 10.709056062905244,\n        \"min\": 11.275281,\n        \"max\": 34.834286,\n        \"num_unique_values\": 4,\n        \"samples\": [\n          11.275281,\n          13.133334,\n          18.64319\n        ],\n        \"semantic_type\": \"\",\n        \"description\": \"\"\n      }\n    },\n    {\n      \"column\": \"priceToBook\",\n      \"properties\": {\n        \"dtype\": \"number\",\n        \"std\": 1.055767294867188,\n        \"min\": 1.4895353,\n        \"max\": 3.8623836,\n        \"num_unique_values\": 4,\n        \"samples\": [\n          1.4895353,\n          1.9155971,\n          1.9854008\n        ],\n        \"semantic_type\": \"\",\n        \"description\": \"\"\n      }\n    },\n    {\n      \"column\": \"debtToEquity\",\n      \"properties\": {\n        \"dtype\": \"number\",\n        \"std\": 13.297837794167894,\n        \"min\": 0.08,\n        \"max\": 31.889,\n        \"num_unique_values\": 4,\n        \"samples\": [\n          14.538,\n          31.889,\n          9.941\n        ],\n        \"semantic_type\": \"\",\n        \"description\": \"\"\n      }\n    },\n    {\n      \"column\": \"currentRatio\",\n      \"properties\": {\n        \"dtype\": \"number\",\n        \"std\": 12.486726192241102,\n        \"min\": 1.271,\n        \"max\": 26.858,\n        \"num_unique_values\": 4,\n        \"samples\": [\n          3.011,\n          1.271,\n          1.514\n        ],\n        \"semantic_type\": \"\",\n        \"description\": \"\"\n      }\n    },\n    {\n      \"column\": \"quickRatio\",\n      \"properties\": {\n        \"dtype\": \"number\",\n        \"std\": 12.845909309971013,\n        \"min\": 0.426,\n        \"max\": 26.647,\n        \"num_unique_values\": 4,\n        \"samples\": [\n          1.924,\n          0.426,\n          0.619\n        ],\n        \"semantic_type\": \"\",\n        \"description\": \"\"\n      }\n    },\n    {\n      \"column\": \"Free Cash Flow\",\n      \"properties\": {\n        \"dtype\": \"string\",\n        \"num_unique_values\": 4,\n        \"samples\": [\n          \"$340,000,000.00\",\n          \"$329,800,000.00\",\n          \"$554,063,000.00\"\n        ],\n        \"semantic_type\": \"\",\n        \"description\": \"\"\n      }\n    },\n    {\n      \"column\": \"Operating Cash Flow\",\n      \"properties\": {\n        \"dtype\": \"string\",\n        \"num_unique_values\": 4,\n        \"samples\": [\n          \"$1,159,000,000.00\",\n          \"$604,000,000.00\",\n          \"$961,336,000.00\"\n        ],\n        \"semantic_type\": \"\",\n        \"description\": \"\"\n      }\n    },\n    {\n      \"column\": \"Financing Cash Flow\",\n      \"properties\": {\n        \"dtype\": \"string\",\n        \"num_unique_values\": 4,\n        \"samples\": [\n          \"-$362,000,000.00\",\n          \"-$228,500,000.00\",\n          \"-$137,234,000.00\"\n        ],\n        \"semantic_type\": \"\",\n        \"description\": \"\"\n      }\n    },\n    {\n      \"column\": \"Investing Cash Flow\",\n      \"properties\": {\n        \"dtype\": \"string\",\n        \"num_unique_values\": 4,\n        \"samples\": [\n          \"-$703,000,000.00\",\n          \"-$302,300,000.00\",\n          \"-$424,576,000.00\"\n        ],\n        \"semantic_type\": \"\",\n        \"description\": \"\"\n      }\n    }\n  ]\n}"
            }
          },
          "metadata": {},
          "execution_count": 512
        }
      ]
    },
    {
      "cell_type": "markdown",
      "source": [
        "# Long Stocks:\n",
        "- ### Siemens Energy AG (ENR)\n",
        "- ### Nutrien (NTR)\n",
        "- ### Shin-Etsu Chemical Co. Ltd. (SHECY)\n",
        "- ### Taiwan Semiconductor Mfg. Co. Ltd. (TSM)"
      ],
      "metadata": {
        "id": "r2mTDJCIdkGO"
      }
    },
    {
      "cell_type": "markdown",
      "source": [
        "---\n",
        "# **2) DCF Model**"
      ],
      "metadata": {
        "id": "7TGRWWopsPMK"
      }
    },
    {
      "cell_type": "code",
      "source": [
        "ticker_input = 'ENR'\n",
        "\n",
        "financial_attributes_input = ['EBITDA'] # just use one for forecaster\n",
        "\n",
        "cashflow_attributes_input = ['Free Cash Flow'] # ditto above\n",
        "\n",
        "balsheet_attributes_input = ['Total Debt']\n",
        "\n",
        "basic_attributes_input = ['beta', 'marketCap', 'sharesOutstanding']"
      ],
      "metadata": {
        "id": "tG2lIO-QCKQA"
      },
      "execution_count": 961,
      "outputs": []
    },
    {
      "cell_type": "markdown",
      "source": [
        "#### Get Data Function:"
      ],
      "metadata": {
        "id": "rIebaBLyBL_t"
      }
    },
    {
      "cell_type": "code",
      "source": [
        "def get_basic_data(attributes_data, attributes_input):\n",
        "    basic_data_dict = {}\n",
        "    for attr in attributes_input:\n",
        "      basic_data_dict[attr] = attributes_data.get(attr)\n",
        "    return basic_data_dict\n",
        "\n",
        "def get_attr_hist_data(attributes_data, attributes_input):\n",
        "    for attr in attributes_input:\n",
        "      attr_hist_data = attributes_data.loc[attr].dropna()\n",
        "    return attr_hist_data\n",
        "\n",
        "def forecast(attr_hist_data):\n",
        "    initial_value = attr_hist_data.iloc[-1]\n",
        "    ending_value = attr_hist_data.iloc[0]\n",
        "    #compound annual growth rate\n",
        "    cagr = ((ending_value / initial_value)**(1/len(attr_hist_data))) - 1\n",
        "    print(f'cagr of {attr_hist_data.name}: {cagr*100}%')\n",
        "    forecasted_list = []\n",
        "    for i in range(len(attr_hist_data)):\n",
        "      forecast_value = ending_value * ((1+cagr)**(i+1))\n",
        "      forecasted_list.append(forecast_value)\n",
        "    return forecasted_list\n",
        "\n",
        "def get_data(ticker_input: tuple,\n",
        "             financial_attributes_input: list[str],\n",
        "             cashflow_attributes_input: list[str],\n",
        "             balsheet_attributes_input: list[str],\n",
        "             basic_attributes_input: list[str]):\n",
        "\n",
        "  yf_ticker = yf.Ticker(ticker_input)\n",
        "\n",
        "  financial_attributes = yf_ticker.financials\n",
        "  financial_attributes_hist_data = get_attr_hist_data(financial_attributes, financial_attributes_input)\n",
        "\n",
        "  forecasted_list_financials = forecast(financial_attributes_hist_data)\n",
        "\n",
        "  cashflow_attributes = yf_ticker.cashflow\n",
        "  cashflow_attributes_hist_data = get_attr_hist_data(cashflow_attributes, cashflow_attributes_input)\n",
        "  forecasted_list_cashflow = forecast(cashflow_attributes_hist_data)\n",
        "\n",
        "  balsheet_attributes = yf_ticker.balance_sheet\n",
        "  balsheet_attributes_hist_data = get_attr_hist_data(balsheet_attributes, balsheet_attributes_input).iloc[0]\n",
        "\n",
        "  basic_attributes = yf_ticker.info\n",
        "  basic_attributes_hist_data = get_basic_data(basic_attributes, basic_attributes_input)\n",
        "\n",
        "  return forecasted_list_financials, forecasted_list_cashflow, balsheet_attributes_hist_data, basic_attributes_hist_data, yf_ticker\n",
        "\n",
        "\n",
        "\n",
        "\n",
        "\n",
        "\n",
        "forecasted_list_financials, forecasted_list_cashflow, balsheet_attributes_hist_data, basic_attributes_hist_data, yf_ticker = get_data(ticker_input,\n",
        "                                                                           financial_attributes_input,\n",
        "                                                                           cashflow_attributes_input,\n",
        "                                                                           balsheet_attributes_input,\n",
        "                                                                           basic_attributes_input\n",
        "                                                                                      )\n",
        "\n",
        "#print(forecasted_list_financials)\n",
        "#print(forecasted_list_cashflow)\n",
        "#print(balsheet_attributes_hist_data)\n",
        "#print(basic_attributes_hist_data)"
      ],
      "metadata": {
        "id": "GGaKpxR7BK_L",
        "colab": {
          "base_uri": "https://localhost:8080/"
        },
        "outputId": "8b87d763-066b-4632-96aa-73f3fd8f7e77"
      },
      "execution_count": 962,
      "outputs": [
        {
          "output_type": "stream",
          "name": "stdout",
          "text": [
            "cagr of EBITDA: 5.672145113227622%\n",
            "cagr of Free Cash Flow: 2.125121402702246%\n"
          ]
        }
      ]
    },
    {
      "cell_type": "markdown",
      "source": [
        "#### Get Beta, Total Equity, Total Debt, Cost of Debt, Cash, Shares Outstanding:"
      ],
      "metadata": {
        "id": "bOH1Dxd6zL0u"
      }
    },
    {
      "cell_type": "code",
      "source": [
        "interest_expense = (yf_ticker.income_stmt.loc['Interest Expense'].iloc[0])\n",
        "\n",
        "beta = basic_attributes_hist_data['beta']\n",
        "total_equity = basic_attributes_hist_data['marketCap']\n",
        "total_shares = basic_attributes_hist_data['sharesOutstanding']\n",
        "\n",
        "total_debt = (yf_ticker.balance_sheet.loc['Total Debt'].iloc[0])\n",
        "cost_of_debt = interest_expense / total_debt\n",
        "total_cash = (yf_ticker.balance_sheet.loc['Cash And Cash Equivalents'].iloc[0])"
      ],
      "metadata": {
        "id": "_rjkRKJszLKR"
      },
      "execution_count": 963,
      "outputs": []
    },
    {
      "cell_type": "markdown",
      "source": [
        "#### **CAPM** Formula Function:\n",
        "*Also known as \"Capital Asset Pricing Model\"*\n",
        "\n",
        "---"
      ],
      "metadata": {
        "id": "fatE1hOFwfe2"
      }
    },
    {
      "cell_type": "code",
      "source": [
        "r_f = 0.0475 # risk-free rate ( return subscript f, % )\n",
        "b_i = beta # beta ( beta subscript i, ration )\n",
        "e__r_m = 0.10 # expected market return ( e(return subscript m, %) )\n",
        "\n",
        "e__r_i = r_f + b_i*(e__r_m - r_f) # expected return on investment\n",
        "e__r_i"
      ],
      "metadata": {
        "id": "gXPxGV32y1V-",
        "colab": {
          "base_uri": "https://localhost:8080/"
        },
        "outputId": "838aff03-95a0-46ae-87c6-8d251eb76508"
      },
      "execution_count": 964,
      "outputs": [
        {
          "output_type": "execute_result",
          "data": {
            "text/plain": [
              "0.1017325"
            ]
          },
          "metadata": {},
          "execution_count": 964
        }
      ]
    },
    {
      "cell_type": "markdown",
      "source": [
        "#### **WACC** Formula Function:\n",
        "*Also known as \"Weighted Average Cost of Capital\"*\n",
        "\n",
        "---"
      ],
      "metadata": {
        "id": "M3rQMcXqx1mx"
      }
    },
    {
      "cell_type": "code",
      "source": [
        "E = total_equity\n",
        "D = total_debt\n",
        "R_e = e__r_i # capm result\n",
        "R_d = cost_of_debt\n",
        "\n",
        "T = 0.25 # tax rate\n",
        "\n",
        "wacc = (E / (E+D))*R_e + (D / (E+D))*R_d*(1-T) # weighted average cost of capital\n",
        "wacc"
      ],
      "metadata": {
        "id": "s48VoPMuyC9i",
        "colab": {
          "base_uri": "https://localhost:8080/"
        },
        "outputId": "1fd0915a-10b4-44ef-e41a-be0337877e4f"
      },
      "execution_count": 965,
      "outputs": [
        {
          "output_type": "execute_result",
          "data": {
            "text/plain": [
              "0.06215084524934689"
            ]
          },
          "metadata": {},
          "execution_count": 965
        }
      ]
    },
    {
      "cell_type": "markdown",
      "source": [
        "#### **Terminal Value (TV)** Formula Function:\n",
        "\n",
        "---"
      ],
      "metadata": {
        "id": "Q6gPJtSv4dps"
      }
    },
    {
      "cell_type": "code",
      "source": [
        "fcf_n = forecasted_list_cashflow[-1] # value of final year in fcf forecast\n",
        "g = 0.03 # perpetual growth rate (can use GDP growth estimate per year, (3 %), or ind.)\n",
        "\n",
        "tv = (fcf_n * (1+g)) / (wacc - g)\n",
        "\n",
        "def format_dollar(amount):\n",
        "    \"\"\"Format an integer as a dollar amount.\"\"\"\n",
        "    return f\"${amount:,.2f}\"\n",
        "\n",
        "format_dollar(tv)\n",
        "# in later version, add in tv financial metric multiple to find average. for now can just use perp."
      ],
      "metadata": {
        "id": "9BxOiywD4kZp",
        "colab": {
          "base_uri": "https://localhost:8080/",
          "height": 35
        },
        "outputId": "317682ea-2f94-43c9-980a-b8cb689b4a2f"
      },
      "execution_count": 966,
      "outputs": [
        {
          "output_type": "execute_result",
          "data": {
            "text/plain": [
              "'$11,792,490,288.69'"
            ],
            "application/vnd.google.colaboratory.intrinsic+json": {
              "type": "string"
            }
          },
          "metadata": {},
          "execution_count": 966
        }
      ]
    },
    {
      "cell_type": "markdown",
      "source": [
        "#### **Discount** Function and Ent, Eq:\n",
        "\n",
        "---"
      ],
      "metadata": {
        "id": "QPmW-yWz-JsT"
      }
    },
    {
      "cell_type": "code",
      "source": [
        "pv_of_fcfs = []\n",
        "discount_factors = []\n",
        "for i in range(len(forecasted_list_cashflow)):\n",
        "  discount_factor = (1 / ((1+wacc)**(i+1)))\n",
        "  discount_factors.append(discount_factor)\n",
        "  fcf_at_i = discount_factor * forecasted_list_cashflow[i]\n",
        "  pv_of_fcfs.append(fcf_at_i)\n",
        "\n",
        "pv_of_tv = discount_factors[-1]*tv\n",
        "\n",
        "enterprise_value = (sum(pv_of_fcfs)) + pv_of_tv\n",
        "\n",
        "equity_value = enterprise_value - total_debt + total_cash\n",
        "\n",
        "share_price = equity_value / total_shares\n",
        "#share_price\n",
        "#pv_of_fcfs\n",
        "#tv\n",
        "#pv_of_tv"
      ],
      "metadata": {
        "id": "hwX-GVYf-NoJ"
      },
      "execution_count": 967,
      "outputs": []
    },
    {
      "cell_type": "markdown",
      "source": [
        "#### **Resulting Share Price**:\n",
        "\n",
        "---"
      ],
      "metadata": {
        "id": "5A-ac1Ub-ava"
      }
    },
    {
      "cell_type": "code",
      "source": [
        "print(f'Intrinsic Price: ${share_price}')\n",
        "print('------------------------------------')\n",
        "current_price = yf_ticker.history(period='1d')['Close'].iloc[0]\n",
        "print(f'Current Price: ${round((current_price),2)}')"
      ],
      "metadata": {
        "colab": {
          "base_uri": "https://localhost:8080/"
        },
        "id": "lQPwaYtHBwfn",
        "outputId": "0ffdb0d2-9ab5-49a5-ed36-bb0ace92a824"
      },
      "execution_count": 968,
      "outputs": [
        {
          "output_type": "stream",
          "name": "stdout",
          "text": [
            "Intrinsic Price: $101.15093963626387\n",
            "------------------------------------\n",
            "Current Price: $31.03\n"
          ]
        }
      ]
    },
    {
      "cell_type": "markdown",
      "source": [
        "\n",
        "# IGNORE ALL BELOW\n",
        "---\n",
        "---\n",
        "---"
      ],
      "metadata": {
        "id": "sNQBzu22NOIz"
      }
    },
    {
      "cell_type": "code",
      "source": [
        "import yfinance as yf\n",
        "import pandas as pd\n",
        "from vaderSentiment.vaderSentiment import SentimentIntensityAnalyzer\n",
        "from transformers import pipeline\n",
        "import logging\n",
        "# Suppress unnecessary logging\n",
        "logging.getLogger(\"transformers\").setLevel(logging.ERROR)\n",
        "\n",
        "# Initialize sentiment analyzers\n",
        "analyzer = SentimentIntensityAnalyzer()\n",
        "sentiment_pipeline = pipeline(\"sentiment-analysis\")\n",
        "\n",
        "# Define the ticker\n",
        "ticker_symbol = 'FCX'  # Oracle\n",
        "ticker = yf.Ticker(ticker_symbol)\n",
        "\n",
        "# Define attributes\n",
        "attributes = ['trailingEps']\n",
        "income_stmt_attributes = ['Gross Profit', 'Net Income', 'Basic EPS']\n",
        "\n",
        "def get_data(ticker: tuple, attributes: list[str]):\n",
        "  info = ticker.info\n",
        "  return {attr: info.get(attr) for attr in attributes}\n",
        "\n",
        "def get_income_statement(ticker: tuple, income_stmt_attributes: list[str]):\n",
        "    income_stmt = ticker.quarterly_income_stmt\n",
        "    return {attr: income_stmt.loc[attr].values[0] for attr in income_stmt_attributes if attr in income_stmt.index}\n",
        "\n",
        "def get_balance_sheet(ticker: tuple, bal_sheet_attributes):\n",
        "  bal_sheet = ticker.quarterly_balance_sheet\n",
        "  return {attr: bal_sheet.loc[attr].values[0] for attr in bal_sheet_attributes if attr in bal_sheet.index}\n",
        "\n",
        "def get_combined_sentiment(ticker):\n",
        "    news = ticker.news\n",
        "    total_combined_score = 0\n",
        "    article_count = 0\n",
        "\n",
        "    for article in news:\n",
        "\n",
        "        title = article['title']\n",
        "        print(title)\n",
        "\n",
        "        # VADER analysis\n",
        "        vader_score = analyzer.polarity_scores(title)['compound']\n",
        "        print(vader_score)\n",
        "\n",
        "        # Hugging Face analysis\n",
        "        context_article = f\"Investing in {ticker.info['longName']}, {title}\"\n",
        "        hf_result = sentiment_pipeline(context_article)[0]\n",
        "        hf_score = hf_result['score'] if hf_result['label'] == 'POSITIVE' else -hf_result['score']\n",
        "        print(hf_score)\n",
        "\n",
        "        # Weighted average of the scores\n",
        "        combined_score = (0.6 * vader_score) + (0.4 * hf_score)\n",
        "\n",
        "        # Update cumulative score and count\n",
        "        total_combined_score += combined_score\n",
        "        article_count += 1\n",
        "\n",
        "        print(total_combined )\n",
        "\n",
        "    # Calculate average sentiment score\n",
        "    return (total_combined_score / article_count) if (article_count > 0) else None\n",
        "\n",
        "# Get data and sentiment\n",
        "data_values = get_data(ticker, attributes)\n",
        "income_values = get_income_statement(ticker, income_stmt_attributes)\n",
        "cumulative_sentiment = get_combined_sentiment(ticker)\n",
        "\n",
        "# Combine all values into a single dictionary\n",
        "data_values.update(income_values)\n",
        "data_values['Cumulative Sentiment'] = cumulative_sentiment\n",
        "\n",
        "# Create DataFrame\n",
        "df_attributes = pd.DataFrame(list(data_values.items()), columns=['Attribute', 'Value'])\n",
        "\n",
        "# Display the combined DataFrame\n",
        "#print(df_attributes)\n",
        "df_attributes\n"
      ],
      "metadata": {
        "colab": {
          "base_uri": "https://localhost:8080/",
          "height": 393
        },
        "id": "tza5qDE0fAJh",
        "outputId": "bb07a063-0d0f-48f1-cb5e-b75d49fa6061"
      },
      "execution_count": null,
      "outputs": [
        {
          "output_type": "error",
          "ename": "ModuleNotFoundError",
          "evalue": "No module named 'vaderSentiment'",
          "traceback": [
            "\u001b[0;31m---------------------------------------------------------------------------\u001b[0m",
            "\u001b[0;31mModuleNotFoundError\u001b[0m                       Traceback (most recent call last)",
            "\u001b[0;32m<ipython-input-521-4331f85d9f39>\u001b[0m in \u001b[0;36m<cell line: 3>\u001b[0;34m()\u001b[0m\n\u001b[1;32m      1\u001b[0m \u001b[0;32mimport\u001b[0m \u001b[0myfinance\u001b[0m \u001b[0;32mas\u001b[0m \u001b[0myf\u001b[0m\u001b[0;34m\u001b[0m\u001b[0;34m\u001b[0m\u001b[0m\n\u001b[1;32m      2\u001b[0m \u001b[0;32mimport\u001b[0m \u001b[0mpandas\u001b[0m \u001b[0;32mas\u001b[0m \u001b[0mpd\u001b[0m\u001b[0;34m\u001b[0m\u001b[0;34m\u001b[0m\u001b[0m\n\u001b[0;32m----> 3\u001b[0;31m \u001b[0;32mfrom\u001b[0m \u001b[0mvaderSentiment\u001b[0m\u001b[0;34m.\u001b[0m\u001b[0mvaderSentiment\u001b[0m \u001b[0;32mimport\u001b[0m \u001b[0mSentimentIntensityAnalyzer\u001b[0m\u001b[0;34m\u001b[0m\u001b[0;34m\u001b[0m\u001b[0m\n\u001b[0m\u001b[1;32m      4\u001b[0m \u001b[0;32mfrom\u001b[0m \u001b[0mtransformers\u001b[0m \u001b[0;32mimport\u001b[0m \u001b[0mpipeline\u001b[0m\u001b[0;34m\u001b[0m\u001b[0;34m\u001b[0m\u001b[0m\n\u001b[1;32m      5\u001b[0m \u001b[0;32mimport\u001b[0m \u001b[0mlogging\u001b[0m\u001b[0;34m\u001b[0m\u001b[0;34m\u001b[0m\u001b[0m\n",
            "\u001b[0;31mModuleNotFoundError\u001b[0m: No module named 'vaderSentiment'",
            "",
            "\u001b[0;31m---------------------------------------------------------------------------\u001b[0;32m\nNOTE: If your import is failing due to a missing package, you can\nmanually install dependencies using either !pip or !apt.\n\nTo view examples of installing some common dependencies, click the\n\"Open Examples\" button below.\n\u001b[0;31m---------------------------------------------------------------------------\u001b[0m\n"
          ],
          "errorDetails": {
            "actions": [
              {
                "action": "open_url",
                "actionText": "Open Examples",
                "url": "/notebooks/snippets/importing_libraries.ipynb"
              }
            ]
          }
        }
      ]
    },
    {
      "cell_type": "code",
      "source": [
        "import yfinance as yf\n",
        "import pandas as pd\n",
        "\n",
        "from vaderSentiment.vaderSentiment import SentimentIntensityAnalyzer\n",
        "\n",
        "from transformers import pipeline\n",
        "import logging\n",
        "logging.getLogger(\"transformers\").setLevel(logging.ERROR)"
      ],
      "metadata": {
        "id": "bf3F0VG7eA0X"
      },
      "execution_count": null,
      "outputs": []
    },
    {
      "cell_type": "code",
      "source": [
        "import yfinance as yf\n",
        "import pandas as pd\n",
        "from vaderSentiment.vaderSentiment import SentimentIntensityAnalyzer\n",
        "from transformers import pipeline\n",
        "import logging\n",
        "\n",
        "# Suppress unnecessary logging\n",
        "logging.getLogger(\"transformers\").setLevel(logging.ERROR)\n",
        "\n",
        "# Initialize sentiment analyzers\n",
        "analyzer = SentimentIntensityAnalyzer()\n",
        "sentiment_pipeline = pipeline(\"sentiment-analysis\")\n",
        "\n",
        "# Define the ticker\n",
        "ticker_symbol = 'MSFT'  # Oracle\n",
        "ticker = yf.Ticker(ticker_symbol)\n",
        "\n",
        "# Define attributes\n",
        "attributes = ['trailingEps']\n",
        "income_stmt_attributes = ['Gross Profit', 'Net Income', 'Net Income Continuous Operations', 'Basic EPS']\n",
        "\n",
        "def get_data(ticker, attributes):\n",
        "    info = ticker.info\n",
        "    return {attr: info.get(attr) for attr in attributes}\n",
        "\n",
        "def get_income_statement(ticker, income_stmt_attributes):\n",
        "    income_stmt = ticker.quarterly_income_stmt\n",
        "    return {attr: income_stmt.loc[attr].values[0] for attr in income_stmt_attributes if attr in income_stmt.index}\n",
        "\n",
        "def get_combined_sentiment(ticker):\n",
        "    news = ticker.news\n",
        "    total_combined_score = 0\n",
        "    article_count = 0\n",
        "\n",
        "    for article in news:\n",
        "        title = article['title']\n",
        "\n",
        "        # VADER analysis\n",
        "        vader_score = analyzer.polarity_scores(title)['compound']\n",
        "\n",
        "        # Hugging Face analysis\n",
        "        context_article = f\"Investing in {ticker.info['longName']}, {title}\"\n",
        "        hf_result = sentiment_pipeline(context_article)[0]\n",
        "        hf_score = hf_result['score'] if hf_result['label'] == 'POSITIVE' else -hf_result['score']\n",
        "\n",
        "        # Weighted average of the scores\n",
        "        combined_score = (0.6 * vader_score) + (0.4 * hf_score)\n",
        "\n",
        "        # Update cumulative score and count\n",
        "        total_combined_score += combined_score\n",
        "        article_count += 1\n",
        "\n",
        "    return total_combined_score / article_count if article_count > 0 else None\n",
        "\n",
        "# Get data and sentiment\n",
        "data_values = get_data(ticker, attributes)\n",
        "income_values = get_income_statement(ticker, income_stmt_attributes)\n",
        "cumulative_sentiment = get_combined_sentiment(ticker)\n",
        "\n",
        "# Combine all values into a single dictionary\n",
        "data_values.update(income_values)\n",
        "data_values['Cumulative Sentiment'] = cumulative_sentiment\n",
        "\n",
        "# Create DataFrame\n",
        "df_attributes = pd.DataFrame(list(data_values.items()), columns=['Attribute', 'Value'])\n",
        "\n",
        "# Display the combined DataFrame\n",
        "# print(df_attributes)\n",
        "df_attributes\n"
      ],
      "metadata": {
        "id": "X-3a0RMOetDI"
      },
      "execution_count": null,
      "outputs": []
    },
    {
      "cell_type": "code",
      "source": [
        "import yfinance as yf\n",
        "import pandas as pd\n",
        "from vaderSentiment.vaderSentiment import SentimentIntensityAnalyzer\n",
        "from transformers import pipeline\n",
        "import logging"
      ],
      "metadata": {
        "id": "I5bENhMcfvRc"
      },
      "execution_count": null,
      "outputs": []
    },
    {
      "cell_type": "code",
      "source": [
        "# Suppress unnecessary logging\n",
        "logging.getLogger(\"transformers\").setLevel(logging.ERROR)\n",
        "\n",
        "# Initialize sentiment analyzers\n",
        "analyzer = SentimentIntensityAnalyzer()\n",
        "sentiment_pipeline = pipeline(\"sentiment-analysis\")"
      ],
      "metadata": {
        "id": "OxbXBXibfwvV"
      },
      "execution_count": null,
      "outputs": []
    },
    {
      "cell_type": "code",
      "source": [
        "ticker_symbol = 'AAPL'  # Oracle\n",
        "ticker = yf.Ticker(ticker_symbol)\n",
        "\n",
        "basic_attributes = ['trailingEps']\n",
        "\n",
        "income_stmt_attributes = ['Gross Profit', 'Net Income', 'Net Income Continuous Operations', 'Basic EPS']"
      ],
      "metadata": {
        "id": "8MuufcJmf3N3"
      },
      "execution_count": null,
      "outputs": []
    },
    {
      "cell_type": "code",
      "source": [
        "def get_basic_data(ticker: tuple, basic_attributes: list[str]):\n",
        "\n",
        "    info = ticker.info\n",
        "\n",
        "    return {info.get(i) for i in basic_attributes}\n",
        "\n",
        "\n",
        "def get_income_stmt_data(ticker: tuple, income_stmt_attributes: list[str]) -> pd.DataFrame:\n",
        "\n",
        "  income_stmt_data = ticker.quarterly_income_stmt\n",
        "  # income_stmt_data_indexes = income_stmt_data.index\n",
        "\n",
        "  # get metrics from income statement\n",
        "\n",
        "  #return income_stmt_data\n",
        "  print(income_stmt_attributes[0])\n",
        "  return income_stmt_data\n",
        "\n",
        "\n",
        "def get_news_sentiment(ticker):\n",
        "\n",
        "    recent_news = ticker.news\n",
        "\n",
        "    article_count = 0\n",
        "    overall_avg_sentiment = 0\n",
        "\n",
        "    for article in recent_news:\n",
        "\n",
        "        title = article['title']\n",
        "\n",
        "        # VADER analysis. 'compound' means value between -1 and 1.\n",
        "        vader_score = analyzer.polarity_scores(title)['compound']\n",
        "\n",
        "        # Hugging Face analysis. context_article gives Hugging Face context for scoring a value.\n",
        "        context_article = f\"Does this text support or talk badly of either {ticker.info['longName']} or \\\n",
        "                           {ticker.info['industry']} in the text {title}\"\n",
        "        hf_result = sentiment_pipeline(context_article)[0]\n",
        "        hf_score = hf_result['score'] if hf_result['label'] == 'POSITIVE' else -hf_result['score']\n",
        "\n",
        "        # Weighted average of the scores\n",
        "        combined_score = (0.6 * vader_score) + (0.4 * hf_score)\n",
        "\n",
        "        # Update cumulative score and count\n",
        "        overall_avg_sentiment += combined_score\n",
        "        article_count += 1\n",
        "\n",
        "    return overall_avg_sentiment / article_count if article_count > 0 else None\n",
        "\n",
        "# Get data and sentiment\n",
        "basic_data = get_data(ticker, attributes)\n",
        "\n",
        "income_stmt_data = get_income_stmt_data(ticker, income_stmt_attributes)\n",
        "\n",
        "overall_avg_sentiment = get_combined_sentiment(ticker)\n",
        "\n",
        "\n",
        "results = basic_data, overall_avg_sentiment, income_stmt_data\n",
        "\n",
        "print(results)\n",
        "\n",
        "# Create DataFrame\n",
        "# data_values['Cumulative Sentiment'] = cumulative_sentiment\n",
        "# df_attributes = pd.DataFrame(list(data_values.items()), columns=['Attribute', 'Value'])\n",
        "\n",
        "# Display the combined DataFrame\n",
        "#print(df_attributes)\n"
      ],
      "metadata": {
        "id": "d2cBlIfLekah"
      },
      "execution_count": null,
      "outputs": []
    },
    {
      "source": [
        "e# Initialize VADER sentiment analyzer\n",
        "analyzer = SentimentIntensityAnalyzer()\n",
        "# Load sentiment-analysis pipeline from Hugging Face\n",
        "sentiment_pipeline = pipeline(\"sentiment-analysis\")\n",
        "\n",
        "ticker = 'ORA' # Oracle\n",
        "ticker = yf.Ticker(ticker)\n",
        "attributes = ['trailingEps']\n",
        "period = ['2023-01-01', '2024-01-01']\n",
        "\n",
        "income_stmt = ticker.quarterly_income_stmt\n",
        "income_stmt_attributes = ['Gross Profit', 'Net Income', 'Net Income Continuous Operations',\n",
        "                          'Basic EPS']\n",
        "# income_stmt_headers = (ticker.quarterly_income_stmt).index\n",
        "# Optional: 'Diluted EPS', 'Net Income From Continuing And Discontinued Operation'\n",
        "# print(income_stmt.index)\n",
        "\n",
        "print(income_stmt_attributes)\n",
        "\n",
        "def get_data(ticker, attributes):\n",
        "    info = ticker.info\n",
        "    attr_values = [info.get(i) for i in attributes]\n",
        "    df_attributes = pd.DataFrame({'Attribute': attributes, 'Value': attr_values})\n",
        "    return df_attributes\n",
        "\n",
        "def get_combined_sentiment(ticker):\n",
        "    news = ticker.news\n",
        "    total_combined_score = 0\n",
        "    article_count = 0\n",
        "\n",
        "    for i in news:\n",
        "        article = i['title']\n",
        "\n",
        "        # VADER analysis\n",
        "        vader_sentiment_dict = analyzer.polarity_scores(article)\n",
        "        vader_score = vader_sentiment_dict['compound']\n",
        "\n",
        "        # Hugging Face analysis\n",
        "        context_article = f\"Investing in {ticker.info['longName']}, {article}\"\n",
        "        hf_result = sentiment_pipeline(context_article)[0]\n",
        "        hf_score = hf_result['score'] if hf_result['label'] == 'POSITIVE' else -hf_result['score']\n",
        "\n",
        "        # Weighted average of the scores\n",
        "        combined_score = (0.6 * vader_score) + (0.4 * hf_score)\n",
        "\n",
        "        # Update cumulative score and count\n",
        "        total_combined_score += combined_score\n",
        "        article_count += 1\n",
        "\n",
        "    # Calculate cumulative sentiment score\n",
        "    if article_count > 0:\n",
        "        cumulative_sentiment_score = total_combined_score / article_count\n",
        "        #print(f\"Cumulative Sentiment Score for {ticker.info['longName']}: {cumulative_sentiment_score:.2f}\")\n",
        "        # Return the cumulative sentiment score\n",
        "        return cumulative_sentiment_score\n",
        "    else:\n",
        "        print(\"No articles to analyze.\")\n",
        "        return None\n",
        "\n",
        "df_attributes = get_data(ticker, attributes)\n",
        "\n",
        "# Get the cumulative sentiment score\n",
        "cumulative_sentiment = get_combined_sentiment(ticker)\n",
        "\n",
        "# Add cumulative sentiment as the last row\n",
        "if cumulative_sentiment is not None:\n",
        "    sentiment_row = pd.DataFrame({'Attribute': ['Cumulative Sentiment'], 'Value': [cumulative_sentiment]})\n",
        "    # Concatenate the original DataFrame and the new row\n",
        "    df_attributes = pd.concat([df_attributes, sentiment_row], ignore_index=True)\n",
        "\n",
        "# Display the combined DataFrame\n",
        "df_attributes"
      ],
      "cell_type": "code",
      "metadata": {
        "id": "4i6Sjdrxb7zi"
      },
      "execution_count": null,
      "outputs": []
    },
    {
      "cell_type": "code",
      "source": [],
      "metadata": {
        "id": "SoyMDX4SbzVu"
      },
      "execution_count": null,
      "outputs": []
    },
    {
      "cell_type": "code",
      "source": [],
      "metadata": {
        "id": "eUZsCKRrQJNX"
      },
      "execution_count": null,
      "outputs": []
    },
    {
      "source": [
        "import yfinance as yf\n",
        "import pandas as pd\n",
        "from vaderSentiment.vaderSentiment import SentimentIntensityAnalyzer\n",
        "\n",
        "from transformers import pipeline\n",
        "import logging\n",
        "logging.getLogger(\"transformers\").setLevel(logging.ERROR)\n",
        "\n",
        "# Initialize VADER sentiment analyzer\n",
        "analyzer = SentimentIntensityAnalyzer()\n",
        "\n",
        "# Load sentiment-analysis pipeline from Hugging Face\n",
        "sentiment_pipeline = pipeline(\"sentiment-analysis\")\n",
        "\n",
        "ticker = 'ORA'\n",
        "ticker = yf.Ticker(ticker)\n",
        "attributes = ['trailingEps', 'profitMargins', 'revenueGrowth']\n",
        "period = ('2023-01-01', '2024-01-01')\n",
        "\n",
        "def get_data(ticker, attributes):\n",
        "    info = ticker.info\n",
        "    attr_values = [info.get(i) for i in attributes]\n",
        "    df_attributes = pd.DataFrame({'Attribute': attributes, 'Value': attr_values})\n",
        "    return df_attributes\n",
        "\n",
        "def get_combined_sentiment(ticker):\n",
        "    news = ticker.news\n",
        "    total_combined_score = 0\n",
        "    article_count = 0\n",
        "\n",
        "    for i in news:\n",
        "        article = i['title']\n",
        "\n",
        "        # VADER analysis\n",
        "        vader_sentiment_dict = analyzer.polarity_scores(article)\n",
        "        vader_score = vader_sentiment_dict['compound']\n",
        "\n",
        "        # Hugging Face analysis\n",
        "        context_article = f\"Investing in {ticker.info['longName']}, {article}\"\n",
        "        hf_result = sentiment_pipeline(context_article)[0]\n",
        "        hf_score = hf_result['score'] if hf_result['label'] == 'POSITIVE' else -hf_result['score']\n",
        "\n",
        "        # Weighted average of the scores\n",
        "        combined_score = (0.6 * vader_score) + (0.4 * hf_score)\n",
        "\n",
        "        # Update cumulative score and count\n",
        "        total_combined_score += combined_score\n",
        "        article_count += 1\n",
        "\n",
        "    # Calculate cumulative sentiment score\n",
        "    if article_count > 0:\n",
        "        cumulative_sentiment_score = total_combined_score / article_count\n",
        "        #print(f\"Cumulative Sentiment Score for {ticker.info['longName']}: {cumulative_sentiment_score:.2f}\")\n",
        "        # Return the cumulative sentiment score\n",
        "        return cumulative_sentiment_score\n",
        "    else:\n",
        "        print(\"No articles to analyze.\")\n",
        "        return None\n",
        "\n",
        "df_attributes = get_data(ticker, attributes)\n",
        "\n",
        "# Get the cumulative sentiment score\n",
        "cumulative_sentiment = get_combined_sentiment(ticker)\n",
        "\n",
        "# Add cumulative sentiment as the third row\n",
        "if cumulative_sentiment is not None:\n",
        "    new_row = pd.DataFrame({'Attribute': ['Cumulative Sentiment'], 'Value': [cumulative_sentiment]})\n",
        "    # Use -1 to select the last row instead of the undefined variable 'end'\n",
        "    df_attributes = pd.concat([df_attributes.iloc[:2], new_row, df_attributes.iloc[-1:]]).reset_index(drop=True)\n",
        "\n",
        "# Display the combined DataFrame\n",
        "print(df_attributes)"
      ],
      "cell_type": "code",
      "metadata": {
        "id": "wO_kiUPEZfeq"
      },
      "execution_count": null,
      "outputs": []
    },
    {
      "cell_type": "markdown",
      "source": [
        "Fundamental Analysis"
      ],
      "metadata": {
        "id": "pkBC-1VFCCeS"
      }
    },
    {
      "cell_type": "code",
      "source": [
        "import yfinance as yf\n",
        "import pandas as pd\n",
        "\n",
        "from vaderSentiment.vaderSentiment import SentimentIntensityAnalyzer\n",
        "analyzer = SentimentIntensityAnalyzer()"
      ],
      "metadata": {
        "id": "g26feVT_Nt8u"
      },
      "execution_count": null,
      "outputs": []
    },
    {
      "cell_type": "code",
      "source": [
        "ticker = 'NVDA'\n",
        "ticker = yf.Ticker(ticker)\n",
        "attributes = ['trailingEps', 'profitMargins', 'revenueGrowth']\n",
        "\n",
        "def get_data(ticker: tuple, attributes: list[str], period: tuple[str, str]=None):\n",
        "\n",
        "  info = ticker.info\n",
        "  attr_values = [info.get(i) for i in attributes]\n",
        "  df_attributes = pd.DataFrame({'Attribute': attributes, 'Value': attr_values})\n",
        "\n",
        "  return df_attributes\n",
        "\n",
        "df_attributes = get_data(ticker, attributes)\n",
        "df_attributes\n",
        "\n",
        "\n",
        "def get_sentiment(ticker: tuple):\n",
        "\n",
        "  news = ticker.news\n",
        "\n",
        "  for i in news:\n",
        "\n",
        "    article = i['title']\n",
        "    sentiment_dict = analyzer.polarity_scores(article)\n",
        "    sentiment_score = sentiment_dict['compound']\n",
        "\n",
        "    print(f\"Title: {article}, Sentiment Score: {sentiment_score}\")\n",
        "\n",
        "sentiment = get_sentiment(ticker)\n"
      ],
      "metadata": {
        "id": "Ov0bJwuuFfGC"
      },
      "execution_count": null,
      "outputs": []
    },
    {
      "cell_type": "code",
      "source": [
        "from transformers import pipeline\n",
        "import yfinance as yf\n",
        "import pandas as pd\n",
        "\n",
        "# Load a sentiment-analysis pipeline\n",
        "sentiment_pipeline = pipeline(\"sentiment-analysis\")\n",
        "\n",
        "ticker = 'NVDA'\n",
        "ticker = yf.Ticker(ticker)\n",
        "attributes = ['trailingEps', 'profitMargins', 'revenueGrowth']\n",
        "\n",
        "def get_data(ticker: tuple, attributes: list[str], period: tuple[str, str]=None):\n",
        "    info = ticker.info\n",
        "    attr_values = [info.get(i) for i in attributes]\n",
        "    df_attributes = pd.DataFrame({'Attribute': attributes, 'Value': attr_values})\n",
        "    return df_attributes\n",
        "\n",
        "df_attributes = get_data(ticker, attributes)\n",
        "\n",
        "def get_sentiment(ticker: tuple):\n",
        "    news = ticker.news\n",
        "    for i in news:\n",
        "        article = i['title']\n",
        "        result = sentiment_pipeline(article)[0]\n",
        "        sentiment_label = result['label']  # 'POSITIVE' or 'NEGATIVE'\n",
        "        sentiment_score = result['score']  # Confidence score\n",
        "        print(f\"Title: {article}, Sentiment: {sentiment_label}, Score: {sentiment_score:.2f}\")\n",
        "\n",
        "sentiment = get_sentiment(ticker)"
      ],
      "metadata": {
        "id": "5et8F22pO4pp"
      },
      "execution_count": null,
      "outputs": []
    },
    {
      "cell_type": "code",
      "source": [
        "import yfinance as yf\n",
        "import pandas as pd\n",
        "from transformers import pipeline\n",
        "\n",
        "# Load the sentiment-analysis pipeline\n",
        "sentiment_pipeline = pipeline(\"sentiment-analysis\")\n",
        "\n",
        "ticker = 'NVDA'\n",
        "ticker_data = yf.Ticker(ticker)\n",
        "attributes = ['trailingEps', 'profitMargins', 'revenueGrowth']\n",
        "\n",
        "def get_data(ticker, attributes):\n",
        "    info = ticker.info\n",
        "    attr_values = [info.get(i) for i in attributes]\n",
        "    df_attributes = pd.DataFrame({'Attribute': attributes, 'Value': attr_values})\n",
        "    return df_attributes\n",
        "\n",
        "df_attributes = get_data(ticker_data, attributes)\n",
        "\n",
        "def get_sentiment(ticker):\n",
        "    news = ticker.news\n",
        "    for i in news:\n",
        "        article = i['title']\n",
        "        # Prepend specific context for stock analysis\n",
        "        context_article = f\"Relevance to {ticker} retail investors, {article}\"\n",
        "        result = sentiment_pipeline(context_article)[0]\n",
        "        sentiment_label = result['label']\n",
        "        sentiment_score = result['score']\n",
        "        print(f\"Title: {article}, Sentiment: {sentiment_label}, Score: {sentiment_score:.2f}\")\n",
        "\n",
        "get_sentiment(ticker_data)\n"
      ],
      "metadata": {
        "id": "pwlJLu0nPrYF"
      },
      "execution_count": null,
      "outputs": []
    },
    {
      "cell_type": "markdown",
      "source": [
        "## Mean Reversion Trading Algorithm\n",
        "---"
      ],
      "metadata": {
        "id": "zquUyRXuo-cF"
      }
    },
    {
      "cell_type": "markdown",
      "source": [
        "# Full Code:"
      ],
      "metadata": {
        "id": "cjueoV-NP09H"
      }
    },
    {
      "cell_type": "code",
      "source": [
        "import yfinance as yf\n",
        "import matplotlib.pyplot as plt\n",
        "import matplotlib.ticker as formatter\n",
        "import pandas as pd\n",
        "import datetime\n",
        "pd.set_option('display.max_rows', None)\n",
        "\n",
        "\n",
        "def get_data(tickers_list: list[str], start_date: str, end_date: str) -> pd.DataFrame:\n",
        "  data = yf.download(tickers_list, start=start_date, end=end_date, progress=False)\n",
        "  adj_close = pd.DataFrame(data['Adj Close'])\n",
        "  adj_close.index = adj_close.index.date # Voids time signature on Date index, just Date\n",
        "  return adj_close\n",
        "\n",
        "\n",
        "def get_moving_avg(price_data: pd.DataFrame, shorter_moving_avg_interval: int,\n",
        "                   longer_moving_avg_interval: int) -> tuple:\n",
        "  moving_avg_shorter = price_data.rolling(window=shorter_moving_avg_interval).mean()\n",
        "  moving_avg_longer = price_data.rolling(window=longer_moving_avg_interval).mean()\n",
        "  moving_avgs = pd.DataFrame(index=price_data.index)\n",
        "  for ticker in price_data.columns:\n",
        "        moving_avgs[f'{ticker}_shorter'] = moving_avg_shorter[ticker]\n",
        "        moving_avgs[f'{ticker}_longer'] = moving_avg_longer[ticker]\n",
        "  return moving_avgs, moving_avg_shorter, moving_avg_longer\n",
        "\n",
        "\n",
        "def get_sdev(price_data):\n",
        "  sdev = price_data.std()\n",
        "  return sdev\n",
        "\n",
        "\n",
        "def plot_results(moving_averages: pd.DataFrame, original_close_prices: list[float],plot_colours: list[str], plot_line_widths: list[float],\n",
        "                 plot_line_styles: list[str], tickers_list: list[str], plot_figsize: tuple, sdev: pd.Series()):\n",
        "  plt.figure(figsize=plot_figsize, facecolor='white')\n",
        "  plt.grid(True, linestyle='-', alpha=0.7)\n",
        "  plt.gca().set_facecolor('lightgrey')\n",
        "  plt.title((f'Historical Adjusted Close Prices & Moving Averages\\n'\n",
        "             f'for {tickers_list}'))\n",
        "  plt.legend()\n",
        "  plt.xlabel('Date', fontsize=13)\n",
        "  plt.ylabel('Price Activity', fontsize=13)\n",
        "  plt.gca().yaxis.set_major_formatter(formatter.StrMethodFormatter('${x:,.2f}'))\n",
        "  for i, ticker in enumerate(moving_averages.columns):\n",
        "    plt.plot(moving_averages.index, moving_averages[ticker], linewidth=plot_line_widths[i], linestyle=plot_line_styles[i],\n",
        "             color=plot_colours[i], label=ticker)\n",
        "  plt.plot(original_close_prices.index, original_close_prices, color='black',\n",
        "           linewidth=0.9, label=f'{tickers_list[0]} Adj Close Price', alpha=0.7)\n",
        "  plt.plot(moving_averages.index, moving_averages['Adj Close_longer'] + (sdev/2), linewidth=1.2, color='red', linestyle='--',\n",
        "           alpha = 0.7)\n",
        "  plt.plot(moving_averages.index, moving_averages['Adj Close_longer'] - (sdev/2), linewidth=1.2, color='darkgreen',\n",
        "           linestyle='--', alpha = 0.7)\n",
        "  plt.show()\n",
        "\n",
        "\n",
        "plot_colours = ['blue', 'black'] # DEFAULT INDIVIDUAL\n",
        "plot_line_widths = [1.75, 1] # DEFAULT INDIVIDUAL\n",
        "plot_line_styles = ['-','-'] # DEFAULT INDIVIDUAL\n",
        "plot_figsize = 9,6\n",
        "tickers_list = ['FCX'] # DEFAULT INDIVIDUAL\n",
        "#tickers_list = ['TSMC34.SA'] # DEFAULT INDIVIDUAL\n",
        "start_date = '2021-01-01' # DEFAULT\n",
        "end_date = '2024-01-01' # DEFAULT\n",
        "shorter_rolling_interval = 20 # DEFAULT (NUMBER OF DAYS)\n",
        "longer_rolling_interval = 40 # DEFAULT (NUMBER OF DAYS)\n",
        "\n",
        "\n",
        "adj_close = get_data(tickers_list, start_date, end_date)\n",
        "moving_avgs, moving_avg_shorter, moving_avg_longer = get_moving_avg(adj_close, shorter_rolling_interval, longer_rolling_interval)\n",
        "sdev = (get_sdev(moving_avg_longer)).iloc[0]\n",
        "\n",
        "\n",
        "plot_results(moving_avgs, adj_close, plot_colours, plot_line_widths, plot_line_styles, tickers_list, plot_figsize, sdev)"
      ],
      "metadata": {
        "id": "5aJdVY7-P_RL"
      },
      "execution_count": null,
      "outputs": []
    },
    {
      "cell_type": "markdown",
      "source": [
        "# Functions\n",
        "---"
      ],
      "metadata": {
        "id": "LKI30kvA9Pwt"
      }
    },
    {
      "cell_type": "markdown",
      "source": [
        "Import Libraries:"
      ],
      "metadata": {
        "id": "IT_Gj3NFJObV"
      }
    },
    {
      "cell_type": "code",
      "source": [
        "import yfinance as yf\n",
        "\n",
        "import matplotlib.pyplot as plt\n",
        "import matplotlib.ticker as formatter\n",
        "\n",
        "import pandas as pd\n",
        "pd.set_option('display.max_rows', None)\n",
        "\n",
        "import datetime"
      ],
      "metadata": {
        "id": "RtHjARt5JNSn"
      },
      "execution_count": null,
      "outputs": []
    },
    {
      "cell_type": "markdown",
      "source": [
        "**Function**: Get Data"
      ],
      "metadata": {
        "id": "Pw23TQjAJQXl"
      }
    },
    {
      "cell_type": "code",
      "source": [
        "def get_data(tickers_list: list[str], start_date: str, end_date: str, interval=None):\n",
        "\n",
        "  # Retrieve data for adjusted close prices\n",
        "  data = yf.download(tickers_list, start=start_date, end=end_date, progress=False)\n",
        "  hist =\n",
        "\n",
        "  adj_close = pd.DataFrame(hist_data['Adj Close'])\n",
        "  adj_close.index = adj_close.index.date # Voids time signature on Date index, just Date\n",
        "\n",
        "  return hist_data, adj_close"
      ],
      "metadata": {
        "id": "GVhRghxiJW1M"
      },
      "execution_count": null,
      "outputs": []
    },
    {
      "cell_type": "code",
      "source": [
        "hist_data, adj_close = get_data(['MSFT'], '2023-06-01', '2024-01-01')\n",
        "\n",
        "hist_data.info"
      ],
      "metadata": {
        "id": "xA8SpnfgC6kK"
      },
      "execution_count": null,
      "outputs": []
    },
    {
      "cell_type": "markdown",
      "source": [
        "**Function**: Get Moving Averages"
      ],
      "metadata": {
        "id": "PLaCTMElJmq8"
      }
    },
    {
      "cell_type": "code",
      "source": [
        "def get_moving_avg(price_data: pd.DataFrame, shorter_moving_avg_interval: int,\n",
        "                   longer_moving_avg_interval: int) -> tuple:\n",
        "\n",
        "  # Pandas rolling avg\n",
        "  moving_avg_shorter = price_data.rolling(window=shorter_moving_avg_interval).mean()\n",
        "  moving_avg_longer = price_data.rolling(window=longer_moving_avg_interval).mean()\n",
        "\n",
        "  # Convert to DataFrame\n",
        "  moving_avgs = pd.DataFrame(index=price_data.index)\n",
        "  for ticker in price_data.columns:\n",
        "        moving_avgs[f'{ticker}_shorter'] = moving_avg_shorter[ticker]\n",
        "        moving_avgs[f'{ticker}_longer'] = moving_avg_longer[ticker]\n",
        "  # Note: Replace Initialized (Combined) Columns with shorter and longer moving averages\n",
        "\n",
        "  return moving_avgs, moving_avg_shorter, moving_avg_longer"
      ],
      "metadata": {
        "id": "LeE-kbx2JveO"
      },
      "execution_count": null,
      "outputs": []
    },
    {
      "cell_type": "markdown",
      "source": [
        "**Function**: Get Sdev"
      ],
      "metadata": {
        "id": "M36vNKbdMxeR"
      }
    },
    {
      "cell_type": "code",
      "source": [
        "def get_sdev(price_data):\n",
        "\n",
        "  sdev = price_data.std()\n",
        "\n",
        "  return sdev"
      ],
      "metadata": {
        "id": "dCiq8aEMMyOq"
      },
      "execution_count": null,
      "outputs": []
    },
    {
      "cell_type": "markdown",
      "source": [
        "**Function**: Cycler"
      ],
      "metadata": {
        "id": "44NbaRqJpZY2"
      }
    },
    {
      "cell_type": "markdown",
      "source": [
        "# Plot Results\n",
        "---\n",
        "\n"
      ],
      "metadata": {
        "id": "ZVDM8sSl8VI8"
      }
    },
    {
      "cell_type": "code",
      "source": [
        "def trader(price_data: pd.DataFrame, sdev: int):\n",
        "\n",
        "  sma_price = price_data['Adj Close_shorter']\n",
        "  lma_price = price_data['Adj Close_longer']\n",
        "\n",
        "  #for i in price_data:\n",
        "\n",
        "    #if sma_price[i] and lma_price[i] == int:\n",
        "\n",
        "      # begin trading\n",
        "\n",
        "      #if (sma_price[i] - lma_price[i]) <= sdev:\n",
        "\n",
        "\n",
        "\n",
        "    #else:\n",
        "      #continue\n",
        "\n",
        "\n",
        "\n"
      ],
      "metadata": {
        "id": "UipHF1IiGYnO"
      },
      "execution_count": null,
      "outputs": []
    },
    {
      "cell_type": "markdown",
      "source": [
        "**Function**:"
      ],
      "metadata": {
        "id": "y9TAWCW-J3tT"
      }
    },
    {
      "cell_type": "code",
      "source": [
        "def plot_results(moving_averages: pd.DataFrame, original_close_prices: list[float],plot_colours: list[str], plot_line_widths: list[float],\n",
        "                 plot_line_styles: list[str], tickers_list: list[str], plot_figsize: tuple, sdev: pd.Series()):\n",
        "\n",
        "\n",
        "  plt.figure(figsize=plot_figsize, facecolor='white')\n",
        "  plt.grid(True, linestyle='-', alpha=0.7)\n",
        "  plt.gca().set_facecolor('lightgrey')\n",
        "  # Bg color\n",
        "\n",
        "  plt.title((f'Historical Adjusted Close Prices & Moving Averages\\n'\n",
        "             f'for {tickers_list}'))\n",
        "\n",
        "  plt.legend()\n",
        "  plt.xlabel('Date', fontsize=13)\n",
        "  plt.ylabel('Price Activity', fontsize=13)\n",
        "  plt.gca().yaxis.set_major_formatter(formatter.StrMethodFormatter('${x:,.2f}'))\n",
        "  # Sets ($) data format\n",
        "\n",
        "  for i, ticker in enumerate(moving_averages.columns):\n",
        "    plt.plot(moving_averages.index, moving_averages[ticker], linewidth=plot_line_widths[i], linestyle=plot_line_styles[i],\n",
        "             color=plot_colours[i], label=ticker)\n",
        "  # Note: Loops through plot formatting in following code block (Input: Format Plot)\n",
        "\n",
        "  # Note: Plot Original Price Data Always as Black w/ its own other style attributes\n",
        "  # Change this terrible line later\n",
        "  plt.plot(original_close_prices.index, original_close_prices, color='black',\n",
        "           linewidth=0.9, label=f'{tickers_list[0]} Adj Close Price')\n",
        "\n",
        "  # Plot sdev lines\n",
        "  plt.plot(moving_averages.index, moving_averages['Adj Close_longer'] + sdev, linewidth=0.7)\n",
        "  plt.plot(moving_averages.index, moving_averages['Adj Close_longer'] - sdev)\n",
        "\n",
        "\n",
        "  plt.show()"
      ],
      "metadata": {
        "id": "ZgrtG9RgJ5yU"
      },
      "execution_count": null,
      "outputs": []
    },
    {
      "cell_type": "markdown",
      "source": [
        "# Inputs"
      ],
      "metadata": {
        "id": "BRGV1Zfb8ypB"
      }
    },
    {
      "cell_type": "markdown",
      "source": [
        "---\n",
        "**Inputs**: Format Plot"
      ],
      "metadata": {
        "id": "z7skqfocowGF"
      }
    },
    {
      "cell_type": "code",
      "source": [
        "#plot_colours = ['blue', 'blue', 'darkred', 'darkred'] # DEFAULT\n",
        "plot_colours = ['blue', 'red'] # DEFAULT INDIVIDUAL\n",
        "#plot_line_widths = [1,0.4,1,0.4] # DEFAULT\n",
        "plot_line_widths = [1, 0.7] # DEFAULT INDIVIDUAL\n",
        "#plot_line_styles = ['-','-.','-','-.'] # DEFAULT\n",
        "plot_line_styles = ['-','--'] # DEFAULT INDIVIDUAL\n",
        "plot_figsize = 9,6"
      ],
      "metadata": {
        "id": "F8zeWnatovlw"
      },
      "execution_count": null,
      "outputs": []
    },
    {
      "cell_type": "markdown",
      "source": [
        "**Inputs**: Portfolio Tickers, Date Period, Moving Average Rolling Intervals"
      ],
      "metadata": {
        "id": "t4R6_PZpKLfw"
      }
    },
    {
      "cell_type": "code",
      "source": [
        "#tickers_list = ['MSFT', 'AAPL'] # DEFAULT\n",
        "tickers_list = ['MSFT'] # DEFAULT INDIVIDUAL\n",
        "start_date = '2023-01-01' # DEFAULT\n",
        "end_date = '2024-01-01' # DEFAULT\n",
        "shorter_rolling_interval = 5 # DEFAULT (NUMBER OF DAYS)\n",
        "longer_rolling_interval = 15 # DEFAULT (NUMBER OF DAYS)"
      ],
      "metadata": {
        "id": "ONNObTTGoede"
      },
      "execution_count": null,
      "outputs": []
    },
    {
      "cell_type": "markdown",
      "source": [
        "Store Function Output"
      ],
      "metadata": {
        "id": "80Yq231Po3Eu"
      }
    },
    {
      "cell_type": "code",
      "source": [
        "## Function: Get Data\n",
        "adj_close = get_data(tickers_list, start_date, end_date)\n",
        "\n",
        "## Function: Get Moving Averages (uses normalized adj close result)\n",
        "moving_avgs, moving_avg_shorter, moving_avg_longer = get_moving_avg(adj_close, shorter_rolling_interval, longer_rolling_interval)\n",
        "\n",
        "## Function: Get Sdev\n",
        "sdev = (get_sdev(moving_avg_longer)).iloc[0]\n",
        "\n",
        "print(sdev)"
      ],
      "metadata": {
        "id": "ysxORs_rpWgm"
      },
      "execution_count": null,
      "outputs": []
    },
    {
      "cell_type": "markdown",
      "source": [
        "# Output:\n",
        "---"
      ],
      "metadata": {
        "id": "LT5ypig182lq"
      }
    },
    {
      "cell_type": "markdown",
      "source": [
        "**Return Results:**"
      ],
      "metadata": {
        "id": "1nseZkOkpqB5"
      }
    },
    {
      "cell_type": "code",
      "source": [
        "#plot_results(adj_close, plot_colours, plot_line_widths, plot_line_styles, tickers_list)\n",
        "\n",
        "\n",
        "#plot_results(moving_avgs, adj_close, plot_colours, plot_line_widths, plot_line_styles, tickers_list, plot_figsize, sdev)"
      ],
      "metadata": {
        "id": "AcA-fYHJTHTr"
      },
      "execution_count": null,
      "outputs": []
    },
    {
      "cell_type": "markdown",
      "source": [
        "# Analysis"
      ],
      "metadata": {
        "id": "4snM5Mx7ArJw"
      }
    },
    {
      "cell_type": "markdown",
      "source": [
        "---\n",
        "**Function**: Get Rolling Sdev\n",
        "\n"
      ],
      "metadata": {
        "id": "4OMpUJSaCnt6"
      }
    },
    {
      "cell_type": "code",
      "source": [
        "def get_sdev(price_data):\n",
        "\n",
        "  sdev = price_data.std()\n",
        "\n",
        "  return sdev\n",
        "\n",
        "sdev = (get_sdev(adj_close)).iloc[0]\n",
        "\n",
        "print(sdev)"
      ],
      "metadata": {
        "id": "lt0V3lAwA-8F"
      },
      "execution_count": null,
      "outputs": []
    },
    {
      "cell_type": "markdown",
      "source": [
        "---\n",
        "**Function**: Check if Current Price +/2 sdev about the mean"
      ],
      "metadata": {
        "id": "xFmdE9RvEene"
      }
    }
  ],
  "metadata": {
    "colab": {
      "provenance": [],
      "collapsed_sections": [
        "l_jTWHjaMJRT",
        "U6pRR5gILulD",
        "GCrz1MqvLzzj",
        "h2dXSLzgL3ZH",
        "xnHORmd-L5fM",
        "XsvClLMZoZ7h",
        "fatE1hOFwfe2",
        "M3rQMcXqx1mx",
        "Q6gPJtSv4dps",
        "QPmW-yWz-JsT",
        "sNQBzu22NOIz",
        "cjueoV-NP09H",
        "LKI30kvA9Pwt",
        "ZVDM8sSl8VI8",
        "BRGV1Zfb8ypB",
        "LT5ypig182lq",
        "4snM5Mx7ArJw"
      ],
      "authorship_tag": "ABX9TyNwTAwZ041mjR0a/SVxmZEa",
      "include_colab_link": true
    },
    "kernelspec": {
      "display_name": "Python 3",
      "name": "python3"
    },
    "language_info": {
      "name": "python"
    }
  },
  "nbformat": 4,
  "nbformat_minor": 0
}