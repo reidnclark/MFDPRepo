{
  "cells": [
    {
      "cell_type": "markdown",
      "metadata": {
        "id": "view-in-github",
        "colab_type": "text"
      },
      "source": [
        "<a href=\"https://colab.research.google.com/github/reidnclark/MFDPRepo/blob/main/mean_reversion_trading_algorithm_1.ipynb\" target=\"_parent\"><img src=\"https://colab.research.google.com/assets/colab-badge.svg\" alt=\"Open In Colab\"/></a>"
      ]
    },
    {
      "cell_type": "markdown",
      "source": [
        "# Multipurpose Financial Data Processor (MFDP)\n",
        "---"
      ],
      "metadata": {
        "id": "l_jTWHjaMJRT"
      }
    },
    {
      "cell_type": "markdown",
      "source": [
        "### **1) Fundamental Analysis**"
      ],
      "metadata": {
        "id": "86rKvPXsM2MD"
      }
    },
    {
      "cell_type": "markdown",
      "source": [
        "##### **Test Long Stocks** (Buy & Hold):\n",
        "---\n",
        "- ##### Canadian Natural Resources Limited - TOR:CNQ.TO\n",
        "- ##### Nutrien Ltd. - NYQ:NTR\n",
        "\n",
        "\n",
        "- ##### Shin-Etsu Chemical, Co., Ltd. - PNK:SHECY\n",
        "- ##### Siemens Energy AG - PNK:SMEGF\n",
        "- ##### Taiwan Semiconductor, Mfg. Co., Ltd. - NYQ:TSM\n",
        "- ##### Dollarama Inc. - TOR:DOL.TO\n",
        "\n",
        "\n",
        "---"
      ],
      "metadata": {
        "id": "r2mTDJCIdkGO"
      }
    },
    {
      "cell_type": "markdown",
      "source": [
        "#### Full Code:"
      ],
      "metadata": {
        "id": "iN-L7kriRVXi"
      }
    },
    {
      "cell_type": "markdown",
      "source": [
        "##### Input Arguments:"
      ],
      "metadata": {
        "id": "h2dXSLzgL3ZH"
      }
    },
    {
      "cell_type": "markdown",
      "source": [
        "##### Import Libraries:"
      ],
      "metadata": {
        "id": "U6pRR5gILulD"
      }
    },
    {
      "cell_type": "code",
      "source": [
        "import yfinance as yf\n",
        "import pandas as pd\n",
        "from babel.numbers import format_currency, format_percent"
      ],
      "metadata": {
        "id": "cpLkehRvLCTY"
      },
      "execution_count": 168,
      "outputs": []
    },
    {
      "cell_type": "markdown",
      "source": [
        "# INPUTS"
      ],
      "metadata": {
        "id": "xKF1ssR5Z5cf"
      }
    },
    {
      "cell_type": "code",
      "source": [
        "ticker_input = 'NTR'\n",
        "test_ticker_assert = yf.Ticker(ticker_input)\n",
        "\n",
        "financial_attributes_input = ['EBITDA'] # just use one for forecaster\n",
        "cashflow_attributes_input = ['Free Cash Flow'] # ditto above\n",
        "balsheet_attributes_input = ['Total Debt']\n",
        "basic_attributes_input = ['beta', 'marketCap', 'sharesOutstanding']"
      ],
      "metadata": {
        "id": "tG2lIO-QCKQA"
      },
      "execution_count": 169,
      "outputs": []
    },
    {
      "cell_type": "markdown",
      "source": [
        "# MASTER SEND DCF MODEL"
      ],
      "metadata": {
        "id": "_NFHGLJ4ZeVk"
      }
    },
    {
      "cell_type": "markdown",
      "source": [
        "#### Get Data Function:"
      ],
      "metadata": {
        "id": "rIebaBLyBL_t"
      }
    },
    {
      "cell_type": "code",
      "source": [
        "def get_basic_data(attributes_data, attributes_input):\n",
        "    basic_data_dict = {}\n",
        "    for attr in attributes_input:\n",
        "      basic_data_dict[attr] = attributes_data.get(attr)\n",
        "    return basic_data_dict\n",
        "\n",
        "def get_attr_hist_data(attributes_data, attributes_input):\n",
        "    for attr in attributes_input:\n",
        "      attr_hist_data = attributes_data.loc[attr].dropna()\n",
        "    return attr_hist_data\n",
        "\n",
        "def forecast(attr_hist_data):\n",
        "    initial_value = attr_hist_data.iloc[-1]\n",
        "    ending_value = attr_hist_data.iloc[0]\n",
        "    #compound annual growth rate\n",
        "    cagr = ((ending_value / initial_value)**(1/len(attr_hist_data))) - 1\n",
        "    print(f'Compounded annual {attr_hist_data.name} growth rate: {(cagr*100):.2f}%')\n",
        "    forecasted_list = []\n",
        "    for i in range(len(attr_hist_data)):\n",
        "      forecast_value = ending_value * ((1+cagr)**(i+1))\n",
        "      forecasted_list.append(forecast_value)\n",
        "    return forecasted_list\n",
        "\n",
        "def get_data(ticker_input: tuple,\n",
        "             financial_attributes_input: list[str],\n",
        "             cashflow_attributes_input: list[str],\n",
        "             balsheet_attributes_input: list[str],\n",
        "             basic_attributes_input: list[str]):\n",
        "\n",
        "  yf_ticker = yf.Ticker(ticker_input)\n",
        "\n",
        "  # access yfinance financial attributes (For this code, we just need the 'EBITDA' metric)\n",
        "  # EBITDA = Earnings before Interest, Tax, Deductions & Amortization (Loan Payments)\n",
        "  financial_attributes = yf_ticker.financials\n",
        "  financial_attributes_hist_data = get_attr_hist_data(financial_attributes, financial_attributes_input)\n",
        "  forecasted_list_financials = forecast(financial_attributes_hist_data)\n",
        "\n",
        "  # access yfinance data from company's cash flow statement (we just need the 'Free Cash Flow' metric)\n",
        "  cashflow_attributes = yf_ticker.cashflow\n",
        "  cashflow_attributes_hist_data = get_attr_hist_data(cashflow_attributes, cashflow_attributes_input)\n",
        "  forecasted_list_cashflow = forecast(cashflow_attributes_hist_data)\n",
        "\n",
        "  # access yfinance balance sheet data for company (we just need 'Total Debt')\n",
        "  balsheet_attributes = yf_ticker.balance_sheet\n",
        "  balsheet_attributes_hist_data = get_attr_hist_data(balsheet_attributes, balsheet_attributes_input).iloc[0]\n",
        "\n",
        "  # basic summary information for company (we need the 'beta', 'marketCap' and 'sharesOutstanding' )\n",
        "  basic_attributes = yf_ticker.info\n",
        "  basic_attributes_hist_data = get_basic_data(basic_attributes, basic_attributes_input)\n",
        "\n",
        "  return forecasted_list_financials, forecasted_list_cashflow, balsheet_attributes_hist_data, basic_attributes_hist_data, yf_ticker\n",
        "\n",
        "forecasted_list_financials, forecasted_list_cashflow, balsheet_attributes_hist_data, basic_attributes_hist_data, yf_ticker = get_data(ticker_input,\n",
        "                                                                           financial_attributes_input,\n",
        "                                                                           cashflow_attributes_input,\n",
        "                                                                           balsheet_attributes_input,\n",
        "                                                                           basic_attributes_input\n",
        "                                                                                      )\n",
        "\n",
        "# data dict\n",
        "ticker = yf_ticker\n",
        "\n",
        "total_cash = (yf_ticker.balance_sheet.loc['Cash And Cash Equivalents'].iloc[0])\n",
        "total_equity = (test_ticker_assert.balance_sheet).loc['Stockholders Equity'].iloc[0]\n",
        "\n",
        "total_debt = balsheet_attributes_hist_data\n",
        "interest_expenses = (yf_ticker.income_stmt.loc['Interest Expense'].iloc[0])\n",
        "cost_of_debt = interest_expenses / total_debt\n",
        "\n",
        "total_shares = basic_attributes_hist_data['sharesOutstanding']\n",
        "\n",
        "beta = basic_attributes_hist_data['beta']\n",
        "market_cap = basic_attributes_hist_data['marketCap']\n",
        "ticker_name = ticker.info.get('longName')"
      ],
      "metadata": {
        "id": "GGaKpxR7BK_L",
        "colab": {
          "base_uri": "https://localhost:8080/"
        },
        "outputId": "cdc47eab-b056-4030-d10a-45db5fc9fc72"
      },
      "execution_count": 170,
      "outputs": [
        {
          "output_type": "stream",
          "name": "stdout",
          "text": [
            "Compounded annual EBITDA growth rate: 14.00%\n",
            "Compounded annual Free Cash Flow growth rate: 7.79%\n"
          ]
        }
      ]
    },
    {
      "cell_type": "markdown",
      "source": [
        "#### Compute the Expected Return ( *E ( x )*  ) of an investment given:\n",
        "---\n",
        "\n",
        "##### 1. Risk-free interest Rate ( **R$_f$** ), the % Yield on a 1-yr Government Bond (Canada).\n",
        "##### 2. Beta ( ***&beta;*** ), the price volatility compared to the S&P 500.\n",
        "##### 3. Expected Market Return ( **R$_m$** ), the % 1-yr return of the S&P 500.\n",
        "\n",
        "\n"
      ],
      "metadata": {
        "id": "fatE1hOFwfe2"
      }
    },
    {
      "cell_type": "markdown",
      "source": [
        "##### Use **CAPM** Formula Function:\n",
        "---\n",
        "#### Capital Asset Pricing Model\n",
        "---\n",
        "###### Contributions: *Markowitz, H.* (1952), *Sharpe, W.* (1964)\n",
        "###### Variations: Fama-French (1992), Carhart (1997)\n",
        "\n",
        "### $$ E(R_i) = R_f + \\beta_i (E(R_m) - R_f) $$"
      ],
      "metadata": {
        "id": "m6J-DZVyRepF"
      }
    },
    {
      "cell_type": "code",
      "source": [
        "r_f = 4.75 / 100 # risk-free rate ( return subscript f, % )\n",
        "b_i = beta # beta ( beta subscript i, ration )\n",
        "e__r_m = 0.10 # expected market return ( e(return subscript m, %) )\n",
        "\n",
        "e__r_i = r_f + b_i*(e__r_m - r_f) # expected return on investment\n",
        "print(f\"Expected Return of {ticker.info.get('longName')}: {(e__r_i*100):.2f}%\")"
      ],
      "metadata": {
        "id": "gXPxGV32y1V-",
        "colab": {
          "base_uri": "https://localhost:8080/"
        },
        "outputId": "0f7a8b93-54af-4428-cbba-5b356adc0fa4"
      },
      "execution_count": 171,
      "outputs": [
        {
          "output_type": "stream",
          "name": "stdout",
          "text": [
            "Expected Return of Nutrien Ltd.: 9.76%\n"
          ]
        }
      ]
    },
    {
      "cell_type": "markdown",
      "source": [
        "---\n",
        "##### **WACC** Formula Function:\n",
        "---\n",
        "#### Weighted Average Cost of Capital\n",
        "---\n",
        "###### Contributions: *Modigliani, F. & Miller, M. (1958)*\n",
        "\n",
        "### $$ WACC = \\frac{E}{V} \\cdot r_e + \\frac{D}{V} \\cdot r_d \\cdot (1 - T) $$"
      ],
      "metadata": {
        "id": "M3rQMcXqx1mx"
      }
    },
    {
      "cell_type": "code",
      "source": [
        "E = total_equity\n",
        "D = total_debt\n",
        "R_e = e__r_i # capm result\n",
        "R_d = cost_of_debt\n",
        "\n",
        "T = 0.25 # tax rate\n",
        "\n",
        "wacc = (E / (E+D))*R_e + (D / (E+D))*R_d*(1-T) # weighted average cost of capital\n",
        "wacc\n",
        "print(f\"Minimum Break-Even Return for {ticker.info.get('longName')}: {(wacc*100):.2f}%\")\n",
        "# \"to cover cost of capital expenditures\"\n"
      ],
      "metadata": {
        "id": "s48VoPMuyC9i",
        "colab": {
          "base_uri": "https://localhost:8080/"
        },
        "outputId": "dad9652c-384f-4440-9908-70d75673dbfe"
      },
      "execution_count": 172,
      "outputs": [
        {
          "output_type": "stream",
          "name": "stdout",
          "text": [
            "Minimum Break-Even Return for Nutrien Ltd.: 8.03%\n"
          ]
        }
      ]
    },
    {
      "cell_type": "markdown",
      "source": [
        "#### **Terminal Value (TV)** Formula Function:\n",
        "\n",
        "---"
      ],
      "metadata": {
        "id": "Q6gPJtSv4dps"
      }
    },
    {
      "cell_type": "code",
      "source": [
        "fcf_n = forecasted_list_cashflow[-1] # value of final year in fcf forecast\n",
        "g = 0.03 # perpetual growth rate (can use GDP growth estimate per year, (3 %), or ind.)\n",
        "\n",
        "tv = (fcf_n * (1+g)) / (wacc - g)\n",
        "\n",
        "def format_dollar(amount):\n",
        "    \"\"\"Format an integer as a dollar amount.\"\"\"\n",
        "    return f\"${amount:,.2f}\"\n",
        "\n",
        "print(f\"Estimated Intrinsic Value, {ticker.info.get('longName')}: {format_dollar(tv)}\")\n",
        "print(f\"Current Value, {ticker.info.get('longName')}: {format_dollar(market_cap)}\")\n",
        "# in later version, add in tv financial metric multiple to find average. for now can just use perp."
      ],
      "metadata": {
        "id": "9BxOiywD4kZp",
        "colab": {
          "base_uri": "https://localhost:8080/"
        },
        "outputId": "d2a35c22-8da2-40ae-91cc-6971f7334d18"
      },
      "execution_count": 173,
      "outputs": [
        {
          "output_type": "stream",
          "name": "stdout",
          "text": [
            "Estimated Intrinsic Value, Nutrien Ltd.: $66,253,359,072.12\n",
            "Current Value, Nutrien Ltd.: $24,316,037,120.00\n"
          ]
        }
      ]
    },
    {
      "cell_type": "markdown",
      "source": [
        "#### **Discount** Function and Ent, Eq:\n",
        "\n",
        "---"
      ],
      "metadata": {
        "id": "QPmW-yWz-JsT"
      }
    },
    {
      "cell_type": "code",
      "source": [
        "#print(format_dollar(i) for i in forecasted_list_cashflow)\n",
        "\n",
        "pv_of_fcfs = []\n",
        "discount_factors = []\n",
        "\n",
        "for i in range(len(forecasted_list_cashflow)):\n",
        "  discount_factor = (1 / ((1+wacc)**(i+1)))\n",
        "  discount_factors.append(discount_factor)\n",
        "  fcf_at_i = discount_factor * forecasted_list_cashflow[i]\n",
        "  pv_of_fcfs.append(fcf_at_i)\n",
        "\n",
        "pv_of_tv = discount_factors[-1]*tv\n",
        "\n",
        "enterprise_value = (sum(pv_of_fcfs)) + pv_of_tv\n",
        "\n",
        "equity_value = enterprise_value - total_debt + total_cash\n",
        "\n",
        "share_price = equity_value / total_shares"
      ],
      "metadata": {
        "id": "hwX-GVYf-NoJ"
      },
      "execution_count": 174,
      "outputs": []
    },
    {
      "cell_type": "markdown",
      "source": [
        "#### **Resulting Share Price**:\n",
        "\n",
        "---"
      ],
      "metadata": {
        "id": "5A-ac1Ub-ava"
      }
    },
    {
      "cell_type": "markdown",
      "source": [
        "# RESULTS"
      ],
      "metadata": {
        "id": "j_ITifGYaYM1"
      }
    },
    {
      "cell_type": "code",
      "source": [
        "intrinsic_price = share_price\n",
        "\n",
        "print(f'{ticker_name} Intrinsic Price: ${intrinsic_price:.2f}')\n",
        "print('---------------------------------------------------------')\n",
        "current_price = yf_ticker.history(period='1d')['Close'].iloc[0]\n",
        "print(f'{ticker_name} Current Price: ${current_price:.2f}')\n",
        "print('---------------------------------------------------------')\n",
        "\n",
        "difference = 1 - (current_price / intrinsic_price)\n",
        "print(f'Margin of Difference: {difference*100:.2f}%')\n",
        "\n",
        "print('---------------------------------------------------------')\n",
        "if current_price < intrinsic_price:\n",
        "  print('BUY')\n",
        "else:\n",
        "  print('SHORT')"
      ],
      "metadata": {
        "id": "lQPwaYtHBwfn",
        "colab": {
          "base_uri": "https://localhost:8080/"
        },
        "outputId": "5cfedaa2-286a-4da7-a5a9-d0c49786a0e7"
      },
      "execution_count": 175,
      "outputs": [
        {
          "output_type": "stream",
          "name": "stdout",
          "text": [
            "Nutrien Ltd. Intrinsic Price: $94.09\n",
            "---------------------------------------------------------\n",
            "Nutrien Ltd. Current Price: $49.03\n",
            "---------------------------------------------------------\n",
            "Margin of Difference: 47.89%\n",
            "---------------------------------------------------------\n",
            "BUY\n"
          ]
        }
      ]
    }
  ],
  "metadata": {
    "colab": {
      "provenance": [],
      "collapsed_sections": [
        "iN-L7kriRVXi",
        "_NFHGLJ4ZeVk",
        "rIebaBLyBL_t",
        "m6J-DZVyRepF",
        "Q6gPJtSv4dps"
      ],
      "authorship_tag": "ABX9TyPZfn0TD27O1Nz4yVoFRZry",
      "include_colab_link": true
    },
    "kernelspec": {
      "display_name": "Python 3",
      "name": "python3"
    },
    "language_info": {
      "name": "python"
    }
  },
  "nbformat": 4,
  "nbformat_minor": 0
}