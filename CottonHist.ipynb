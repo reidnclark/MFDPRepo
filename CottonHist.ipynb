{
 "cells": [
  {
   "cell_type": "markdown",
   "metadata": {},
   "source": [
    "Bottlenecks: When congestion occurs, the system will try to reroute power using other lines. However, those other routes may also be operating near their limits, creating a bottleneck. This means that the electricity can't be delivered efficiently from the generation source to where it's needed, causing price differences (LMP spread) between areas and creating inefficiencies.\n",
    "\n",
    "---\n",
    "LMP is the price of electricity at a specific location (or node) on the grid, which reflects the cost of supplying electricity to that location, taking into account generation costs, congestion, and losses in transmission.\n",
    "\n",
    "---\n",
    "Congestion Hedging: Traders and market participants may use financial instruments, such as congestion contracts or spreads, to hedge the risks associated with price fluctuations due to congestion.\n",
    "\n",
    "---\n",
    "The marginal price of electricity in the market will be set by the most expensive plant that is needed to meet demand. If a gas-fired peaking plant is brought online to meet the last few megawatts of demand, its operating cost (which may be high) will dictate the price for all the electricity produced in that market at that time.\n",
    "\n",
    "---\n",
    "When electricity markets are set up, prices are determined by supply and demand. However, unlike most goods or services, electricity can't be stored easily in large quantities (though there are some storage technologies like batteries, pumped storage, etc.), so it's produced and consumed in real time.\n",
    "\n",
    "---\n",
    "High prices (driven by expensive peaking plants) incentivize investment in more efficient energy generation, as well as in transmission infrastructure to reduce congestion. This mechanism ensures that the market attracts investment in infrastructure needed to meet demand without having to rely heavily on high-cost peaking plants.\n",
    "\n",
    "---\n",
    "The market isn’t about buying specific units of energy; it’s about buying availability to use the grid's power at that moment.\n",
    "\n",
    "---\n",
    "If you’re demanding electricity at a particular time (say a hot summer day when everyone’s air conditioning is running), you're effectively bidding on the last remaining unit of electricity that can be produced.\n",
    "\n",
    "---\n",
    "They don't just have to buy from a single supplier (a utility). Instead, they can:\n",
    "\n",
    "Look at transmission prices, which vary by region and hour.\n",
    "Arbitrage between regions: If electricity is cheaper in one region (say, due to low demand or more efficient generation), a trader can buy in that region and sell in another region where the price is higher.\n",
    "Profit from price spreads: These price differences between regions, especially driven by factors like congestion or demand spikes, are exactly what traders aim to capture by buying low and selling high.\n",
    "\n",
    "---\n",
    "You would look at regional price differentials (created by factors like congestion or local generation costs) and try to capture spreads between these regions.\n",
    "You can take advantage of marginal pricing dynamics, where the last unit of power required (often a more expensive generator) sets the price, even though most of the grid might be running cheaper resources.\n",
    "Transmission costs become a crucial part of your analysis. If power can be moved between regions, but the transmission is congested, you might be able to profit from the spread in prices due to congestion.\n",
    "In essence, yes — you trade the grid! You don’t just buy energy from one source, but you move it around to take advantage of price differences, transmission constraints, and market dynamics.\n",
    "\n",
    "\n",
    "\n"
   ]
  },
  {
   "cell_type": "code",
   "execution_count": 1,
   "metadata": {},
   "outputs": [],
   "source": [
    "import pandas as pd\n",
    "import math\n",
    "import matplotlib.pyplot as plt\n",
    "from datetime import datetime"
   ]
  },
  {
   "cell_type": "code",
   "execution_count": 2,
   "metadata": {},
   "outputs": [],
   "source": [
    "pd.set_option('display.max_rows', 10)\n",
    "pd.set_option('display.max_columns', None)"
   ]
  },
  {
   "cell_type": "code",
   "execution_count": 3,
   "metadata": {},
   "outputs": [],
   "source": [
    "def extractData (csv_file_name: str, \n",
    "                columns_of_interest: list[str],\n",
    "                datetime_column_name: str,\n",
    "                date_format=\"%m/%d/%Y %I:%M:%S %p\"\n",
    "                ) -> pd.DataFrame:\n",
    "    data = pd.read_csv(csv_file_name)[columns_of_interest]\n",
    "    data[datetime_column_name] = pd.to_datetime(data[datetime_column_name], format=date_format)\n",
    "    return data"
   ]
  },
  {
   "cell_type": "code",
   "execution_count": 4,
   "metadata": {},
   "outputs": [],
   "source": [
    "# def hourlyPrice (data):\n",
    "\n",
    "#     for date_and_hour, "
   ]
  },
  {
   "cell_type": "code",
   "execution_count": 5,
   "metadata": {},
   "outputs": [],
   "source": [
    "data = extractData('rt_hrl_lmps.csv', # File name (csv)\n",
    "                    \n",
    "                    ['datetime_beginning_utc', # Hour of instance\n",
    "                    'pnode_id', # Unique identifier (check if related to zone???)\n",
    "                    'pnode_name', # Node name (in-zone identifier)\n",
    "                    'voltage',\n",
    "                    'type', # Type of facilitation (e.g. Load, Generation)...\n",
    "                    # ...LOAD = consumption point (e.g. City, Residential)...\n",
    "                    # ...GEN = generation point (e.g.)\n",
    "                    'zone', # Zone of node (zone / regional identifier)\n",
    "                    'system_energy_price_rt', # System price\n",
    "                    'total_lmp_rt', # Total marginal price (locational-marginal)...\n",
    "                    # ...This includes congestion and marginal loss effects.\n",
    "                    'congestion_price_rt',\n",
    "                    'marginal_loss_price_rt'\n",
    "                    ],\n",
    "\n",
    "                    'datetime_beginning_utc'\n",
    "                    )\n",
    "\n",
    "idxs = data.columns"
   ]
  },
  {
   "cell_type": "code",
   "execution_count": 6,
   "metadata": {},
   "outputs": [
    {
     "name": "stdout",
     "output_type": "stream",
     "text": [
      "Index(['datetime_beginning_utc', 'pnode_id', 'pnode_name', 'voltage', 'type',\n",
      "       'zone', 'system_energy_price_rt', 'total_lmp_rt', 'congestion_price_rt',\n",
      "       'marginal_loss_price_rt'],\n",
      "      dtype='object')\n"
     ]
    }
   ],
   "source": [
    "print(idxs)"
   ]
  },
  {
   "cell_type": "code",
   "execution_count": 8,
   "metadata": {},
   "outputs": [
    {
     "name": "stdout",
     "output_type": "stream",
     "text": [
      "  datetime_beginning_utc  pnode_id   pnode_name voltage  type  zone  \\\n",
      "0    2024-12-02 05:00:00         1      PJM-RTO     NaN  ZONE   NaN   \n",
      "1    2024-12-02 05:00:00         3  MID-ATL/APS     NaN  ZONE   NaN   \n",
      "2    2024-12-02 05:00:00     48592       ALDENE  230 KV  LOAD  PSEG   \n",
      "3    2024-12-02 05:00:00     48593       ALDENE  230 KV  LOAD  PSEG   \n",
      "4    2024-12-02 05:00:00     48594      ATHENIA   26 KV  LOAD  PSEG   \n",
      "\n",
      "   system_energy_price_rt  total_lmp_rt  congestion_price_rt  \\\n",
      "0                   34.74     34.771170             0.007896   \n",
      "1                   34.74     35.059288            -0.199147   \n",
      "2                   34.74     35.920000             0.650000   \n",
      "3                   34.74     35.920000             0.650000   \n",
      "4                   34.74     36.340000             0.860000   \n",
      "\n",
      "   marginal_loss_price_rt  \n",
      "0                0.024941  \n",
      "1                0.520102  \n",
      "2                0.540000  \n",
      "3                0.540000  \n",
      "4                0.740000  \n"
     ]
    }
   ],
   "source": [
    "print(data.head())"
   ]
  },
  {
   "cell_type": "code",
   "execution_count": null,
   "metadata": {},
   "outputs": [],
   "source": []
  }
 ],
 "metadata": {
  "kernelspec": {
   "display_name": "Python 3",
   "language": "python",
   "name": "python3"
  },
  "language_info": {
   "codemirror_mode": {
    "name": "ipython",
    "version": 3
   },
   "file_extension": ".py",
   "mimetype": "text/x-python",
   "name": "python",
   "nbconvert_exporter": "python",
   "pygments_lexer": "ipython3",
   "version": "3.12.3"
  }
 },
 "nbformat": 4,
 "nbformat_minor": 2
}
