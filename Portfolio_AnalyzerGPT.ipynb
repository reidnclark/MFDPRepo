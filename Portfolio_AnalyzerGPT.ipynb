{
 "cells": [
  {
   "cell_type": "code",
   "execution_count": 1,
   "metadata": {},
   "outputs": [
    {
     "ename": "ModuleNotFoundError",
     "evalue": "No module named 'yfinance'",
     "output_type": "error",
     "traceback": [
      "\u001b[0;31m---------------------------------------------------------------------------\u001b[0m",
      "\u001b[0;31mModuleNotFoundError\u001b[0m                       Traceback (most recent call last)",
      "\u001b[1;32m/home/vboxuser/MFDPRepo/Portfolio_AnalyzerGPT.ipynb Cell 1\u001b[0m line \u001b[0;36m1\n\u001b[0;32m----> <a href='vscode-notebook-cell://ssh-remote%2B7b22686f73744e616d65223a225562756e747532227d/home/vboxuser/MFDPRepo/Portfolio_AnalyzerGPT.ipynb#W0sdnNjb2RlLXJlbW90ZQ%3D%3D?line=0'>1</a>\u001b[0m \u001b[39mimport\u001b[39;00m \u001b[39myfinance\u001b[39;00m \u001b[39mas\u001b[39;00m \u001b[39myf\u001b[39;00m\n\u001b[1;32m      <a href='vscode-notebook-cell://ssh-remote%2B7b22686f73744e616d65223a225562756e747532227d/home/vboxuser/MFDPRepo/Portfolio_AnalyzerGPT.ipynb#W0sdnNjb2RlLXJlbW90ZQ%3D%3D?line=1'>2</a>\u001b[0m \u001b[39mimport\u001b[39;00m \u001b[39mpandas\u001b[39;00m \u001b[39mas\u001b[39;00m \u001b[39mpd\u001b[39;00m\n\u001b[1;32m      <a href='vscode-notebook-cell://ssh-remote%2B7b22686f73744e616d65223a225562756e747532227d/home/vboxuser/MFDPRepo/Portfolio_AnalyzerGPT.ipynb#W0sdnNjb2RlLXJlbW90ZQ%3D%3D?line=2'>3</a>\u001b[0m \u001b[39mimport\u001b[39;00m \u001b[39mrequests\u001b[39;00m\n",
      "\u001b[0;31mModuleNotFoundError\u001b[0m: No module named 'yfinance'"
     ]
    }
   ],
   "source": [
    "import yfinance as yf\n",
    "import pandas as pd\n",
    "import requests\n",
    "from urllib.parse import urlparse\n",
    "from IPython.display import Image, display\n",
    "\n",
    "# Replace with your actual Logo.dev API key\n",
    "API_KEY = 'pk_Gq2oOGVWQpiDsXzAK1BOGA'\n",
    "\n",
    "\n",
    "# FUNCTION 1) Make initial dataframe function:\n",
    "def get_basicInfo(portfolio: dict) -> pd.DataFrame:\n",
    "    ticker_symbols = []  # Get ticker symbols (e.g., 'AAPL')\n",
    "    ticker_names = []  # Get company names (e.g., 'Apple Inc.')\n",
    "    ticker_currencies = []  # Get instrument currency (USD, CAD)\n",
    "    ticker_currentPrices = []  # Get current share price\n",
    "    ticker_total_values = []  # List to store total value of each holding in base currency\n",
    "    ticker_total_values_cad = []  # List to store total value in CAD\n",
    "    ticker_logos = []  # List to store logo URLs for each ticker\n",
    "\n",
    "    # Get USD to CAD exchange rate for conversion (from USD to CAD)\n",
    "    usd_cad_rate = yf.Ticker('USDCAD=X').history(period=\"1d\")['Close'].iloc[0]\n",
    "\n",
    "    for ticker, share_count in portfolio.items():\n",
    "        # GET COMPANY NAME & CURRENCY\n",
    "        ticker_info = yf.Ticker(ticker).info  # access yfinance info\n",
    "        ticker_symbols.append(ticker)  # Ticker symbol itself (e.g., 'AAPL')\n",
    "        ticker_names.append(ticker_info['longName'])  # Full company name (e.g., 'Apple Inc.')\n",
    "        ticker_currencies.append(ticker_info['currency'])\n",
    "\n",
    "        # GET CURRENT SHARE PRICE\n",
    "        tickerPrice = yf.Ticker(ticker).history(period=\"1d\")['Close'].iloc[0]  # Latest closing price\n",
    "        ticker_currentPrices.append(tickerPrice)\n",
    "\n",
    "        # Compute the total value for the ticker (share count * price)\n",
    "        total_value = share_count * tickerPrice\n",
    "        ticker_total_values.append(total_value)\n",
    "\n",
    "        # Convert total value to CAD if the currency is USD\n",
    "        if ticker_info['currency'] == 'USD':\n",
    "            total_value_cad = total_value * usd_cad_rate  # Convert to CAD\n",
    "        else:\n",
    "            total_value_cad = total_value  # If already in CAD, no conversion needed\n",
    "        ticker_total_values_cad.append(total_value_cad)\n",
    "\n",
    "        # Get the logo URL for the ticker (if available)\n",
    "        domain_name = get_clean_domain(ticker)\n",
    "        if domain_name:\n",
    "            logo_url = get_logo_url(domain_name)\n",
    "            ticker_logos.append(logo_url if logo_url else None)\n",
    "        else:\n",
    "            ticker_logos.append(None)\n",
    "\n",
    "    # Create DataFrame with all information\n",
    "    dataDict = {\n",
    "        'Ticker': ticker_symbols,  # Add ticker symbols to the DataFrame\n",
    "        'Ticker Name': ticker_names,\n",
    "        'Currency': ticker_currencies,\n",
    "        'Current Price': ticker_currentPrices,\n",
    "        'Total Value (Base)': ticker_total_values,\n",
    "        'Total Value (CAD)': ticker_total_values_cad,\n",
    "        'Logo URL': ticker_logos  # Add logo URLs\n",
    "    }\n",
    "\n",
    "    df_dataDict = pd.DataFrame(dataDict)\n",
    "\n",
    "    # Sort by 'Total Value (CAD)' for better readability\n",
    "    df_dataDict = df_dataDict.sort_values(by='Total Value (CAD)', ascending=False)\n",
    "\n",
    "    # Return DataFrame without formatting for now\n",
    "    return df_dataDict\n",
    "\n",
    "\n",
    "# FUNCTION 2) Update ticker prices\n",
    "def update_ticker_prices(df_portfolio: pd.DataFrame, \n",
    "                        price_updates: dict, portfolio: dict, \n",
    "                        usd_cad_rate: float, currency_updates: dict) -> pd.DataFrame:\n",
    "    \"\"\"\n",
    "    Update the current price of multiple tickers in the dataframe.\n",
    "    \n",
    "    Parameters:\n",
    "    - df_portfolio: DataFrame containing the portfolio data\n",
    "    - price_updates: A dictionary where keys are ticker symbols and values are the new prices\n",
    "    - portfolio: The portfolio dictionary with share counts\n",
    "    - usd_cad_rate: The current USD to CAD exchange rate\n",
    "    - currency_updates: A dictionary where keys are ticker symbols and values are the currency of the updated price ('USD' or 'CAD')\n",
    "    \n",
    "    Returns:\n",
    "    - Updated DataFrame with the new prices\n",
    "    \"\"\"\n",
    "    # Pre-fetch ticker information for all tickers (once per update)\n",
    "    tickers_info = {ticker: yf.Ticker(ticker).info for ticker in price_updates.keys()}\n",
    "\n",
    "    for ticker, new_price in price_updates.items():\n",
    "        # Locate the ticker by 'Ticker' column and update the 'Current Price'\n",
    "        if ticker in df_portfolio['Ticker'].values:\n",
    "            df_portfolio.loc[df_portfolio['Ticker'] == ticker, 'Current Price'] = new_price\n",
    "\n",
    "            # Get the share count from the original portfolio\n",
    "            share_count = portfolio[ticker]  \n",
    "\n",
    "            # Determine the currency of the updated price (USD or CAD)\n",
    "            price_currency = currency_updates.get(ticker, 'USD')  # Default to USD if not provided\n",
    "            \n",
    "            # Compute the total value in base currency (price * shares)\n",
    "            total_value = share_count * new_price\n",
    "            \n",
    "            # Convert the total value to CAD if necessary\n",
    "            if price_currency == 'USD':\n",
    "                total_value_cad = total_value * usd_cad_rate  # Convert to CAD\n",
    "            else:\n",
    "                total_value_cad = total_value  # If already in CAD, no conversion needed\n",
    "\n",
    "            # Update the respective columns\n",
    "            df_portfolio.loc[df_portfolio['Ticker'] == ticker, 'Total Value (Base)'] = total_value\n",
    "            df_portfolio.loc[df_portfolio['Ticker'] == ticker, 'Total Value (CAD)'] = total_value_cad\n",
    "\n",
    "    return df_portfolio\n",
    "\n",
    "\n",
    "# Helper function to extract domain name (without 'https://', 'http://', or 'www.')\n",
    "def get_clean_domain(ticker_symbol):\n",
    "    \"\"\"Extract and clean the domain from a company's ticker symbol.\"\"\"\n",
    "    ticker = yf.Ticker(ticker_symbol)\n",
    "    company_info = ticker.info\n",
    "    website_url = company_info.get('website', 'Website not available')\n",
    "    \n",
    "    if website_url != 'Website not available':\n",
    "        # Parse the URL to get the domain without 'https://', 'http://', or 'www.'\n",
    "        parsed_url = urlparse(website_url)\n",
    "        return parsed_url.netloc.replace('www.', '')\n",
    "    return None\n",
    "\n",
    "\n",
    "# Helper function to fetch the logo from Logo.dev API\n",
    "def get_logo_url(domain_name):\n",
    "    \"\"\"Fetch the logo for a given domain using the Logo.dev API.\"\"\"\n",
    "    url = f\"https://img.logo.dev/{domain_name}?token={API_KEY}&size=200&format=png\"\n",
    "    response = requests.get(url)\n",
    "    \n",
    "    if response.status_code == 200:\n",
    "        return url\n",
    "    return None\n",
    "\n",
    "\n",
    "# Example Portfolio Data\n",
    "portfolio = {\n",
    "    'AAPL': 17.8658, 'ADBE': 10,\n",
    "    'ATD.TO': 9, 'CCO.TO': 9.3874,\n",
    "    'CNQ.TO': 10, 'COST': 44.7886,\n",
    "    'CVE': 23, 'ERO.TO': 32.036,\n",
    "    'FAST': 5.7558, 'FCX': 16, 'K.TO': 8.5485,\n",
    "    'MATR.TO': 46, 'MCO': 0.5636, 'META': 13.5995,\n",
    "    'MSFT': 52, 'NFLX': 1.6523, 'NTR': 8.2221,\n",
    "    'NVDA': 60, 'PG': 7, 'PHYS': 1.4343,\n",
    "    'QBR-B.TO': 12, 'RKLB': 88,\n",
    "    'RMD': 1.3009, 'TECK-A.TO': 4.2728,\n",
    "    'TSM': 7.874, 'U': 22.9426,\n",
    "    'UEC': 32, 'URNM': 12,\n",
    "    'VFV.TO': 27.4385, 'V': 13,\n",
    "    'XID.TO': 5, 'BTC-USD': 0.03070794,\n",
    "    'RYCEY': 12, 'HTHIY': 4\n",
    "}\n",
    "\n",
    "# Fetch the USD to CAD exchange rate\n",
    "usd_cad_rate = yf.Ticker('USDCAD=X').history(period=\"1d\")['Close'].iloc[0]\n",
    "\n",
    "# Call the initial function to get the portfolio information\n",
    "df_data = get_basicInfo(portfolio)\n",
    "\n",
    "# Example: New dict of tickers and their updated prices\n",
    "price_updates = {\n",
    "    'AAPL': 34.43,\n",
    "    'ADBE': 20.98,\n",
    "    'COST': 45.05,\n",
    "    'META':31.86,\n",
    "    'MSFT':31.26,\n",
    "    'NVDA':32.02,\n",
    "    'PG':30.74,\n",
    "    'V':29.59,\n",
    "}\n",
    "\n",
    "# Currency of the updated price (either 'USD' or 'CAD')\n",
    "currency_updates = {\n",
    "    'AAPL': 'CAD',\n",
    "    'ADBE': 'CAD',\n",
    "    'COST': 'CAD',\n",
    "    'META':'CAD',\n",
    "    'MSFT':'CAD',\n",
    "    'NVDA':'CAD',\n",
    "    'PG':'CAD',\n",
    "    'V':'CAD',\n",
    "}\n",
    "\n",
    "# Update the DataFrame with the new prices\n",
    "df_data_updated = update_ticker_prices(df_data, price_updates, portfolio, usd_cad_rate, currency_updates)\n",
    "\n",
    "# Sort the DataFrame by 'Total Value (CAD)' numerically (before formatting)\n",
    "df_data_updated = df_data_updated.sort_values(by='Total Value (CAD)', ascending=False)\n",
    "\n",
    "# Format the numeric columns as currency (USD and CAD) after sorting\n",
    "df_data_updated['Current Price'] = df_data_updated['Current Price'].apply(lambda x: f\"${x:,.2f}\")\n",
    "df_data_updated['Total Value (Base)'] = df_data_updated['Total Value (Base)'].apply(lambda x: f\"${x:,.2f}\")\n",
    "df_data_updated['Total Value (CAD)'] = df_data_updated['Total Value (CAD)'].apply(lambda x: f\"${x:,.2f}\")\n",
    "\n",
    "# Display the updated DataFrame with the logos (or URLs if using in a Jupyter environment)\n",
    "df_data_updated[['Ticker Name', 'Total Value (CAD)', 'Logo URL']]\n"
   ]
  },
  {
   "cell_type": "code",
   "execution_count": null,
   "metadata": {},
   "outputs": [],
   "source": [
    "import yfinance as yf\n",
    "import pandas as pd\n",
    "import requests\n",
    "from urllib.parse import urlparse\n",
    "from IPython.display import Image, display"
   ]
  },
  {
   "cell_type": "code",
   "execution_count": null,
   "metadata": {},
   "outputs": [],
   "source": [
    "API_KEY = 'pk_Gq2oOGVWQpiDsXzAK1BOGA' # for Logo.dev"
   ]
  },
  {
   "cell_type": "code",
   "execution_count": null,
   "metadata": {},
   "outputs": [],
   "source": [
    "###################################################################################################\n",
    "# FUNCTION 1) Make initial dataframe function:\n",
    "###################################################################################################\n",
    "\n",
    "def get_basicInfo(portfolio: dict) -> pd.DataFrame:\n",
    "\n",
    "    ticker_symbols = []  # Get ticker symbols (e.g., 'AAPL')\n",
    "    ticker_names = []  # Get company names (e.g., 'Apple Inc.')\n",
    "    ticker_currencies = []  # Get instrument currency (USD, CAD)\n",
    "    ticker_currentPrices = []  # Get current share price\n",
    "    ticker_total_values = []  # List to store total value of each holding in base currency\n",
    "    ticker_total_values_cad = []  # List to store total value in CAD\n",
    "    ticker_logos = []  # List to store logo URLs for each ticker\n",
    "\n",
    "    # Get USD to CAD exchange rate for conversion (from USD to CAD)\n",
    "    usd_cad_rate = yf.Ticker('USDCAD=X').history(period=\"1d\")['Close'].iloc[0]\n",
    "\n",
    "    for ticker, share_count in portfolio.items():\n",
    "        # GET COMPANY NAME & CURRENCY\n",
    "        ticker_info = yf.Ticker(ticker).info  # access yfinance info\n",
    "        ticker_symbols.append(ticker)  # Ticker symbol itself (e.g., 'AAPL')\n",
    "        ticker_names.append(ticker_info['longName'])  # Full company name (e.g., 'Apple Inc.')\n",
    "        ticker_currencies.append(ticker_info['currency'])\n",
    "\n",
    "        # GET CURRENT SHARE PRICE\n",
    "        tickerPrice = yf.Ticker(ticker).history(period=\"1d\")['Close'].iloc[0]  # Latest closing price\n",
    "        ticker_currentPrices.append(tickerPrice)\n",
    "\n",
    "        # Compute the total value for the ticker (share count * price)\n",
    "        total_value = share_count * tickerPrice\n",
    "        ticker_total_values.append(total_value)\n",
    "\n",
    "        # Convert total value to CAD if the currency is USD\n",
    "        if ticker_info['currency'] == 'USD':\n",
    "            total_value_cad = total_value * usd_cad_rate  # Convert to CAD\n",
    "        else:\n",
    "            total_value_cad = total_value  # If already in CAD, no conversion needed\n",
    "        ticker_total_values_cad.append(total_value_cad)\n",
    "\n",
    "        # Get the logo URL for the ticker (if available)\n",
    "        domain_name = get_clean_domain(ticker)\n",
    "        if domain_name:\n",
    "            logo_url = get_logo_url(domain_name)\n",
    "            ticker_logos.append(logo_url if logo_url else None)\n",
    "        else:\n",
    "            ticker_logos.append(None)\n",
    "\n",
    "    # Create DataFrame with all information\n",
    "    dataDict = {\n",
    "        'Ticker': ticker_symbols,  # Add ticker symbols to the DataFrame\n",
    "        'Ticker Name': ticker_names,\n",
    "        'Currency': ticker_currencies,\n",
    "        'Current Price': ticker_currentPrices,\n",
    "        'Total Value (Base)': ticker_total_values,\n",
    "        'Total Value (CAD)': ticker_total_values_cad,\n",
    "        'Logo URL': ticker_logos  # Add logo URLs\n",
    "    }\n",
    "\n",
    "    df_dataDict = pd.DataFrame(dataDict)\n",
    "\n",
    "    # Sort by 'Total Value (CAD)' for better readability\n",
    "    df_dataDict = df_dataDict.sort_values(by='Total Value (CAD)', ascending=False)\n",
    "\n",
    "    # Return DataFrame without formatting for now\n",
    "    return df_dataDict\n",
    "\n",
    "\n",
    "\n",
    "\n",
    "###################################################################################################\n",
    "# FUNCTION 2) Update ticker prices\n",
    "###################################################################################################\n",
    "\n",
    "def update_ticker_prices(df_portfolio: pd.DataFrame, \n",
    "                        price_updates: dict, portfolio: dict, \n",
    "                        usd_cad_rate: float, currency_updates: dict) -> pd.DataFrame:\n",
    "    \"\"\"\n",
    "    Update the current price of multiple tickers in the dataframe.\n",
    "    \n",
    "    Parameters:\n",
    "    - df_portfolio: DataFrame containing the portfolio data\n",
    "    - price_updates: A dictionary where keys are ticker symbols and values are the new prices\n",
    "    - portfolio: The portfolio dictionary with share counts\n",
    "    - usd_cad_rate: The current USD to CAD exchange rate\n",
    "    - currency_updates: A dictionary where keys are ticker symbols and values are the currency of the updated price ('USD' or 'CAD')\n",
    "    \n",
    "    Returns:\n",
    "    - Updated DataFrame with the new prices\n",
    "    \"\"\"\n",
    "    # Pre-fetch ticker information for all tickers (once per update)\n",
    "    tickers_info = {ticker: yf.Ticker(ticker).info for ticker in price_updates.keys()}\n",
    "\n",
    "    for ticker, new_price in price_updates.items():\n",
    "        # Locate the ticker by 'Ticker' column and update the 'Current Price'\n",
    "        if ticker in df_portfolio['Ticker'].values:\n",
    "            df_portfolio.loc[df_portfolio['Ticker'] == ticker, 'Current Price'] = new_price\n",
    "\n",
    "            # Get the share count from the original portfolio\n",
    "            share_count = portfolio[ticker]  \n",
    "\n",
    "            # Determine the currency of the updated price (USD or CAD)\n",
    "            price_currency = currency_updates.get(ticker, 'USD')  # Default to USD if not provided\n",
    "            \n",
    "            # Compute the total value in base currency (price * shares)\n",
    "            total_value = share_count * new_price\n",
    "            \n",
    "            # Convert the total value to CAD if necessary\n",
    "            if price_currency == 'USD':\n",
    "                total_value_cad = total_value * usd_cad_rate  # Convert to CAD\n",
    "            else:\n",
    "                total_value_cad = total_value  # If already in CAD, no conversion needed\n",
    "\n",
    "            # Update the respective columns\n",
    "            df_portfolio.loc[df_portfolio['Ticker'] == ticker, 'Total Value (Base)'] = total_value\n",
    "            df_portfolio.loc[df_portfolio['Ticker'] == ticker, 'Total Value (CAD)'] = total_value_cad\n",
    "\n",
    "    return df_portfolio\n",
    "\n",
    "\n",
    "# Helper function to extract domain name (without 'https://', 'http://', or 'www.')\n",
    "def get_clean_domain(ticker_symbol):\n",
    "    \"\"\"Extract and clean the domain from a company's ticker symbol.\"\"\"\n",
    "    ticker = yf.Ticker(ticker_symbol)\n",
    "    company_info = ticker.info\n",
    "    website_url = company_info.get('website', 'Website not available')\n",
    "    \n",
    "    if website_url != 'Website not available':\n",
    "        # Parse the URL to get the domain without 'https://', 'http://', or 'www.'\n",
    "        parsed_url = urlparse(website_url)\n",
    "        return parsed_url.netloc.replace('www.', '')\n",
    "    return None\n",
    "\n",
    "\n",
    "# Helper function to fetch the logo from Logo.dev API\n",
    "def get_logo_url(domain_name):\n",
    "    \"\"\"Fetch the logo for a given domain using the Logo.dev API.\"\"\"\n",
    "    url = f\"https://img.logo.dev/{domain_name}?token={API_KEY}&size=200&format=png\"\n",
    "    response = requests.get(url)\n",
    "    \n",
    "    if response.status_code == 200:\n",
    "        return url\n",
    "    return None\n",
    "\n",
    "# Function to calculate the 1-year return for a portfolio\n",
    "def get_1y_return(portfolio: dict) -> dict:\n",
    "    \"\"\"\n",
    "    Calculate the 1-year return for each ticker in the portfolio.\n",
    "\n",
    "    Parameters:\n",
    "    - portfolio: A dictionary where keys are ticker symbols and values are the number of shares.\n",
    "\n",
    "    Returns:\n",
    "    - A dictionary where keys are ticker symbols and values are the 1-year return percentages.\n",
    "    \"\"\"\n",
    "    return_dict = {}\n",
    "    \n",
    "    for ticker in portfolio:\n",
    "        ticker_data = yf.Ticker(ticker)\n",
    "        hist = ticker_data.history(period=\"1y\")  # Get 1-year historical data\n",
    "        \n",
    "        # Check if there is enough data\n",
    "        if len(hist) > 0:\n",
    "            start_price = hist['Close'].iloc[0]  # Price 1 year ago\n",
    "            end_price = hist['Close'].iloc[-1]   # Most recent price\n",
    "            \n",
    "            # Calculate the percentage change\n",
    "            return_percentage = ((end_price - start_price) / start_price) * 100\n",
    "            return_dict[ticker] = return_percentage\n",
    "        else:\n",
    "            return_dict[ticker] = None  # Handle case where data is not available\n",
    "\n",
    "    return return_dict"
   ]
  },
  {
   "cell_type": "code",
   "execution_count": null,
   "metadata": {},
   "outputs": [],
   "source": [
    "# Example Portfolio Data\n",
    "portfolio = {\n",
    "\n",
    "    ### Wealthsimple TFSA & (FHSA) ###\n",
    "    'AAPL': 17.8658, 'ADBE': 10,\n",
    "    'ATD.TO': 9, 'CCO.TO': 9.3874,\n",
    "    'CNQ.TO': 9+(0.2347), 'COST': 26.7886,\n",
    "    # 'CVE': 0 (SOLD),\n",
    "    'EBIT.TO': 7+(4), 'ERO.TO': 32.036+(1),\n",
    "    'FAST': 7.7728, 'FCX': 16, \n",
    "    'K.TO': 11.5485+(2), 'LEU': 6,\n",
    "    'MATR.TO': 39, \n",
    "    'MCO': 0.5636, 'META': 13.5995,\n",
    "    'MOD': 8, 'MSFT': 33, \n",
    "    'NFLX': 1.6782, 'NTR': 3.2221,\n",
    "    'NVDA': 35, 'PG': 7, \n",
    "    'PHYS': 1.4343+(1), # 'QBR-B.TO': 0 (SOLD), \n",
    "    'RKLB': 207+(25), 'RMD': 1.3009, \n",
    "    'TECK-A.TO': 4.2728, 'TSM': 5.874,\n",
    "    'U': 25.9426, 'UEC': 20, \n",
    "    'URNM': 3, 'VFV.TO': 21.4385, \n",
    "    'V': 13, # 'XID.TO': 0 (SOLD),\n",
    "\n",
    "    # ### Wealthsimple TFSA ###\n",
    "    # 'AAPL': 17.8658, 'ADBE': 10,\n",
    "    # 'ATD.TO': 9, 'CCO.TO': 9.3874,\n",
    "    # 'CNQ.TO': 9, 'COST': 26.7886,\n",
    "    # # 'CVE': 0 (SOLD),\n",
    "    # 'EBIT.TO': 7, 'ERO.TO': 32.036,\n",
    "    # 'FAST': 7.7728, 'FCX': 16, \n",
    "    # 'K.TO': 11.5485, 'LEU': 6,\n",
    "    # 'MATR.TO': 39, \n",
    "    # 'MCO': 0.5636, 'META': 13.5995,\n",
    "    # 'MOD': 8, 'MSFT': 33, \n",
    "    # 'NFLX': 1.6782, 'NTR': 3.2221,\n",
    "    # 'NVDA': 35, 'PG': 7, \n",
    "    # 'PHYS': 1.4343, # 'QBR-B.TO': 0 (SOLD), \n",
    "    # 'RKLB': 207, 'RMD': 1.3009, \n",
    "    # 'TECK-A.TO': 4.2728, 'TSM': 5.874,\n",
    "    # 'U': 25.9426, 'UEC': 20, \n",
    "    # 'URNM': 3, 'VFV.TO': 21.4385, \n",
    "    # 'V': 13, # 'XID.TO': 0 (SOLD),\n",
    "\n",
    "    ### Crypto.com ###\n",
    "    'BTC-USD': 0.03070794,\n",
    "\n",
    "    ### Interactive Brokers ###\n",
    "    'RYCEY': 12, 'HTHIY': 4,\n",
    "\n",
    "    ### Wealthsimple FHSA ###\n",
    "    # 'CNQ.TO': 0.2347, 'EBIT.TO': 4,\n",
    "    # 'ERO.TO': 1, 'K.TO': 2,\n",
    "    # 'PHYS': 1, 'RKLB': 25,\n",
    "}"
   ]
  },
  {
   "cell_type": "code",
   "execution_count": null,
   "metadata": {},
   "outputs": [],
   "source": [
    "# Example: New dict of tickers and their updated prices\n",
    "price_updates = {\n",
    "    'AAPL': 34.43,\n",
    "    'ADBE': 20.98,\n",
    "    'COST': 45.05,\n",
    "    'META':31.86,\n",
    "    'MSFT':31.26,\n",
    "    'NVDA':32.02,\n",
    "    'PG':30.74,\n",
    "    'V':29.59,\n",
    "}\n",
    "\n",
    "# Currency of the updated price (either 'USD' or 'CAD')\n",
    "currency_updates = {\n",
    "    'AAPL': 'CAD',\n",
    "    'ADBE': 'CAD',\n",
    "    'COST': 'CAD',\n",
    "    'META':'CAD',\n",
    "    'MSFT':'CAD',\n",
    "    'NVDA':'CAD',\n",
    "    'PG':'CAD',\n",
    "    'V':'CAD',\n",
    "}"
   ]
  },
  {
   "cell_type": "code",
   "execution_count": null,
   "metadata": {},
   "outputs": [
    {
     "name": "stdout",
     "output_type": "stream",
     "text": [
      "----------------------------------------------------------------------------------\n"
     ]
    },
    {
     "data": {
      "text/html": [
       "<img src=\"https://img.logo.dev/rocketlabusa.com?token=pk_Gq2oOGVWQpiDsXzAK1BOGA&size=200&format=png\" width=\"100\" height=\"100\"/>"
      ],
      "text/plain": [
       "<IPython.core.display.Image object>"
      ]
     },
     "metadata": {},
     "output_type": "display_data"
    },
    {
     "name": "stdout",
     "output_type": "stream",
     "text": [
      "Ticker Name: Rocket Lab USA, Inc.\n",
      "Total Value (CAD): $7,866.06\n",
      "1-Year Return: 443.15%\n",
      "----------------------------------------------------------------------------------\n",
      "Ticker Name: Bitcoin USD\n",
      "Total Value (CAD): $4,324.48\n",
      "1-Year Return: 127.74%\n",
      "----------------------------------------------------------------------------------\n",
      "Ticker Name: Vanguard S&P 500 Index ETF\n",
      "Total Value (CAD): $3,250.72\n",
      "1-Year Return: 38.94%\n",
      "----------------------------------------------------------------------------------\n"
     ]
    },
    {
     "data": {
      "text/html": [
       "<img src=\"https://img.logo.dev/netflix.com?token=pk_Gq2oOGVWQpiDsXzAK1BOGA&size=200&format=png\" width=\"100\" height=\"100\"/>"
      ],
      "text/plain": [
       "<IPython.core.display.Image object>"
      ]
     },
     "metadata": {},
     "output_type": "display_data"
    },
    {
     "name": "stdout",
     "output_type": "stream",
     "text": [
      "Ticker Name: Netflix, Inc.\n",
      "Total Value (CAD): $2,172.64\n",
      "1-Year Return: 102.77%\n",
      "----------------------------------------------------------------------------------\n"
     ]
    },
    {
     "data": {
      "text/html": [
       "<img src=\"https://img.logo.dev/tsmc.com?token=pk_Gq2oOGVWQpiDsXzAK1BOGA&size=200&format=png\" width=\"100\" height=\"100\"/>"
      ],
      "text/plain": [
       "<IPython.core.display.Image object>"
      ]
     },
     "metadata": {},
     "output_type": "display_data"
    },
    {
     "name": "stdout",
     "output_type": "stream",
     "text": [
      "Ticker Name: Taiwan Semiconductor Manufacturing Company Limited\n",
      "Total Value (CAD): $1,685.57\n",
      "1-Year Return: 114.86%\n",
      "----------------------------------------------------------------------------------\n"
     ]
    },
    {
     "data": {
      "text/html": [
       "<img src=\"https://img.logo.dev/modine.com?token=pk_Gq2oOGVWQpiDsXzAK1BOGA&size=200&format=png\" width=\"100\" height=\"100\"/>"
      ],
      "text/plain": [
       "<IPython.core.display.Image object>"
      ]
     },
     "metadata": {},
     "output_type": "display_data"
    },
    {
     "name": "stdout",
     "output_type": "stream",
     "text": [
      "Ticker Name: Modine Manufacturing Company\n",
      "Total Value (CAD): $1,546.10\n",
      "1-Year Return: 163.67%\n",
      "----------------------------------------------------------------------------------\n"
     ]
    },
    {
     "data": {
      "text/html": [
       "<img src=\"https://img.logo.dev/costco.com?token=pk_Gq2oOGVWQpiDsXzAK1BOGA&size=200&format=png\" width=\"100\" height=\"100\"/>"
      ],
      "text/plain": [
       "<IPython.core.display.Image object>"
      ]
     },
     "metadata": {},
     "output_type": "display_data"
    },
    {
     "name": "stdout",
     "output_type": "stream",
     "text": [
      "Ticker Name: Costco Wholesale Corporation\n",
      "Total Value (CAD): $1,206.83\n",
      "1-Year Return: 67.51%\n",
      "----------------------------------------------------------------------------------\n"
     ]
    },
    {
     "data": {
      "text/html": [
       "<img src=\"https://img.logo.dev/nvidia.com?token=pk_Gq2oOGVWQpiDsXzAK1BOGA&size=200&format=png\" width=\"100\" height=\"100\"/>"
      ],
      "text/plain": [
       "<IPython.core.display.Image object>"
      ]
     },
     "metadata": {},
     "output_type": "display_data"
    },
    {
     "name": "stdout",
     "output_type": "stream",
     "text": [
      "Ticker Name: NVIDIA Corporation\n",
      "Total Value (CAD): $1,120.70\n",
      "1-Year Return: 211.75%\n",
      "----------------------------------------------------------------------------------\n"
     ]
    },
    {
     "data": {
      "text/html": [
       "<img src=\"https://img.logo.dev/microsoft.com?token=pk_Gq2oOGVWQpiDsXzAK1BOGA&size=200&format=png\" width=\"100\" height=\"100\"/>"
      ],
      "text/plain": [
       "<IPython.core.display.Image object>"
      ]
     },
     "metadata": {},
     "output_type": "display_data"
    },
    {
     "name": "stdout",
     "output_type": "stream",
     "text": [
      "Ticker Name: Microsoft Corporation\n",
      "Total Value (CAD): $1,031.58\n",
      "1-Year Return: 19.86%\n",
      "----------------------------------------------------------------------------------\n"
     ]
    },
    {
     "data": {
      "text/html": [
       "<img src=\"https://img.logo.dev/unity.com?token=pk_Gq2oOGVWQpiDsXzAK1BOGA&size=200&format=png\" width=\"100\" height=\"100\"/>"
      ],
      "text/plain": [
       "<IPython.core.display.Image object>"
      ]
     },
     "metadata": {},
     "output_type": "display_data"
    },
    {
     "name": "stdout",
     "output_type": "stream",
     "text": [
      "Ticker Name: Unity Software Inc.\n",
      "Total Value (CAD): $1,012.43\n",
      "1-Year Return: -11.04%\n",
      "----------------------------------------------------------------------------------\n"
     ]
    },
    {
     "data": {
      "text/html": [
       "<img src=\"https://img.logo.dev/fcx.com?token=pk_Gq2oOGVWQpiDsXzAK1BOGA&size=200&format=png\" width=\"100\" height=\"100\"/>"
      ],
      "text/plain": [
       "<IPython.core.display.Image object>"
      ]
     },
     "metadata": {},
     "output_type": "display_data"
    },
    {
     "name": "stdout",
     "output_type": "stream",
     "text": [
      "Ticker Name: Freeport-McMoRan Inc.\n",
      "Total Value (CAD): $960.97\n",
      "1-Year Return: 18.55%\n",
      "----------------------------------------------------------------------------------\n"
     ]
    },
    {
     "data": {
      "text/html": [
       "<img src=\"https://img.logo.dev/fastenal.com?token=pk_Gq2oOGVWQpiDsXzAK1BOGA&size=200&format=png\" width=\"100\" height=\"100\"/>"
      ],
      "text/plain": [
       "<IPython.core.display.Image object>"
      ]
     },
     "metadata": {},
     "output_type": "display_data"
    },
    {
     "name": "stdout",
     "output_type": "stream",
     "text": [
      "Ticker Name: Fastenal Company\n",
      "Total Value (CAD): $893.22\n",
      "1-Year Return: 37.89%\n",
      "----------------------------------------------------------------------------------\n"
     ]
    },
    {
     "data": {
      "text/html": [
       "<img src=\"https://img.logo.dev/cameco.com?token=pk_Gq2oOGVWQpiDsXzAK1BOGA&size=200&format=png\" width=\"100\" height=\"100\"/>"
      ],
      "text/plain": [
       "<IPython.core.display.Image object>"
      ]
     },
     "metadata": {},
     "output_type": "display_data"
    },
    {
     "name": "stdout",
     "output_type": "stream",
     "text": [
      "Ticker Name: Cameco Corporation\n",
      "Total Value (CAD): $804.69\n",
      "1-Year Return: 37.92%\n",
      "----------------------------------------------------------------------------------\n"
     ]
    },
    {
     "data": {
      "text/html": [
       "<img src=\"https://img.logo.dev/corpo.couche-tard.com?token=pk_Gq2oOGVWQpiDsXzAK1BOGA&size=200&format=png\" width=\"100\" height=\"100\"/>"
      ],
      "text/plain": [
       "<IPython.core.display.Image object>"
      ]
     },
     "metadata": {},
     "output_type": "display_data"
    },
    {
     "name": "stdout",
     "output_type": "stream",
     "text": [
      "Ticker Name: Alimentation Couche-Tard Inc.\n",
      "Total Value (CAD): $738.00\n",
      "1-Year Return: 7.00%\n",
      "----------------------------------------------------------------------------------\n"
     ]
    },
    {
     "data": {
      "text/html": [
       "<img src=\"https://img.logo.dev/erocopper.com?token=pk_Gq2oOGVWQpiDsXzAK1BOGA&size=200&format=png\" width=\"100\" height=\"100\"/>"
      ],
      "text/plain": [
       "<IPython.core.display.Image object>"
      ]
     },
     "metadata": {},
     "output_type": "display_data"
    },
    {
     "name": "stdout",
     "output_type": "stream",
     "text": [
      "Ticker Name: Ero Copper Corp.\n",
      "Total Value (CAD): $687.15\n",
      "1-Year Return: 20.02%\n",
      "----------------------------------------------------------------------------------\n"
     ]
    },
    {
     "data": {
      "text/html": [
       "<img src=\"https://img.logo.dev/centrusenergy.com?token=pk_Gq2oOGVWQpiDsXzAK1BOGA&size=200&format=png\" width=\"100\" height=\"100\"/>"
      ],
      "text/plain": [
       "<IPython.core.display.Image object>"
      ]
     },
     "metadata": {},
     "output_type": "display_data"
    },
    {
     "name": "stdout",
     "output_type": "stream",
     "text": [
      "Ticker Name: Centrus Energy Corp.\n",
      "Total Value (CAD): $666.65\n",
      "1-Year Return: 56.84%\n",
      "----------------------------------------------------------------------------------\n"
     ]
    },
    {
     "data": {
      "text/html": [
       "<img src=\"https://img.logo.dev/apple.com?token=pk_Gq2oOGVWQpiDsXzAK1BOGA&size=200&format=png\" width=\"100\" height=\"100\"/>"
      ],
      "text/plain": [
       "<IPython.core.display.Image object>"
      ]
     },
     "metadata": {},
     "output_type": "display_data"
    },
    {
     "name": "stdout",
     "output_type": "stream",
     "text": [
      "Ticker Name: Apple Inc.\n",
      "Total Value (CAD): $615.12\n",
      "1-Year Return: 26.28%\n",
      "----------------------------------------------------------------------------------\n",
      "Ticker Name: Bitcoin ETF CAD\n",
      "Total Value (CAD): $554.51\n",
      "1-Year Return: 132.63%\n",
      "----------------------------------------------------------------------------------\n"
     ]
    },
    {
     "data": {
      "text/html": [
       "<img src=\"https://img.logo.dev/mattr.com?token=pk_Gq2oOGVWQpiDsXzAK1BOGA&size=200&format=png\" width=\"100\" height=\"100\"/>"
      ],
      "text/plain": [
       "<IPython.core.display.Image object>"
      ]
     },
     "metadata": {},
     "output_type": "display_data"
    },
    {
     "name": "stdout",
     "output_type": "stream",
     "text": [
      "Ticker Name: Mattr Corp.\n",
      "Total Value (CAD): $542.88\n",
      "1-Year Return: -1.63%\n",
      "----------------------------------------------------------------------------------\n"
     ]
    },
    {
     "data": {
      "text/html": [
       "<img src=\"https://img.logo.dev/resmed.com?token=pk_Gq2oOGVWQpiDsXzAK1BOGA&size=200&format=png\" width=\"100\" height=\"100\"/>"
      ],
      "text/plain": [
       "<IPython.core.display.Image object>"
      ]
     },
     "metadata": {},
     "output_type": "display_data"
    },
    {
     "name": "stdout",
     "output_type": "stream",
     "text": [
      "Ticker Name: ResMed Inc.\n",
      "Total Value (CAD): $436.06\n",
      "1-Year Return: 49.85%\n",
      "----------------------------------------------------------------------------------\n"
     ]
    },
    {
     "data": {
      "text/html": [
       "<img src=\"https://img.logo.dev/investor.fb.com?token=pk_Gq2oOGVWQpiDsXzAK1BOGA&size=200&format=png\" width=\"100\" height=\"100\"/>"
      ],
      "text/plain": [
       "<IPython.core.display.Image object>"
      ]
     },
     "metadata": {},
     "output_type": "display_data"
    },
    {
     "name": "stdout",
     "output_type": "stream",
     "text": [
      "Ticker Name: Meta Platforms, Inc.\n",
      "Total Value (CAD): $433.28\n",
      "1-Year Return: 92.03%\n",
      "----------------------------------------------------------------------------------\n"
     ]
    },
    {
     "data": {
      "text/html": [
       "<img src=\"https://img.logo.dev/cnrl.com?token=pk_Gq2oOGVWQpiDsXzAK1BOGA&size=200&format=png\" width=\"100\" height=\"100\"/>"
      ],
      "text/plain": [
       "<IPython.core.display.Image object>"
      ]
     },
     "metadata": {},
     "output_type": "display_data"
    },
    {
     "name": "stdout",
     "output_type": "stream",
     "text": [
      "Ticker Name: Canadian Natural Resources Limited\n",
      "Total Value (CAD): $431.86\n",
      "1-Year Return: 8.50%\n",
      "----------------------------------------------------------------------------------\n"
     ]
    },
    {
     "data": {
      "text/html": [
       "<img src=\"https://img.logo.dev/moodys.com?token=pk_Gq2oOGVWQpiDsXzAK1BOGA&size=200&format=png\" width=\"100\" height=\"100\"/>"
      ],
      "text/plain": [
       "<IPython.core.display.Image object>"
      ]
     },
     "metadata": {},
     "output_type": "display_data"
    },
    {
     "name": "stdout",
     "output_type": "stream",
     "text": [
      "Ticker Name: Moody's Corporation\n",
      "Total Value (CAD): $389.11\n",
      "1-Year Return: 32.06%\n",
      "----------------------------------------------------------------------------------\n"
     ]
    },
    {
     "data": {
      "text/html": [
       "<img src=\"https://img.logo.dev/visa.com?token=pk_Gq2oOGVWQpiDsXzAK1BOGA&size=200&format=png\" width=\"100\" height=\"100\"/>"
      ],
      "text/plain": [
       "<IPython.core.display.Image object>"
      ]
     },
     "metadata": {},
     "output_type": "display_data"
    },
    {
     "name": "stdout",
     "output_type": "stream",
     "text": [
      "Ticker Name: Visa Inc.\n",
      "Total Value (CAD): $384.67\n",
      "1-Year Return: 22.49%\n",
      "----------------------------------------------------------------------------------\n"
     ]
    },
    {
     "data": {
      "text/html": [
       "<img src=\"https://img.logo.dev/hitachi.co.jp?token=pk_Gq2oOGVWQpiDsXzAK1BOGA&size=200&format=png\" width=\"100\" height=\"100\"/>"
      ],
      "text/plain": [
       "<IPython.core.display.Image object>"
      ]
     },
     "metadata": {},
     "output_type": "display_data"
    },
    {
     "name": "stdout",
     "output_type": "stream",
     "text": [
      "Ticker Name: Hitachi, Ltd.\n",
      "Total Value (CAD): $305.98\n",
      "1-Year Return: 97.20%\n",
      "----------------------------------------------------------------------------------\n"
     ]
    },
    {
     "data": {
      "text/html": [
       "<img src=\"https://img.logo.dev/teck.com?token=pk_Gq2oOGVWQpiDsXzAK1BOGA&size=200&format=png\" width=\"100\" height=\"100\"/>"
      ],
      "text/plain": [
       "<IPython.core.display.Image object>"
      ]
     },
     "metadata": {},
     "output_type": "display_data"
    },
    {
     "name": "stdout",
     "output_type": "stream",
     "text": [
      "Ticker Name: Teck Resources Limited\n",
      "Total Value (CAD): $271.79\n",
      "1-Year Return: 29.80%\n",
      "----------------------------------------------------------------------------------\n"
     ]
    },
    {
     "data": {
      "text/html": [
       "<img src=\"https://img.logo.dev/uraniumenergy.com?token=pk_Gq2oOGVWQpiDsXzAK1BOGA&size=200&format=png\" width=\"100\" height=\"100\"/>"
      ],
      "text/plain": [
       "<IPython.core.display.Image object>"
      ]
     },
     "metadata": {},
     "output_type": "display_data"
    },
    {
     "name": "stdout",
     "output_type": "stream",
     "text": [
      "Ticker Name: Uranium Energy Corp.\n",
      "Total Value (CAD): $244.06\n",
      "1-Year Return: 30.75%\n",
      "----------------------------------------------------------------------------------\n"
     ]
    },
    {
     "data": {
      "text/html": [
       "<img src=\"https://img.logo.dev/nutrien.com?token=pk_Gq2oOGVWQpiDsXzAK1BOGA&size=200&format=png\" width=\"100\" height=\"100\"/>"
      ],
      "text/plain": [
       "<IPython.core.display.Image object>"
      ]
     },
     "metadata": {},
     "output_type": "display_data"
    },
    {
     "name": "stdout",
     "output_type": "stream",
     "text": [
      "Ticker Name: Nutrien Ltd.\n",
      "Total Value (CAD): $217.00\n",
      "1-Year Return: -6.25%\n",
      "----------------------------------------------------------------------------------\n"
     ]
    },
    {
     "data": {
      "text/html": [
       "<img src=\"https://img.logo.dev/pginvestor.com?token=pk_Gq2oOGVWQpiDsXzAK1BOGA&size=200&format=png\" width=\"100\" height=\"100\"/>"
      ],
      "text/plain": [
       "<IPython.core.display.Image object>"
      ]
     },
     "metadata": {},
     "output_type": "display_data"
    },
    {
     "name": "stdout",
     "output_type": "stream",
     "text": [
      "Ticker Name: The Procter & Gamble Company\n",
      "Total Value (CAD): $215.18\n",
      "1-Year Return: 22.93%\n",
      "----------------------------------------------------------------------------------\n"
     ]
    },
    {
     "data": {
      "text/html": [
       "<img src=\"https://img.logo.dev/adobe.com?token=pk_Gq2oOGVWQpiDsXzAK1BOGA&size=200&format=png\" width=\"100\" height=\"100\"/>"
      ],
      "text/plain": [
       "<IPython.core.display.Image object>"
      ]
     },
     "metadata": {},
     "output_type": "display_data"
    },
    {
     "name": "stdout",
     "output_type": "stream",
     "text": [
      "Ticker Name: Adobe Inc.\n",
      "Total Value (CAD): $209.80\n",
      "1-Year Return: -10.75%\n",
      "----------------------------------------------------------------------------------\n",
      "Ticker Name: Sprott Uranium Miners ETF\n",
      "Total Value (CAD): $202.55\n",
      "1-Year Return: 1.72%\n",
      "----------------------------------------------------------------------------------\n"
     ]
    },
    {
     "data": {
      "text/html": [
       "<img src=\"https://img.logo.dev/kinross.com?token=pk_Gq2oOGVWQpiDsXzAK1BOGA&size=200&format=png\" width=\"100\" height=\"100\"/>"
      ],
      "text/plain": [
       "<IPython.core.display.Image object>"
      ]
     },
     "metadata": {},
     "output_type": "display_data"
    },
    {
     "name": "stdout",
     "output_type": "stream",
     "text": [
      "Ticker Name: Kinross Gold Corporation\n",
      "Total Value (CAD): $188.73\n",
      "1-Year Return: 79.35%\n",
      "----------------------------------------------------------------------------------\n"
     ]
    },
    {
     "data": {
      "text/html": [
       "<img src=\"https://img.logo.dev/rolls-royce.com?token=pk_Gq2oOGVWQpiDsXzAK1BOGA&size=200&format=png\" width=\"100\" height=\"100\"/>"
      ],
      "text/plain": [
       "<IPython.core.display.Image object>"
      ]
     },
     "metadata": {},
     "output_type": "display_data"
    },
    {
     "name": "stdout",
     "output_type": "stream",
     "text": [
      "Ticker Name: Rolls-Royce Holdings plc\n",
      "Total Value (CAD): $127.43\n",
      "1-Year Return: 112.04%\n",
      "----------------------------------------------------------------------------------\n",
      "Ticker Name: Sprott Physical Gold Trust\n",
      "Total Value (CAD): $69.07\n",
      "1-Year Return: 28.52%\n",
      "----------------------------------------------------------------------------------\n"
     ]
    }
   ],
   "source": [
    "\n",
    "# Fetch the USD to CAD exchange rate\n",
    "usd_cad_rate = yf.Ticker('USDCAD=X').history(period=\"1d\")['Close'].iloc[0]\n",
    "\n",
    "# Call the initial function to get the portfolio information\n",
    "df_data = get_basicInfo(portfolio)\n",
    "\n",
    "# Update the DataFrame with the new prices\n",
    "df_data_updated = update_ticker_prices(df_data, price_updates, portfolio, usd_cad_rate, currency_updates)\n",
    "\n",
    "# Sort the DataFrame by 'Total Value (CAD)' numerically (before formatting)\n",
    "df_data_updated = df_data_updated.sort_values(by='Total Value (CAD)', ascending=False)\n",
    "\n",
    "# Format the numeric columns as currency (USD and CAD) after sorting\n",
    "df_data_updated['Current Price'] = df_data_updated['Current Price'].apply(lambda x: f\"${x:,.2f}\")\n",
    "df_data_updated['Total Value (Base)'] = df_data_updated['Total Value (Base)'].apply(lambda x: f\"${x:,.2f}\")\n",
    "df_data_updated['Total Value (CAD)'] = df_data_updated['Total Value (CAD)'].apply(lambda x: f\"${x:,.2f}\")\n",
    "\n",
    "# Get 1y returns\n",
    "return_dict = get_1y_return(portfolio)\n",
    "\n",
    "print('----------------------------------------------------------------------------------')\n",
    "\n",
    "# Display the logos in the notebook (for each ticker in the portfolio)\n",
    "# Display the logos and additional information in the notebook (for each ticker in the portfolio)\n",
    "for index, row in df_data_updated.iterrows():\n",
    "    logo_url = row['Logo URL']\n",
    "    if logo_url:\n",
    "        display(Image(url=logo_url, width=100, height=100))  # This will display the image in the notebook\n",
    "    \n",
    "    # Get the 1-year return for the ticker\n",
    "    ticker_name = row['Ticker Name']\n",
    "    ticker_symbol = row['Ticker']\n",
    "    total_value_cad = row['Total Value (CAD)']\n",
    "    \n",
    "    # Get 1-year return from return_dict, using ticker_symbol to match\n",
    "    one_year_return = return_dict.get(ticker_symbol, None)\n",
    "    \n",
    "    # If return is None, display 'No data' for that ticker's 1-year return\n",
    "    if one_year_return is not None:\n",
    "        one_year_return_str = f\"{one_year_return:.2f}%\"\n",
    "    else:\n",
    "        one_year_return_str = 'No data available'\n",
    "\n",
    "    # Print the information for each ticker\n",
    "    print(f\"Ticker Name: {ticker_name}\")\n",
    "    print(f\"Total Value (CAD): {total_value_cad}\")\n",
    "    print(f\"1-Year Return: {one_year_return_str}\")\n",
    "    print('----------------------------------------------------------------------------------')\n",
    "# The updated DataFrame with logos is ready!\n",
    "    \n",
    "    df_data_updated"
   ]
  },
  {
   "cell_type": "code",
   "execution_count": null,
   "metadata": {},
   "outputs": [
    {
     "data": {
      "text/html": [
       "<div>\n",
       "<style scoped>\n",
       "    .dataframe tbody tr th:only-of-type {\n",
       "        vertical-align: middle;\n",
       "    }\n",
       "\n",
       "    .dataframe tbody tr th {\n",
       "        vertical-align: top;\n",
       "    }\n",
       "\n",
       "    .dataframe thead th {\n",
       "        text-align: right;\n",
       "    }\n",
       "</style>\n",
       "<table border=\"1\" class=\"dataframe\">\n",
       "  <thead>\n",
       "    <tr style=\"text-align: right;\">\n",
       "      <th></th>\n",
       "      <th>Ticker</th>\n",
       "      <th>Ticker Name</th>\n",
       "      <th>Total Value (CAD)</th>\n",
       "    </tr>\n",
       "  </thead>\n",
       "  <tbody>\n",
       "    <tr>\n",
       "      <th>22</th>\n",
       "      <td>RKLB</td>\n",
       "      <td>Rocket Lab USA, Inc.</td>\n",
       "      <td>$7,866.06</td>\n",
       "    </tr>\n",
       "    <tr>\n",
       "      <th>31</th>\n",
       "      <td>BTC-USD</td>\n",
       "      <td>Bitcoin USD</td>\n",
       "      <td>$4,324.48</td>\n",
       "    </tr>\n",
       "    <tr>\n",
       "      <th>29</th>\n",
       "      <td>VFV.TO</td>\n",
       "      <td>Vanguard S&amp;P 500 Index ETF</td>\n",
       "      <td>$3,250.72</td>\n",
       "    </tr>\n",
       "    <tr>\n",
       "      <th>17</th>\n",
       "      <td>NFLX</td>\n",
       "      <td>Netflix, Inc.</td>\n",
       "      <td>$2,172.64</td>\n",
       "    </tr>\n",
       "    <tr>\n",
       "      <th>25</th>\n",
       "      <td>TSM</td>\n",
       "      <td>Taiwan Semiconductor Manufacturing Company Lim...</td>\n",
       "      <td>$1,685.57</td>\n",
       "    </tr>\n",
       "    <tr>\n",
       "      <th>15</th>\n",
       "      <td>MOD</td>\n",
       "      <td>Modine Manufacturing Company</td>\n",
       "      <td>$1,546.10</td>\n",
       "    </tr>\n",
       "    <tr>\n",
       "      <th>5</th>\n",
       "      <td>COST</td>\n",
       "      <td>Costco Wholesale Corporation</td>\n",
       "      <td>$1,206.83</td>\n",
       "    </tr>\n",
       "    <tr>\n",
       "      <th>19</th>\n",
       "      <td>NVDA</td>\n",
       "      <td>NVIDIA Corporation</td>\n",
       "      <td>$1,120.70</td>\n",
       "    </tr>\n",
       "    <tr>\n",
       "      <th>16</th>\n",
       "      <td>MSFT</td>\n",
       "      <td>Microsoft Corporation</td>\n",
       "      <td>$1,031.58</td>\n",
       "    </tr>\n",
       "    <tr>\n",
       "      <th>26</th>\n",
       "      <td>U</td>\n",
       "      <td>Unity Software Inc.</td>\n",
       "      <td>$1,012.43</td>\n",
       "    </tr>\n",
       "    <tr>\n",
       "      <th>9</th>\n",
       "      <td>FCX</td>\n",
       "      <td>Freeport-McMoRan Inc.</td>\n",
       "      <td>$960.97</td>\n",
       "    </tr>\n",
       "    <tr>\n",
       "      <th>8</th>\n",
       "      <td>FAST</td>\n",
       "      <td>Fastenal Company</td>\n",
       "      <td>$893.22</td>\n",
       "    </tr>\n",
       "    <tr>\n",
       "      <th>3</th>\n",
       "      <td>CCO.TO</td>\n",
       "      <td>Cameco Corporation</td>\n",
       "      <td>$804.69</td>\n",
       "    </tr>\n",
       "    <tr>\n",
       "      <th>2</th>\n",
       "      <td>ATD.TO</td>\n",
       "      <td>Alimentation Couche-Tard Inc.</td>\n",
       "      <td>$738.00</td>\n",
       "    </tr>\n",
       "    <tr>\n",
       "      <th>7</th>\n",
       "      <td>ERO.TO</td>\n",
       "      <td>Ero Copper Corp.</td>\n",
       "      <td>$687.15</td>\n",
       "    </tr>\n",
       "    <tr>\n",
       "      <th>11</th>\n",
       "      <td>LEU</td>\n",
       "      <td>Centrus Energy Corp.</td>\n",
       "      <td>$666.65</td>\n",
       "    </tr>\n",
       "    <tr>\n",
       "      <th>0</th>\n",
       "      <td>AAPL</td>\n",
       "      <td>Apple Inc.</td>\n",
       "      <td>$615.12</td>\n",
       "    </tr>\n",
       "    <tr>\n",
       "      <th>6</th>\n",
       "      <td>EBIT.TO</td>\n",
       "      <td>Bitcoin ETF CAD</td>\n",
       "      <td>$554.51</td>\n",
       "    </tr>\n",
       "    <tr>\n",
       "      <th>12</th>\n",
       "      <td>MATR.TO</td>\n",
       "      <td>Mattr Corp.</td>\n",
       "      <td>$542.88</td>\n",
       "    </tr>\n",
       "    <tr>\n",
       "      <th>23</th>\n",
       "      <td>RMD</td>\n",
       "      <td>ResMed Inc.</td>\n",
       "      <td>$436.06</td>\n",
       "    </tr>\n",
       "    <tr>\n",
       "      <th>14</th>\n",
       "      <td>META</td>\n",
       "      <td>Meta Platforms, Inc.</td>\n",
       "      <td>$433.28</td>\n",
       "    </tr>\n",
       "    <tr>\n",
       "      <th>4</th>\n",
       "      <td>CNQ.TO</td>\n",
       "      <td>Canadian Natural Resources Limited</td>\n",
       "      <td>$431.86</td>\n",
       "    </tr>\n",
       "    <tr>\n",
       "      <th>13</th>\n",
       "      <td>MCO</td>\n",
       "      <td>Moody's Corporation</td>\n",
       "      <td>$389.11</td>\n",
       "    </tr>\n",
       "    <tr>\n",
       "      <th>30</th>\n",
       "      <td>V</td>\n",
       "      <td>Visa Inc.</td>\n",
       "      <td>$384.67</td>\n",
       "    </tr>\n",
       "    <tr>\n",
       "      <th>33</th>\n",
       "      <td>HTHIY</td>\n",
       "      <td>Hitachi, Ltd.</td>\n",
       "      <td>$305.98</td>\n",
       "    </tr>\n",
       "    <tr>\n",
       "      <th>24</th>\n",
       "      <td>TECK-A.TO</td>\n",
       "      <td>Teck Resources Limited</td>\n",
       "      <td>$271.79</td>\n",
       "    </tr>\n",
       "    <tr>\n",
       "      <th>27</th>\n",
       "      <td>UEC</td>\n",
       "      <td>Uranium Energy Corp.</td>\n",
       "      <td>$244.06</td>\n",
       "    </tr>\n",
       "    <tr>\n",
       "      <th>18</th>\n",
       "      <td>NTR</td>\n",
       "      <td>Nutrien Ltd.</td>\n",
       "      <td>$217.00</td>\n",
       "    </tr>\n",
       "    <tr>\n",
       "      <th>20</th>\n",
       "      <td>PG</td>\n",
       "      <td>The Procter &amp; Gamble Company</td>\n",
       "      <td>$215.18</td>\n",
       "    </tr>\n",
       "    <tr>\n",
       "      <th>1</th>\n",
       "      <td>ADBE</td>\n",
       "      <td>Adobe Inc.</td>\n",
       "      <td>$209.80</td>\n",
       "    </tr>\n",
       "    <tr>\n",
       "      <th>28</th>\n",
       "      <td>URNM</td>\n",
       "      <td>Sprott Uranium Miners ETF</td>\n",
       "      <td>$202.55</td>\n",
       "    </tr>\n",
       "    <tr>\n",
       "      <th>10</th>\n",
       "      <td>K.TO</td>\n",
       "      <td>Kinross Gold Corporation</td>\n",
       "      <td>$188.73</td>\n",
       "    </tr>\n",
       "    <tr>\n",
       "      <th>32</th>\n",
       "      <td>RYCEY</td>\n",
       "      <td>Rolls-Royce Holdings plc</td>\n",
       "      <td>$127.43</td>\n",
       "    </tr>\n",
       "    <tr>\n",
       "      <th>21</th>\n",
       "      <td>PHYS</td>\n",
       "      <td>Sprott Physical Gold Trust</td>\n",
       "      <td>$69.07</td>\n",
       "    </tr>\n",
       "  </tbody>\n",
       "</table>\n",
       "</div>"
      ],
      "text/plain": [
       "       Ticker                                        Ticker Name  \\\n",
       "22       RKLB                               Rocket Lab USA, Inc.   \n",
       "31    BTC-USD                                        Bitcoin USD   \n",
       "29     VFV.TO                         Vanguard S&P 500 Index ETF   \n",
       "17       NFLX                                      Netflix, Inc.   \n",
       "25        TSM  Taiwan Semiconductor Manufacturing Company Lim...   \n",
       "15        MOD                       Modine Manufacturing Company   \n",
       "5        COST                       Costco Wholesale Corporation   \n",
       "19       NVDA                                 NVIDIA Corporation   \n",
       "16       MSFT                              Microsoft Corporation   \n",
       "26          U                                Unity Software Inc.   \n",
       "9         FCX                              Freeport-McMoRan Inc.   \n",
       "8        FAST                                   Fastenal Company   \n",
       "3      CCO.TO                                 Cameco Corporation   \n",
       "2      ATD.TO                      Alimentation Couche-Tard Inc.   \n",
       "7      ERO.TO                                   Ero Copper Corp.   \n",
       "11        LEU                               Centrus Energy Corp.   \n",
       "0        AAPL                                         Apple Inc.   \n",
       "6     EBIT.TO                                    Bitcoin ETF CAD   \n",
       "12    MATR.TO                                        Mattr Corp.   \n",
       "23        RMD                                        ResMed Inc.   \n",
       "14       META                               Meta Platforms, Inc.   \n",
       "4      CNQ.TO                 Canadian Natural Resources Limited   \n",
       "13        MCO                                Moody's Corporation   \n",
       "30          V                                          Visa Inc.   \n",
       "33      HTHIY                                      Hitachi, Ltd.   \n",
       "24  TECK-A.TO                             Teck Resources Limited   \n",
       "27        UEC                               Uranium Energy Corp.   \n",
       "18        NTR                                       Nutrien Ltd.   \n",
       "20         PG                       The Procter & Gamble Company   \n",
       "1        ADBE                                         Adobe Inc.   \n",
       "28       URNM                          Sprott Uranium Miners ETF   \n",
       "10       K.TO                           Kinross Gold Corporation   \n",
       "32      RYCEY                           Rolls-Royce Holdings plc   \n",
       "21       PHYS                         Sprott Physical Gold Trust   \n",
       "\n",
       "   Total Value (CAD)  \n",
       "22         $7,866.06  \n",
       "31         $4,324.48  \n",
       "29         $3,250.72  \n",
       "17         $2,172.64  \n",
       "25         $1,685.57  \n",
       "15         $1,546.10  \n",
       "5          $1,206.83  \n",
       "19         $1,120.70  \n",
       "16         $1,031.58  \n",
       "26         $1,012.43  \n",
       "9            $960.97  \n",
       "8            $893.22  \n",
       "3            $804.69  \n",
       "2            $738.00  \n",
       "7            $687.15  \n",
       "11           $666.65  \n",
       "0            $615.12  \n",
       "6            $554.51  \n",
       "12           $542.88  \n",
       "23           $436.06  \n",
       "14           $433.28  \n",
       "4            $431.86  \n",
       "13           $389.11  \n",
       "30           $384.67  \n",
       "33           $305.98  \n",
       "24           $271.79  \n",
       "27           $244.06  \n",
       "18           $217.00  \n",
       "20           $215.18  \n",
       "1            $209.80  \n",
       "28           $202.55  \n",
       "10           $188.73  \n",
       "32           $127.43  \n",
       "21            $69.07  "
      ]
     },
     "execution_count": 52,
     "metadata": {},
     "output_type": "execute_result"
    }
   ],
   "source": [
    "df_data_updated.drop(columns=['Currency', 'Current Price', 'Total Value (Base)', 'Logo URL'])"
   ]
  },
  {
   "cell_type": "code",
   "execution_count": null,
   "metadata": {},
   "outputs": [],
   "source": []
  }
 ],
 "metadata": {
  "kernelspec": {
   "display_name": "Python 3",
   "language": "python",
   "name": "python3"
  },
  "language_info": {
   "codemirror_mode": {
    "name": "ipython",
    "version": 3
   },
   "file_extension": ".py",
   "mimetype": "text/x-python",
   "name": "python",
   "nbconvert_exporter": "python",
   "pygments_lexer": "ipython3",
   "version": "3.12.3"
  }
 },
 "nbformat": 4,
 "nbformat_minor": 2
}
